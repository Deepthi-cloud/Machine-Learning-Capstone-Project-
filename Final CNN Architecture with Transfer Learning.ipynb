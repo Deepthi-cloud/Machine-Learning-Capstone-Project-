{
 "cells": [
  {
   "cell_type": "code",
   "execution_count": 1,
   "metadata": {
    "_cell_guid": "b1076dfc-b9ad-4769-8c92-a6c4dae69d19",
    "_uuid": "8f2839f25d086af736a60e9eeb907d3b93b6e0e5"
   },
   "outputs": [
    {
     "name": "stdout",
     "output_type": "stream",
     "text": [
      "['train', 'test', 'train.csv', 'sample_submission.csv']\n"
     ]
    }
   ],
   "source": [
    "# This Python 3 environment comes with many helpful analytics libraries installed\n",
    "# It is defined by the kaggle/python docker image: https://github.com/kaggle/docker-python\n",
    "# For example, here's several helpful packages to load in \n",
    "\n",
    "import numpy as np # linear algebra\n",
    "import pandas as pd # data processing, CSV file I/O (e.g. pd.read_csv)\n",
    "\n",
    "# Input data files are available in the \"../input/\" directory.\n",
    "# For example, running this (by clicking run or pressing Shift+Enter) will list the files in the input directory\n",
    "\n",
    "import os\n",
    "print(os.listdir(\"../input\"))\n",
    "\n",
    "# Any results you write to the current directory are saved as output."
   ]
  },
  {
   "cell_type": "code",
   "execution_count": 2,
   "metadata": {},
   "outputs": [
    {
     "name": "stderr",
     "output_type": "stream",
     "text": [
      "Using TensorFlow backend.\n"
     ]
    }
   ],
   "source": [
    "import os,cv2\n",
    "import json\n",
    "from IPython.display import Image\n",
    "from keras.preprocessing import image\n",
    "from keras import optimizers\n",
    "from keras import layers,models\n",
    "from keras.applications.imagenet_utils import preprocess_input\n",
    "import matplotlib.pyplot as plt\n",
    "import seaborn as sns\n",
    "from keras import regularizers\n",
    "from keras.models import Sequential, Model \n",
    "from keras.preprocessing.image import ImageDataGenerator\n",
    "from keras import applications\n",
    "from tqdm import tqdm, tqdm_notebook\n",
    "from keras.layers import Activation, Dropout, Flatten, Dense\n",
    "from keras.applications import VGG16\n",
    "from keras.optimizers import Adam\n",
    "from keras.callbacks import ModelCheckpoint\n",
    "\n"
   ]
  },
  {
   "cell_type": "code",
   "execution_count": 3,
   "metadata": {
    "_cell_guid": "79c7e3d0-c299-4dcb-8224-4455121ee9b0",
    "_uuid": "d629ff2d2480ee46fbb7e2d37f6b5fab8052498a"
   },
   "outputs": [],
   "source": [
    "%load_ext autoreload\n",
    "%autoreload 2\n",
    "\n",
    "%matplotlib inline"
   ]
  },
  {
   "cell_type": "code",
   "execution_count": 4,
   "metadata": {},
   "outputs": [
    {
     "name": "stdout",
     "output_type": "stream",
     "text": [
      "sample_submission.csv  test  train  train.csv\r\n"
     ]
    }
   ],
   "source": [
    "PATH = \"../input\"\n",
    "!ls {PATH}"
   ]
  },
  {
   "cell_type": "code",
   "execution_count": 5,
   "metadata": {},
   "outputs": [],
   "source": [
    "train_dir = \"../input/train/train\"\n",
    "test_dir = \"../input/test/test\""
   ]
  },
  {
   "cell_type": "code",
   "execution_count": 6,
   "metadata": {},
   "outputs": [],
   "source": [
    "df_train = pd.read_csv(f'{PATH}/train.csv',low_memory=False)\n",
    "df_test = pd.read_csv(f'{PATH}/sample_submission.csv',low_memory=False)\n",
    "df_train.has_cactus= df_train.has_cactus.astype(str)"
   ]
  },
  {
   "cell_type": "code",
   "execution_count": 7,
   "metadata": {},
   "outputs": [
    {
     "name": "stdout",
     "output_type": "stream",
     "text": [
      "Shape of Training data: (17500, 2)\n",
      "Features: Index(['id', 'has_cactus'], dtype='object')\n"
     ]
    }
   ],
   "source": [
    "print('Shape of Training data: {}'.format(df_train.shape))\n",
    "print('Features: {}'.format(df_train.columns))"
   ]
  },
  {
   "cell_type": "code",
   "execution_count": 8,
   "metadata": {},
   "outputs": [
    {
     "data": {
      "text/html": [
       "<div>\n",
       "<style scoped>\n",
       "    .dataframe tbody tr th:only-of-type {\n",
       "        vertical-align: middle;\n",
       "    }\n",
       "\n",
       "    .dataframe tbody tr th {\n",
       "        vertical-align: top;\n",
       "    }\n",
       "\n",
       "    .dataframe thead th {\n",
       "        text-align: right;\n",
       "    }\n",
       "</style>\n",
       "<table border=\"1\" class=\"dataframe\">\n",
       "  <thead>\n",
       "    <tr style=\"text-align: right;\">\n",
       "      <th></th>\n",
       "      <th>id</th>\n",
       "      <th>has_cactus</th>\n",
       "    </tr>\n",
       "  </thead>\n",
       "  <tbody>\n",
       "    <tr>\n",
       "      <th>17495</th>\n",
       "      <td>ffede47a74e47a5930f81c0b6896479e.jpg</td>\n",
       "      <td>0</td>\n",
       "    </tr>\n",
       "    <tr>\n",
       "      <th>17496</th>\n",
       "      <td>ffef6382a50d23251d4bc05519c91037.jpg</td>\n",
       "      <td>1</td>\n",
       "    </tr>\n",
       "    <tr>\n",
       "      <th>17497</th>\n",
       "      <td>fff059ecc91b30be5745e8b81111dc7b.jpg</td>\n",
       "      <td>1</td>\n",
       "    </tr>\n",
       "    <tr>\n",
       "      <th>17498</th>\n",
       "      <td>fff43acb3b7a23edcc4ae937be2b7522.jpg</td>\n",
       "      <td>0</td>\n",
       "    </tr>\n",
       "    <tr>\n",
       "      <th>17499</th>\n",
       "      <td>fffd9e9b990eba07c836745d8aef1a3a.jpg</td>\n",
       "      <td>1</td>\n",
       "    </tr>\n",
       "  </tbody>\n",
       "</table>\n",
       "</div>"
      ],
      "text/plain": [
       "                                         id has_cactus\n",
       "17495  ffede47a74e47a5930f81c0b6896479e.jpg          0\n",
       "17496  ffef6382a50d23251d4bc05519c91037.jpg          1\n",
       "17497  fff059ecc91b30be5745e8b81111dc7b.jpg          1\n",
       "17498  fff43acb3b7a23edcc4ae937be2b7522.jpg          0\n",
       "17499  fffd9e9b990eba07c836745d8aef1a3a.jpg          1"
      ]
     },
     "execution_count": 8,
     "metadata": {},
     "output_type": "execute_result"
    }
   ],
   "source": [
    "df_train.tail()"
   ]
  },
  {
   "cell_type": "code",
   "execution_count": 9,
   "metadata": {},
   "outputs": [
    {
     "data": {
      "image/png": "[encoded data removed]",
      "text/plain": [
       "<Figure size 432x360 with 1 Axes>"
      ]
     },
     "metadata": {
      "needs_background": "light"
     },
     "output_type": "display_data"
    }
   ],
   "source": [
    "plt.figure(figsize = (6,5))\n",
    "sns.set(style=\"darkgrid\")\n",
    "ax = sns.countplot(x = 'has_cactus',hue='has_cactus',data = df_train)\n",
    "plt.xticks(rotation='vertical')\n",
    "plt.xlabel('Count of Each Category', fontsize=12)\n",
    "plt.ylabel('Number of Occurrences', fontsize=12)\n",
    "plt.show()"
   ]
  },
  {
   "cell_type": "code",
   "execution_count": 10,
   "metadata": {},
   "outputs": [
    {
     "data": {
      "text/plain": [
       "1    13136\n",
       "0     4364\n",
       "Name: has_cactus, dtype: int64"
      ]
     },
     "execution_count": 10,
     "metadata": {},
     "output_type": "execute_result"
    }
   ],
   "source": [
    "df_train['has_cactus'].value_counts()"
   ]
  },
  {
   "cell_type": "code",
   "execution_count": 11,
   "metadata": {},
   "outputs": [
    {
     "data": {
      "text/plain": [
       "<matplotlib.image.AxesImage at 0x7f9fe924d6a0>"
      ]
     },
     "execution_count": 11,
     "metadata": {},
     "output_type": "execute_result"
    },
    {
     "data": {
      "image/png": "[encoded data removed]",
      "text/plain": [
       "<Figure size 432x288 with 1 Axes>"
      ]
     },
     "metadata": {},
     "output_type": "display_data"
    }
   ],
   "source": [
    "im = cv2.imread(\"../input/train/train/01e30c0ba6e91343a12d2126fcafc0dd.jpg\")\n",
    "plt.imshow(im)"
   ]
  },
  {
   "cell_type": "code",
   "execution_count": 12,
   "metadata": {},
   "outputs": [],
   "source": [
    "train_datagen = ImageDataGenerator(rotation_range=40,\n",
    "        width_shift_range=0.2,\n",
    "        height_shift_range=0.2,\n",
    "        shear_range=0.2,\n",
    "        zoom_range=0.2,\n",
    "        horizontal_flip=True,\n",
    "        fill_mode='nearest')"
   ]
  },
  {
   "cell_type": "markdown",
   "metadata": {},
   "source": [
    "Data Augmentation: https://medium.com/nanonets/how-to-use-deep-learning-when-you-have-limited-data-part-2-data-augmentation-c26971dc8ced"
   ]
  },
  {
   "cell_type": "code",
   "execution_count": 13,
   "metadata": {},
   "outputs": [],
   "source": [
    "valid_datagen = ImageDataGenerator(rescale=1/.255)"
   ]
  },
  {
   "cell_type": "code",
   "execution_count": 14,
   "metadata": {},
   "outputs": [
    {
     "ename": "TypeError",
     "evalue": "'ImageDataGenerator' object is not an iterator",
     "output_type": "error",
     "traceback": [
      "\u001b[0;31m---------------------------------------------------------------------------\u001b[0m",
      "\u001b[0;31mTypeError\u001b[0m                                 Traceback (most recent call last)",
      "\u001b[0;32m<ipython-input-14-c07b02f687ea>\u001b[0m in \u001b[0;36m<module>\u001b[0;34m\u001b[0m\n\u001b[0;32m----> 1\u001b[0;31m \u001b[0mx_train\u001b[0m\u001b[0;34m,\u001b[0m\u001b[0my_train\u001b[0m \u001b[0;34m=\u001b[0m \u001b[0mnext\u001b[0m\u001b[0;34m(\u001b[0m\u001b[0mtrain_datagen\u001b[0m\u001b[0;34m)\u001b[0m\u001b[0;34m\u001b[0m\u001b[0m\n\u001b[0m\u001b[1;32m      2\u001b[0m \u001b[0;34m\u001b[0m\u001b[0m\n\u001b[1;32m      3\u001b[0m \u001b[0mplt\u001b[0m\u001b[0;34m.\u001b[0m\u001b[0mfigure\u001b[0m\u001b[0;34m(\u001b[0m\u001b[0mfigsize\u001b[0m\u001b[0;34m=\u001b[0m\u001b[0;34m(\u001b[0m\u001b[0;36m20\u001b[0m\u001b[0;34m,\u001b[0m\u001b[0;36m10\u001b[0m\u001b[0;34m)\u001b[0m\u001b[0;34m)\u001b[0m\u001b[0;34m\u001b[0m\u001b[0m\n\u001b[1;32m      4\u001b[0m \u001b[0;32mfor\u001b[0m \u001b[0mi\u001b[0m \u001b[0;32min\u001b[0m \u001b[0mrange\u001b[0m\u001b[0;34m(\u001b[0m\u001b[0;36m12\u001b[0m\u001b[0;34m)\u001b[0m\u001b[0;34m:\u001b[0m\u001b[0;34m\u001b[0m\u001b[0m\n\u001b[1;32m      5\u001b[0m     \u001b[0mplt\u001b[0m\u001b[0;34m.\u001b[0m\u001b[0msubplot\u001b[0m\u001b[0;34m(\u001b[0m\u001b[0;36m1\u001b[0m\u001b[0;34m,\u001b[0m\u001b[0;36m12\u001b[0m\u001b[0;34m,\u001b[0m\u001b[0mi\u001b[0m\u001b[0;34m+\u001b[0m\u001b[0;36m1\u001b[0m\u001b[0;34m)\u001b[0m\u001b[0;34m\u001b[0m\u001b[0m\n",
      "\u001b[0;31mTypeError\u001b[0m: 'ImageDataGenerator' object is not an iterator"
     ]
    }
   ],
   "source": [
    "x_train,y_train = next(train_datagen)\n",
    "\n",
    "plt.figure(figsize=(20,10))\n",
    "for i in range(12):\n",
    "    plt.subplot(1,12,i+1)\n",
    "    plt.imshow(x_train[i])"
   ]
  },
  {
   "cell_type": "code",
   "execution_count": 15,
   "metadata": {},
   "outputs": [],
   "source": [
    "batch_size= 32"
   ]
  },
  {
   "cell_type": "code",
   "execution_count": 16,
   "metadata": {},
   "outputs": [
    {
     "name": "stdout",
     "output_type": "stream",
     "text": [
      "Found 15000 validated image filenames belonging to 2 classes.\n"
     ]
    }
   ],
   "source": [
    "train_generator = train_datagen.flow_from_dataframe(df_train[:15000], directory=train_dir, x_col='id', y_col='has_cactus', \n",
    "                    target_size=(150, 150), color_mode='rgb', classes=None, class_mode='binary',\n",
    "                    batch_size=batch_size, \n",
    "                    shuffle=True, seed=None, \n",
    "                    save_to_dir=None, save_prefix='', save_format='png', \n",
    "                    subset=None, interpolation='nearest', drop_duplicates=True)"
   ]
  },
  {
   "cell_type": "code",
   "execution_count": 17,
   "metadata": {},
   "outputs": [
    {
     "name": "stdout",
     "output_type": "stream",
     "text": [
      "Found 2500 validated image filenames belonging to 2 classes.\n"
     ]
    }
   ],
   "source": [
    "valid_generator = valid_datagen.flow_from_dataframe(df_train[15000:], directory=train_dir, x_col='id', y_col='has_cactus', \n",
    "                    target_size=(150, 150), color_mode='rgb', classes=None, \n",
    "                    class_mode='binary', batch_size=batch_size, \n",
    "                    shuffle=True, seed=None, \n",
    "                    save_to_dir=None, save_prefix='', save_format='png', \n",
    "                    subset=None, interpolation='nearest', drop_duplicates=True)"
   ]
  },
  {
   "cell_type": "code",
   "execution_count": 18,
   "metadata": {},
   "outputs": [
    {
     "name": "stdout",
     "output_type": "stream",
     "text": [
      "Downloading data from https://github.com/fchollet/deep-learning-models/releases/download/v0.1/vgg16_weights_tf_dim_ordering_tf_kernels_notop.h5\n",
      "58892288/58889256 [==============================] - 1s 0us/step\n"
     ]
    }
   ],
   "source": [
    "vgg16_net = VGG16(weights='imagenet', \n",
    "                  include_top=False, \n",
    "                  input_shape=(150, 150, 3))"
   ]
  },
  {
   "cell_type": "code",
   "execution_count": 19,
   "metadata": {},
   "outputs": [
    {
     "name": "stdout",
     "output_type": "stream",
     "text": [
      "_________________________________________________________________\n",
      "Layer (type)                 Output Shape              Param #   \n",
      "=================================================================\n",
      "input_1 (InputLayer)         (None, 150, 150, 3)       0         \n",
      "_________________________________________________________________\n",
      "block1_conv1 (Conv2D)        (None, 150, 150, 64)      1792      \n",
      "_________________________________________________________________\n",
      "block1_conv2 (Conv2D)        (None, 150, 150, 64)      36928     \n",
      "_________________________________________________________________\n",
      "block1_pool (MaxPooling2D)   (None, 75, 75, 64)        0         \n",
      "_________________________________________________________________\n",
      "block2_conv1 (Conv2D)        (None, 75, 75, 128)       73856     \n",
      "_________________________________________________________________\n",
      "block2_conv2 (Conv2D)        (None, 75, 75, 128)       147584    \n",
      "_________________________________________________________________\n",
      "block2_pool (MaxPooling2D)   (None, 37, 37, 128)       0         \n",
      "_________________________________________________________________\n",
      "block3_conv1 (Conv2D)        (None, 37, 37, 256)       295168    \n",
      "_________________________________________________________________\n",
      "block3_conv2 (Conv2D)        (None, 37, 37, 256)       590080    \n",
      "_________________________________________________________________\n",
      "block3_conv3 (Conv2D)        (None, 37, 37, 256)       590080    \n",
      "_________________________________________________________________\n",
      "block3_pool (MaxPooling2D)   (None, 18, 18, 256)       0         \n",
      "_________________________________________________________________\n",
      "block4_conv1 (Conv2D)        (None, 18, 18, 512)       1180160   \n",
      "_________________________________________________________________\n",
      "block4_conv2 (Conv2D)        (None, 18, 18, 512)       2359808   \n",
      "_________________________________________________________________\n",
      "block4_conv3 (Conv2D)        (None, 18, 18, 512)       2359808   \n",
      "_________________________________________________________________\n",
      "block4_pool (MaxPooling2D)   (None, 9, 9, 512)         0         \n",
      "_________________________________________________________________\n",
      "block5_conv1 (Conv2D)        (None, 9, 9, 512)         2359808   \n",
      "_________________________________________________________________\n",
      "block5_conv2 (Conv2D)        (None, 9, 9, 512)         2359808   \n",
      "_________________________________________________________________\n",
      "block5_conv3 (Conv2D)        (None, 9, 9, 512)         2359808   \n",
      "_________________________________________________________________\n",
      "block5_pool (MaxPooling2D)   (None, 4, 4, 512)         0         \n",
      "=================================================================\n",
      "Total params: 14,714,688\n",
      "Trainable params: 0\n",
      "Non-trainable params: 14,714,688\n",
      "_________________________________________________________________\n"
     ]
    }
   ],
   "source": [
    "vgg16_net.trainable = False\n",
    "vgg16_net.summary()"
   ]
  },
  {
   "cell_type": "code",
   "execution_count": 20,
   "metadata": {},
   "outputs": [],
   "source": [
    "model1 = Sequential()\n",
    "model1.add(vgg16_net)\n",
    "model1.add(Flatten())\n",
    "model1.add(Dense(256))\n",
    "model1.add(Activation('relu'))\n",
    "model1.add(Dropout(0.5))\n",
    "model1.add(Dense(1))\n",
    "model1.add(Activation('sigmoid'))"
   ]
  },
  {
   "cell_type": "code",
   "execution_count": 21,
   "metadata": {},
   "outputs": [],
   "source": [
    "filepath = \"best_model.hdf5\"\n",
    "checkpoint = ModelCheckpoint(filepath, monitor='val_acc', verbose=1, save_best_only=True, mode='max')\n",
    "call_backs_list = [checkpoint]"
   ]
  },
  {
   "cell_type": "code",
   "execution_count": 22,
   "metadata": {},
   "outputs": [],
   "source": [
    "model1.compile(loss='binary_crossentropy',\n",
    "              optimizer=Adam(lr=1e-5),\n",
    "              metrics=['accuracy'])"
   ]
  },
  {
   "cell_type": "code",
   "execution_count": 23,
   "metadata": {},
   "outputs": [],
   "source": [
    "batch_size = 32"
   ]
  },
  {
   "cell_type": "markdown",
   "metadata": {},
   "source": [
    "Transfer Learning with Vgg_16 and data augmentation is getting bad accuracy. Remove Augmentation.\n",
    "Augmentation edited with keras defaults - https://blog.keras.io/building-powerful-image-classification-models-using-very-little-data.html and fit_generator edited."
   ]
  },
  {
   "cell_type": "code",
   "execution_count": 24,
   "metadata": {},
   "outputs": [
    {
     "name": "stdout",
     "output_type": "stream",
     "text": [
      "Epoch 1/100\n",
      " - 48s - loss: 1.7141 - acc: 0.6981 - val_loss: 2.0108 - val_acc: 0.7758\n",
      "\n",
      "Epoch 00001: val_acc improved from -inf to 0.77583, saving model to best_model.hdf5\n",
      "Epoch 2/100\n",
      " - 42s - loss: 1.3871 - acc: 0.7429 - val_loss: 1.6390 - val_acc: 0.8164\n",
      "\n",
      "Epoch 00002: val_acc improved from 0.77583 to 0.81639, saving model to best_model.hdf5\n",
      "Epoch 3/100\n",
      " - 41s - loss: 1.0751 - acc: 0.7848 - val_loss: 1.3527 - val_acc: 0.8445\n",
      "\n",
      "Epoch 00003: val_acc improved from 0.81639 to 0.84451, saving model to best_model.hdf5\n",
      "Epoch 4/100\n",
      " - 42s - loss: 0.8736 - acc: 0.8110 - val_loss: 1.1665 - val_acc: 0.8620\n",
      "\n",
      "Epoch 00004: val_acc improved from 0.84451 to 0.86197, saving model to best_model.hdf5\n",
      "Epoch 5/100\n",
      " - 42s - loss: 0.8865 - acc: 0.8175 - val_loss: 1.0586 - val_acc: 0.8768\n",
      "\n",
      "Epoch 00005: val_acc improved from 0.86197 to 0.87678, saving model to best_model.hdf5\n",
      "Epoch 6/100\n",
      " - 42s - loss: 0.8957 - acc: 0.8241 - val_loss: 0.9625 - val_acc: 0.8842\n",
      "\n",
      "Epoch 00006: val_acc improved from 0.87678 to 0.88424, saving model to best_model.hdf5\n",
      "Epoch 7/100\n",
      " - 42s - loss: 0.7900 - acc: 0.8251 - val_loss: 0.8850 - val_acc: 0.8934\n",
      "\n",
      "Epoch 00007: val_acc improved from 0.88424 to 0.89344, saving model to best_model.hdf5\n",
      "Epoch 8/100\n",
      " - 41s - loss: 0.7616 - acc: 0.8300 - val_loss: 0.8865 - val_acc: 0.8967\n",
      "\n",
      "Epoch 00008: val_acc improved from 0.89344 to 0.89673, saving model to best_model.hdf5\n",
      "Epoch 9/100\n",
      " - 41s - loss: 0.5246 - acc: 0.8649 - val_loss: 0.7918 - val_acc: 0.9025\n",
      "\n",
      "Epoch 00009: val_acc improved from 0.89673 to 0.90249, saving model to best_model.hdf5\n",
      "Epoch 10/100\n",
      " - 40s - loss: 0.6276 - acc: 0.8564 - val_loss: 0.7819 - val_acc: 0.9067\n",
      "\n",
      "Epoch 00010: val_acc improved from 0.90249 to 0.90667, saving model to best_model.hdf5\n",
      "Epoch 11/100\n",
      " - 41s - loss: 0.6300 - acc: 0.8493 - val_loss: 0.7916 - val_acc: 0.9053\n",
      "\n",
      "Epoch 00011: val_acc did not improve from 0.90667\n",
      "Epoch 12/100\n",
      " - 41s - loss: 0.5360 - acc: 0.8745 - val_loss: 0.7088 - val_acc: 0.9115\n",
      "\n",
      "Epoch 00012: val_acc improved from 0.90667 to 0.91153, saving model to best_model.hdf5\n",
      "Epoch 13/100\n",
      " - 40s - loss: 0.4819 - acc: 0.8765 - val_loss: 0.5683 - val_acc: 0.9256\n",
      "\n",
      "Epoch 00013: val_acc improved from 0.91153 to 0.92559, saving model to best_model.hdf5\n",
      "Epoch 14/100\n",
      " - 41s - loss: 0.5336 - acc: 0.8614 - val_loss: 0.5169 - val_acc: 0.9310\n",
      "\n",
      "Epoch 00014: val_acc improved from 0.92559 to 0.93104, saving model to best_model.hdf5\n",
      "Epoch 15/100\n",
      " - 41s - loss: 0.4830 - acc: 0.8679 - val_loss: 0.5376 - val_acc: 0.9262\n",
      "\n",
      "Epoch 00015: val_acc did not improve from 0.93104\n",
      "Epoch 16/100\n",
      " - 40s - loss: 0.4552 - acc: 0.8735 - val_loss: 0.5016 - val_acc: 0.9322\n",
      "\n",
      "Epoch 00016: val_acc improved from 0.93104 to 0.93215, saving model to best_model.hdf5\n",
      "Epoch 17/100\n",
      " - 41s - loss: 0.4740 - acc: 0.8715 - val_loss: 0.4730 - val_acc: 0.9392\n",
      "\n",
      "Epoch 00017: val_acc improved from 0.93215 to 0.93918, saving model to best_model.hdf5\n",
      "Epoch 18/100\n",
      " - 41s - loss: 0.4041 - acc: 0.8911 - val_loss: 0.4521 - val_acc: 0.9423\n",
      "\n",
      "Epoch 00018: val_acc improved from 0.93918 to 0.94230, saving model to best_model.hdf5\n",
      "Epoch 19/100\n",
      " - 41s - loss: 0.4290 - acc: 0.8911 - val_loss: 0.4994 - val_acc: 0.9314\n",
      "\n",
      "Epoch 00019: val_acc did not improve from 0.94230\n",
      "Epoch 20/100\n",
      " - 41s - loss: 0.4096 - acc: 0.8841 - val_loss: 0.5288 - val_acc: 0.9290\n",
      "\n",
      "Epoch 00020: val_acc did not improve from 0.94230\n",
      "Epoch 21/100\n",
      " - 40s - loss: 0.3771 - acc: 0.8967 - val_loss: 0.5998 - val_acc: 0.9233\n",
      "\n",
      "Epoch 00021: val_acc did not improve from 0.94230\n",
      "Epoch 22/100\n",
      " - 40s - loss: 0.3511 - acc: 0.8936 - val_loss: 0.4243 - val_acc: 0.9428\n",
      "\n",
      "Epoch 00022: val_acc improved from 0.94230 to 0.94281, saving model to best_model.hdf5\n",
      "Epoch 23/100\n",
      " - 40s - loss: 0.3918 - acc: 0.8881 - val_loss: 0.3695 - val_acc: 0.9510\n",
      "\n",
      "Epoch 00023: val_acc improved from 0.94281 to 0.95099, saving model to best_model.hdf5\n",
      "Epoch 24/100\n",
      " - 41s - loss: 0.3942 - acc: 0.8876 - val_loss: 0.3630 - val_acc: 0.9521\n",
      "\n",
      "Epoch 00024: val_acc improved from 0.95099 to 0.95208, saving model to best_model.hdf5\n",
      "Epoch 25/100\n",
      " - 41s - loss: 0.3190 - acc: 0.9073 - val_loss: 0.3609 - val_acc: 0.9516\n",
      "\n",
      "Epoch 00025: val_acc did not improve from 0.95208\n",
      "Epoch 26/100\n",
      " - 41s - loss: 0.3192 - acc: 0.8997 - val_loss: 0.3553 - val_acc: 0.9546\n",
      "\n",
      "Epoch 00026: val_acc improved from 0.95208 to 0.95458, saving model to best_model.hdf5\n",
      "Epoch 27/100\n",
      " - 40s - loss: 0.3724 - acc: 0.9002 - val_loss: 0.3407 - val_acc: 0.9554\n",
      "\n",
      "Epoch 00027: val_acc improved from 0.95458 to 0.95537, saving model to best_model.hdf5\n",
      "Epoch 28/100\n",
      " - 41s - loss: 0.3154 - acc: 0.9088 - val_loss: 0.3466 - val_acc: 0.9556\n",
      "\n",
      "Epoch 00028: val_acc improved from 0.95537 to 0.95557, saving model to best_model.hdf5\n",
      "Epoch 29/100\n",
      " - 40s - loss: 0.3087 - acc: 0.8997 - val_loss: 0.3897 - val_acc: 0.9500\n",
      "\n",
      "Epoch 00029: val_acc did not improve from 0.95557\n",
      "Epoch 30/100\n",
      " - 40s - loss: 0.3073 - acc: 0.9027 - val_loss: 0.3454 - val_acc: 0.9536\n",
      "\n",
      "Epoch 00030: val_acc did not improve from 0.95557\n",
      "Epoch 31/100\n",
      " - 40s - loss: 0.3163 - acc: 0.9056 - val_loss: 0.3248 - val_acc: 0.9582\n",
      "\n",
      "Epoch 00031: val_acc improved from 0.95557 to 0.95821, saving model to best_model.hdf5\n",
      "Epoch 32/100\n",
      " - 41s - loss: 0.2427 - acc: 0.9199 - val_loss: 0.3543 - val_acc: 0.9552\n",
      "\n",
      "Epoch 00032: val_acc did not improve from 0.95821\n",
      "Epoch 33/100\n",
      " - 40s - loss: 0.2649 - acc: 0.9168 - val_loss: 0.3843 - val_acc: 0.9507\n",
      "\n",
      "Epoch 00033: val_acc did not improve from 0.95821\n",
      "Epoch 34/100\n",
      " - 40s - loss: 0.2543 - acc: 0.9153 - val_loss: 0.3438 - val_acc: 0.9541\n",
      "\n",
      "Epoch 00034: val_acc did not improve from 0.95821\n",
      "Epoch 35/100\n",
      " - 41s - loss: 0.2842 - acc: 0.9088 - val_loss: 0.3581 - val_acc: 0.9537\n",
      "\n",
      "Epoch 00035: val_acc did not improve from 0.95821\n",
      "Epoch 36/100\n",
      " - 40s - loss: 0.3023 - acc: 0.8987 - val_loss: 0.3434 - val_acc: 0.9548\n",
      "\n",
      "Epoch 00036: val_acc did not improve from 0.95821\n",
      "Epoch 37/100\n",
      " - 40s - loss: 0.2775 - acc: 0.9128 - val_loss: 0.3257 - val_acc: 0.9562\n",
      "\n",
      "Epoch 00037: val_acc did not improve from 0.95821\n",
      "Epoch 38/100\n",
      " - 40s - loss: 0.2455 - acc: 0.9173 - val_loss: 0.3196 - val_acc: 0.9585\n",
      "\n",
      "Epoch 00038: val_acc improved from 0.95821 to 0.95849, saving model to best_model.hdf5\n",
      "Epoch 39/100\n",
      " - 40s - loss: 0.2234 - acc: 0.9189 - val_loss: 0.3268 - val_acc: 0.9564\n",
      "\n",
      "Epoch 00039: val_acc did not improve from 0.95849\n",
      "Epoch 40/100\n",
      " - 40s - loss: 0.2875 - acc: 0.9083 - val_loss: 0.3410 - val_acc: 0.9564\n",
      "\n",
      "Epoch 00040: val_acc did not improve from 0.95849\n",
      "Epoch 41/100\n",
      " - 40s - loss: 0.2717 - acc: 0.9037 - val_loss: 0.3138 - val_acc: 0.9597\n",
      "\n",
      "Epoch 00041: val_acc improved from 0.95849 to 0.95972, saving model to best_model.hdf5\n",
      "Epoch 42/100\n",
      " - 40s - loss: 0.2615 - acc: 0.9103 - val_loss: 0.3154 - val_acc: 0.9602\n",
      "\n",
      "Epoch 00042: val_acc improved from 0.95972 to 0.96019, saving model to best_model.hdf5\n",
      "Epoch 43/100\n",
      " - 41s - loss: 0.2362 - acc: 0.9189 - val_loss: 0.3272 - val_acc: 0.9584\n",
      "\n",
      "Epoch 00043: val_acc did not improve from 0.96019\n",
      "Epoch 44/100\n",
      " - 40s - loss: 0.2113 - acc: 0.9209 - val_loss: 0.3138 - val_acc: 0.9605\n",
      "\n",
      "Epoch 00044: val_acc improved from 0.96019 to 0.96051, saving model to best_model.hdf5\n",
      "Epoch 45/100\n",
      " - 41s - loss: 0.2135 - acc: 0.9138 - val_loss: 0.3076 - val_acc: 0.9611\n",
      "\n",
      "Epoch 00045: val_acc improved from 0.96051 to 0.96110, saving model to best_model.hdf5\n",
      "Epoch 46/100\n",
      " - 40s - loss: 0.2269 - acc: 0.9138 - val_loss: 0.3152 - val_acc: 0.9611\n",
      "\n",
      "Epoch 00046: val_acc did not improve from 0.96110\n",
      "Epoch 47/100\n",
      " - 40s - loss: 0.2050 - acc: 0.9289 - val_loss: 0.3596 - val_acc: 0.9526\n",
      "\n",
      "Epoch 00047: val_acc did not improve from 0.96110\n",
      "Epoch 48/100\n",
      " - 40s - loss: 0.2275 - acc: 0.9239 - val_loss: 0.3410 - val_acc: 0.9576\n",
      "\n",
      "Epoch 00048: val_acc did not improve from 0.96110\n",
      "Epoch 49/100\n",
      " - 40s - loss: 0.2335 - acc: 0.9224 - val_loss: 0.3139 - val_acc: 0.9614\n",
      "\n",
      "Epoch 00049: val_acc improved from 0.96110 to 0.96141, saving model to best_model.hdf5\n",
      "Epoch 50/100\n",
      " - 41s - loss: 0.2287 - acc: 0.9239 - val_loss: 0.3177 - val_acc: 0.9600\n",
      "\n",
      "Epoch 00050: val_acc did not improve from 0.96141\n",
      "Epoch 51/100\n",
      " - 40s - loss: 0.2235 - acc: 0.9209 - val_loss: 0.3180 - val_acc: 0.9581\n",
      "\n",
      "Epoch 00051: val_acc did not improve from 0.96141\n",
      "Epoch 52/100\n",
      " - 40s - loss: 0.1792 - acc: 0.9279 - val_loss: 0.3331 - val_acc: 0.9571\n",
      "\n",
      "Epoch 00052: val_acc did not improve from 0.96141\n",
      "Epoch 53/100\n",
      " - 40s - loss: 0.2041 - acc: 0.9212 - val_loss: 0.2802 - val_acc: 0.9659\n",
      "\n",
      "Epoch 00053: val_acc improved from 0.96141 to 0.96592, saving model to best_model.hdf5\n",
      "Epoch 54/100\n",
      " - 40s - loss: 0.2063 - acc: 0.9269 - val_loss: 0.2691 - val_acc: 0.9666\n",
      "\n",
      "Epoch 00054: val_acc improved from 0.96592 to 0.96663, saving model to best_model.hdf5\n",
      "Epoch 55/100\n",
      " - 40s - loss: 0.2101 - acc: 0.9244 - val_loss: 0.3259 - val_acc: 0.9585\n",
      "\n",
      "Epoch 00055: val_acc did not improve from 0.96663\n",
      "Epoch 56/100\n",
      " - 40s - loss: 0.1769 - acc: 0.9294 - val_loss: 0.3770 - val_acc: 0.9516\n",
      "\n",
      "Epoch 00056: val_acc did not improve from 0.96663\n",
      "Epoch 57/100\n",
      " - 40s - loss: 0.1709 - acc: 0.9350 - val_loss: 0.3258 - val_acc: 0.9587\n",
      "\n",
      "Epoch 00057: val_acc did not improve from 0.96663\n",
      "Epoch 58/100\n",
      " - 41s - loss: 0.2058 - acc: 0.9259 - val_loss: 0.3493 - val_acc: 0.9557\n",
      "\n",
      "Epoch 00058: val_acc did not improve from 0.96663\n",
      "Epoch 59/100\n",
      " - 40s - loss: 0.2111 - acc: 0.9244 - val_loss: 0.4130 - val_acc: 0.9464\n",
      "\n",
      "Epoch 00059: val_acc did not improve from 0.96663\n",
      "Epoch 60/100\n",
      " - 40s - loss: 0.2247 - acc: 0.9199 - val_loss: 0.3241 - val_acc: 0.9585\n",
      "\n",
      "Epoch 00060: val_acc did not improve from 0.96663\n",
      "Epoch 61/100\n",
      " - 41s - loss: 0.1969 - acc: 0.9222 - val_loss: 0.3087 - val_acc: 0.9620\n",
      "\n",
      "Epoch 00061: val_acc did not improve from 0.96663\n",
      "Epoch 62/100\n",
      " - 40s - loss: 0.2096 - acc: 0.9269 - val_loss: 0.3058 - val_acc: 0.9633\n",
      "\n",
      "Epoch 00062: val_acc did not improve from 0.96663\n",
      "Epoch 63/100\n",
      " - 40s - loss: 0.2010 - acc: 0.9330 - val_loss: 0.3531 - val_acc: 0.9539\n",
      "\n",
      "Epoch 00063: val_acc did not improve from 0.96663\n",
      "Epoch 64/100\n",
      " - 40s - loss: 0.2028 - acc: 0.9289 - val_loss: 0.3139 - val_acc: 0.9611\n",
      "\n",
      "Epoch 00064: val_acc did not improve from 0.96663\n",
      "Epoch 65/100\n",
      " - 41s - loss: 0.1984 - acc: 0.9289 - val_loss: 0.2581 - val_acc: 0.9685\n",
      "\n",
      "Epoch 00065: val_acc improved from 0.96663 to 0.96852, saving model to best_model.hdf5\n",
      "Epoch 66/100\n",
      " - 40s - loss: 0.1682 - acc: 0.9325 - val_loss: 0.2476 - val_acc: 0.9684\n",
      "\n",
      "Epoch 00066: val_acc did not improve from 0.96852\n",
      "Epoch 67/100\n",
      " - 40s - loss: 0.1863 - acc: 0.9330 - val_loss: 0.2708 - val_acc: 0.9675\n",
      "\n",
      "Epoch 00067: val_acc did not improve from 0.96852\n",
      "Epoch 68/100\n",
      " - 40s - loss: 0.1877 - acc: 0.9315 - val_loss: 0.2856 - val_acc: 0.9645\n",
      "\n",
      "Epoch 00068: val_acc did not improve from 0.96852\n",
      "Epoch 69/100\n",
      " - 40s - loss: 0.1926 - acc: 0.9252 - val_loss: 0.3201 - val_acc: 0.9592\n",
      "\n",
      "Epoch 00069: val_acc did not improve from 0.96852\n",
      "Epoch 70/100\n",
      " - 40s - loss: 0.1606 - acc: 0.9350 - val_loss: 0.3185 - val_acc: 0.9608\n",
      "\n",
      "Epoch 00070: val_acc did not improve from 0.96852\n",
      "Epoch 71/100\n",
      " - 40s - loss: 0.1986 - acc: 0.9249 - val_loss: 0.2840 - val_acc: 0.9647\n",
      "\n",
      "Epoch 00071: val_acc did not improve from 0.96852\n",
      "Epoch 72/100\n",
      " - 40s - loss: 0.1437 - acc: 0.9456 - val_loss: 0.2633 - val_acc: 0.9681\n",
      "\n",
      "Epoch 00072: val_acc did not improve from 0.96852\n",
      "Epoch 73/100\n",
      " - 40s - loss: 0.1674 - acc: 0.9375 - val_loss: 0.2719 - val_acc: 0.9679\n",
      "\n",
      "Epoch 00073: val_acc did not improve from 0.96852\n",
      "Epoch 74/100\n",
      " - 40s - loss: 0.1724 - acc: 0.9340 - val_loss: 0.2523 - val_acc: 0.9679\n",
      "\n",
      "Epoch 00074: val_acc did not improve from 0.96852\n",
      "Epoch 75/100\n",
      " - 40s - loss: 0.1796 - acc: 0.9299 - val_loss: 0.2504 - val_acc: 0.9680\n",
      "\n",
      "Epoch 00075: val_acc did not improve from 0.96852\n",
      "Epoch 76/100\n",
      " - 40s - loss: 0.1788 - acc: 0.9318 - val_loss: 0.2398 - val_acc: 0.9695\n",
      "\n",
      "Epoch 00076: val_acc improved from 0.96852 to 0.96955, saving model to best_model.hdf5\n",
      "Epoch 77/100\n",
      " - 40s - loss: 0.1911 - acc: 0.9320 - val_loss: 0.2471 - val_acc: 0.9688\n",
      "\n",
      "Epoch 00077: val_acc did not improve from 0.96955\n",
      "Epoch 78/100\n",
      " - 40s - loss: 0.1872 - acc: 0.9254 - val_loss: 0.2596 - val_acc: 0.9683\n",
      "\n",
      "Epoch 00078: val_acc did not improve from 0.96955\n",
      "Epoch 79/100\n",
      " - 40s - loss: 0.1787 - acc: 0.9299 - val_loss: 0.2720 - val_acc: 0.9664\n",
      "\n",
      "Epoch 00079: val_acc did not improve from 0.96955\n",
      "Epoch 80/100\n",
      " - 41s - loss: 0.1551 - acc: 0.9380 - val_loss: 0.2363 - val_acc: 0.9696\n",
      "\n",
      "Epoch 00080: val_acc improved from 0.96955 to 0.96963, saving model to best_model.hdf5\n",
      "Epoch 81/100\n",
      " - 41s - loss: 0.1429 - acc: 0.9441 - val_loss: 0.2328 - val_acc: 0.9701\n",
      "\n",
      "Epoch 00081: val_acc improved from 0.96963 to 0.97014, saving model to best_model.hdf5\n",
      "Epoch 82/100\n",
      " - 41s - loss: 0.1525 - acc: 0.9360 - val_loss: 0.2244 - val_acc: 0.9685\n",
      "\n",
      "Epoch 00082: val_acc did not improve from 0.97014\n",
      "Epoch 83/100\n",
      " - 40s - loss: 0.1583 - acc: 0.9340 - val_loss: 0.2402 - val_acc: 0.9691\n",
      "\n",
      "Epoch 00083: val_acc did not improve from 0.97014\n",
      "Epoch 84/100\n",
      " - 40s - loss: 0.1907 - acc: 0.9286 - val_loss: 0.2391 - val_acc: 0.9694\n",
      "\n",
      "Epoch 00084: val_acc did not improve from 0.97014\n",
      "Epoch 85/100\n",
      " - 40s - loss: 0.1722 - acc: 0.9350 - val_loss: 0.2311 - val_acc: 0.9709\n",
      "\n",
      "Epoch 00085: val_acc improved from 0.97014 to 0.97085, saving model to best_model.hdf5\n",
      "Epoch 86/100\n",
      " - 40s - loss: 0.1604 - acc: 0.9405 - val_loss: 0.2178 - val_acc: 0.9714\n",
      "\n",
      "Epoch 00086: val_acc improved from 0.97085 to 0.97137, saving model to best_model.hdf5\n",
      "Epoch 87/100\n",
      " - 40s - loss: 0.1476 - acc: 0.9451 - val_loss: 0.2163 - val_acc: 0.9726\n",
      "\n",
      "Epoch 00087: val_acc improved from 0.97137 to 0.97260, saving model to best_model.hdf5\n",
      "Epoch 88/100\n",
      " - 40s - loss: 0.1560 - acc: 0.9420 - val_loss: 0.2185 - val_acc: 0.9715\n",
      "\n",
      "Epoch 00088: val_acc did not improve from 0.97260\n",
      "Epoch 89/100\n",
      " - 40s - loss: 0.1738 - acc: 0.9259 - val_loss: 0.2240 - val_acc: 0.9721\n",
      "\n",
      "Epoch 00089: val_acc did not improve from 0.97260\n",
      "Epoch 90/100\n",
      " - 40s - loss: 0.1592 - acc: 0.9360 - val_loss: 0.2313 - val_acc: 0.9723\n",
      "\n",
      "Epoch 00090: val_acc did not improve from 0.97260\n",
      "Epoch 91/100\n",
      " - 40s - loss: 0.1618 - acc: 0.9325 - val_loss: 0.2319 - val_acc: 0.9717\n",
      "\n",
      "Epoch 00091: val_acc did not improve from 0.97260\n",
      "Epoch 92/100\n",
      " - 40s - loss: 0.1526 - acc: 0.9370 - val_loss: 0.2321 - val_acc: 0.9719\n",
      "\n",
      "Epoch 00092: val_acc did not improve from 0.97260\n",
      "Epoch 93/100\n",
      " - 40s - loss: 0.1478 - acc: 0.9365 - val_loss: 0.2614 - val_acc: 0.9661\n",
      "\n",
      "Epoch 00093: val_acc did not improve from 0.97260\n",
      "Epoch 94/100\n",
      " - 40s - loss: 0.1582 - acc: 0.9365 - val_loss: 0.2579 - val_acc: 0.9648\n",
      "\n",
      "Epoch 00094: val_acc did not improve from 0.97260\n",
      "Epoch 95/100\n",
      " - 40s - loss: 0.1291 - acc: 0.9476 - val_loss: 0.2390 - val_acc: 0.9693\n",
      "\n",
      "Epoch 00095: val_acc did not improve from 0.97260\n",
      "Epoch 96/100\n",
      " - 40s - loss: 0.1600 - acc: 0.9325 - val_loss: 0.2507 - val_acc: 0.9677\n",
      "\n",
      "Epoch 00096: val_acc did not improve from 0.97260\n",
      "Epoch 97/100\n",
      " - 40s - loss: 0.1610 - acc: 0.9325 - val_loss: 0.2548 - val_acc: 0.9670\n",
      "\n",
      "Epoch 00097: val_acc did not improve from 0.97260\n",
      "Epoch 98/100\n",
      " - 40s - loss: 0.1672 - acc: 0.9279 - val_loss: 0.2416 - val_acc: 0.9698\n",
      "\n",
      "Epoch 00098: val_acc did not improve from 0.97260\n",
      "Epoch 99/100\n",
      " - 40s - loss: 0.1498 - acc: 0.9417 - val_loss: 0.2541 - val_acc: 0.9687\n",
      "\n",
      "Epoch 00099: val_acc did not improve from 0.97260\n",
      "Epoch 100/100\n",
      " - 40s - loss: 0.1543 - acc: 0.9395 - val_loss: 0.2679 - val_acc: 0.9660\n",
      "\n",
      "Epoch 00100: val_acc did not improve from 0.97260\n",
      "CPU times: user 54min 46s, sys: 6min 16s, total: 1h 1min 3s\n",
      "Wall time: 1h 7min 40s\n"
     ]
    }
   ],
   "source": [
    "%%time\n",
    "history = model1.fit_generator(train_generator,validation_data = valid_generator,validation_steps=800,\n",
    "                              epochs=100,\n",
    "                              steps_per_epoch=2000 // batch_size,callbacks=call_backs_list,\n",
    "                              verbose=2)"
   ]
  },
  {
   "cell_type": "code",
   "execution_count": 25,
   "metadata": {},
   "outputs": [
    {
     "data": {
      "image/png": "[encoded data removed]",
      "text/plain": [
       "<Figure size 432x288 with 1 Axes>"
      ]
     },
     "metadata": {},
     "output_type": "display_data"
    },
    {
     "data": {
      "image/png": "[encoded data removed]",
      "text/plain": [
       "<Figure size 432x288 with 1 Axes>"
      ]
     },
     "metadata": {},
     "output_type": "display_data"
    }
   ],
   "source": [
    "acc = history.history['acc']\n",
    "val_acc = history.history['val_acc']\n",
    "loss = history.history['loss']\n",
    "val_loss = history.history['val_loss']\n",
    "\n",
    "epochs = range(1, len(acc) + 1)\n",
    "\n",
    "plt.plot(epochs, acc, 'g', label='Training acc')\n",
    "plt.plot(epochs, val_acc, 'b', label='Validation acc')\n",
    "plt.title('Training and validation accuracy')\n",
    "plt.legend()\n",
    "plt.figure()\n",
    "\n",
    "plt.plot(epochs, loss, 'g', label='Training loss')\n",
    "plt.plot(epochs, val_loss, 'b', label='Validation loss')\n",
    "plt.title('Training and validation loss')\n",
    "plt.legend()\n",
    "plt.show()"
   ]
  },
  {
   "cell_type": "code",
   "execution_count": 26,
   "metadata": {},
   "outputs": [],
   "source": [
    "model1.load_weights(\"best_model.hdf5\")\n",
    "model1.compile(loss='binary_crossentropy',\n",
    "              optimizer=Adam(lr=1e-5),\n",
    "              metrics=['accuracy'])"
   ]
  },
  {
   "cell_type": "code",
   "execution_count": 27,
   "metadata": {},
   "outputs": [
    {
     "name": "stderr",
     "output_type": "stream",
     "text": [
      "100%|██████████| 4000/4000 [00:04<00:00, 827.00it/s]\n"
     ]
    }
   ],
   "source": [
    "un_test_img=[]\n",
    "count=0\n",
    "for i in os.listdir(\"../input/test/test/\"):\n",
    "    un_test_img.append(i)\n",
    "    count+=1\n",
    "un_test_image=[]\n",
    "for i in tqdm(range(count)):\n",
    "    img = image.load_img('../input/test/test/'+un_test_img[i], target_size=(150,150,3), grayscale=False)\n",
    "    img = image.img_to_array(img)\n",
    "    img = img/255\n",
    "    un_test_image.append(img)\n",
    "un_test_img_array = np.array(un_test_image)"
   ]
  },
  {
   "cell_type": "code",
   "execution_count": 28,
   "metadata": {},
   "outputs": [
    {
     "data": {
      "text/plain": [
       "4000"
      ]
     },
     "execution_count": 28,
     "metadata": {},
     "output_type": "execute_result"
    }
   ],
   "source": [
    "len(un_test_img)"
   ]
  },
  {
   "cell_type": "code",
   "execution_count": 29,
   "metadata": {},
   "outputs": [],
   "source": [
    "output = model1.predict_classes(un_test_img_array)"
   ]
  },
  {
   "cell_type": "code",
   "execution_count": 30,
   "metadata": {},
   "outputs": [],
   "source": [
    "submission_save = pd.DataFrame()\n",
    "submission_save['id'] = un_test_img\n",
    "submission_save['has_cactus'] = output\n",
    "submission_save.to_csv('submission.csv', header=True, index=False)"
   ]
  },
  {
   "cell_type": "code",
   "execution_count": 31,
   "metadata": {},
   "outputs": [],
   "source": [
    "results = pd.read_csv('submission.csv')"
   ]
  },
  {
   "cell_type": "code",
   "execution_count": 32,
   "metadata": {},
   "outputs": [
    {
     "data": {
      "image/png": "[encoded data removed]",
      "text/plain": [
       "<Figure size 432x360 with 1 Axes>"
      ]
     },
     "metadata": {},
     "output_type": "display_data"
    }
   ],
   "source": [
    "plt.figure(figsize = (6,5))\n",
    "sns.set(style=\"darkgrid\")\n",
    "ax = sns.countplot(x = 'has_cactus',hue='has_cactus',data = results)\n",
    "plt.xticks(rotation='vertical')\n",
    "plt.xlabel('Count of Each Category', fontsize=12)\n",
    "plt.ylabel('Number of Occurrences', fontsize=12)\n",
    "plt.show()"
   ]
  },
  {
   "cell_type": "code",
   "execution_count": null,
   "metadata": {},
   "outputs": [],
   "source": []
  }
 ],
 "metadata": {
  "kernelspec": {
   "display_name": "Python 3",
   "language": "python",
   "name": "python3"
  },
  "language_info": {
   "codemirror_mode": {
    "name": "ipython",
    "version": 3
   },
   "file_extension": ".py",
   "mimetype": "text/x-python",
   "name": "python",
   "nbconvert_exporter": "python",
   "pygments_lexer": "ipython3",
   "version": "3.6.6"
  }
 },
 "nbformat": 4,
 "nbformat_minor": 1
}
