{
  "nbformat": 4,
  "nbformat_minor": 0,
  "metadata": {
    "kernelspec": {
      "display_name": "Python 3",
      "language": "python",
      "name": "python3"
    },
    "language_info": {
      "codemirror_mode": {
        "name": "ipython",
        "version": 3
      },
      "file_extension": ".py",
      "mimetype": "text/x-python",
      "name": "python",
      "nbconvert_exporter": "python",
      "pygments_lexer": "ipython3",
      "version": "3.6.6"
    },
    "colab": {
      "name": "Aerial_Cactus_identification_Final_V1_1.ipynb.ipynb",
      "version": "0.3.2",
      "provenance": [],
      "collapsed_sections": [],
      "include_colab_link": true
    }
  },
  "cells": [
    {
      "cell_type": "markdown",
      "metadata": {
        "id": "view-in-github",
        "colab_type": "text"
      },
      "source": [
        "<a href=\"https://colab.research.google.com/github/Deepthi-cloud/Machine-Learning-Capstone-Project-/blob/master/Aerial_Cactus_identification_Final_V1_1_ipynb.ipynb\" target=\"_parent\"><img src=\"https://colab.research.google.com/assets/colab-badge.svg\" alt=\"Open In Colab\"/></a>"
      ]
    },
    {
      "cell_type": "code",
      "metadata": {
        "_cell_guid": "b1076dfc-b9ad-4769-8c92-a6c4dae69d19",
        "_uuid": "8f2839f25d086af736a60e9eeb907d3b93b6e0e5",
        "id": "I66Zx9WEi9lI",
        "colab_type": "code",
        "colab": {},
        "outputId": "fe3a116b-b989-46a9-e3ab-51f58d7b0724"
      },
      "source": [
        "# This Python 3 environment comes with many helpful analytics libraries installed\n",
        "# It is defined by the kaggle/python docker image: https://github.com/kaggle/docker-python\n",
        "# For example, here's several helpful packages to load in \n",
        "\n",
        "import numpy as np # linear algebra\n",
        "import pandas as pd # data processing, CSV file I/O (e.g. pd.read_csv)\n",
        "\n",
        "# Input data files are available in the \"../input/\" directory.\n",
        "# For example, running this (by clicking run or pressing Shift+Enter) will list the files in the input directory\n",
        "\n",
        "import os\n",
        "print(os.listdir(\"../input\"))\n",
        "\n",
        "# Any results you write to the current directory are saved as output."
      ],
      "execution_count": 0,
      "outputs": [
        {
          "output_type": "stream",
          "text": [
            "['test', 'train', 'train.csv', 'sample_submission.csv']\n"
          ],
          "name": "stdout"
        }
      ]
    },
    {
      "cell_type": "code",
      "metadata": {
        "id": "w2C1WXyyi9lO",
        "colab_type": "code",
        "colab": {},
        "outputId": "cba7ccfd-1ac0-47b4-cf60-a05ea8a24182"
      },
      "source": [
        "import os,cv2\n",
        "import json\n",
        "from IPython.display import Image\n",
        "from keras.preprocessing import image\n",
        "from keras import optimizers\n",
        "from keras import layers,models\n",
        "from keras.applications.imagenet_utils import preprocess_input\n",
        "import matplotlib.pyplot as plt\n",
        "import seaborn as sns\n",
        "from keras import regularizers\n",
        "from keras.models import Sequential, Model \n",
        "from keras.preprocessing.image import ImageDataGenerator\n",
        "from keras import applications\n",
        "from tqdm import tqdm, tqdm_notebook\n",
        "from keras.layers import Activation, Dropout, Flatten, Dense\n",
        "from keras.applications import VGG16\n",
        "from keras.optimizers import Adam\n",
        "from keras.callbacks import ModelCheckpoint\n",
        "from sklearn.metrics import classification_report, confusion_matrix\n",
        "from itertools import product"
      ],
      "execution_count": 0,
      "outputs": [
        {
          "output_type": "stream",
          "text": [
            "Using TensorFlow backend.\n"
          ],
          "name": "stderr"
        }
      ]
    },
    {
      "cell_type": "code",
      "metadata": {
        "_cell_guid": "79c7e3d0-c299-4dcb-8224-4455121ee9b0",
        "_uuid": "d629ff2d2480ee46fbb7e2d37f6b5fab8052498a",
        "id": "J9jGQn1vi9lV",
        "colab_type": "code",
        "colab": {}
      },
      "source": [
        "%load_ext autoreload\n",
        "%autoreload 2\n",
        "\n",
        "%matplotlib inline"
      ],
      "execution_count": 0,
      "outputs": []
    },
    {
      "cell_type": "code",
      "metadata": {
        "id": "GvchmnhBi9lZ",
        "colab_type": "code",
        "colab": {},
        "outputId": "a444e510-e083-48c3-9de1-45929ea6fd47"
      },
      "source": [
        "PATH = \"../input\"\n",
        "!ls {PATH}"
      ],
      "execution_count": 0,
      "outputs": [
        {
          "output_type": "stream",
          "text": [
            "sample_submission.csv  test  train  train.csv\r\n"
          ],
          "name": "stdout"
        }
      ]
    },
    {
      "cell_type": "code",
      "metadata": {
        "id": "oqmQ54ehi9ld",
        "colab_type": "code",
        "colab": {}
      },
      "source": [
        "train_dir = \"../input/train/train\"\n",
        "test_dir = \"../input/test/test\""
      ],
      "execution_count": 0,
      "outputs": []
    },
    {
      "cell_type": "code",
      "metadata": {
        "id": "0YYqelaXi9lh",
        "colab_type": "code",
        "colab": {}
      },
      "source": [
        "df_train = pd.read_csv(f'{PATH}/train.csv',low_memory=False)\n",
        "df_test = pd.read_csv(f'{PATH}/sample_submission.csv',low_memory=False)\n",
        "df_train.has_cactus= df_train.has_cactus.astype(str)"
      ],
      "execution_count": 0,
      "outputs": []
    },
    {
      "cell_type": "code",
      "metadata": {
        "id": "Zj5QnqlEi9lk",
        "colab_type": "code",
        "colab": {},
        "outputId": "63e755a9-511d-49db-a6b4-3b95d412f9c2"
      },
      "source": [
        "print('Shape of Training data: {}'.format(df_train.shape))\n",
        "print('Features: {}'.format(df_train.columns))"
      ],
      "execution_count": 0,
      "outputs": [
        {
          "output_type": "stream",
          "text": [
            "Shape of Training data: (17500, 2)\n",
            "Features: Index(['id', 'has_cactus'], dtype='object')\n"
          ],
          "name": "stdout"
        }
      ]
    },
    {
      "cell_type": "code",
      "metadata": {
        "id": "vhZx84adi9lr",
        "colab_type": "code",
        "colab": {},
        "outputId": "0c2b42df-1872-4813-830c-46ed9fb7d8a2"
      },
      "source": [
        "df_train.tail()"
      ],
      "execution_count": 0,
      "outputs": [
        {
          "output_type": "execute_result",
          "data": {
            "text/html": [
              "<div>\n",
              "<style scoped>\n",
              "    .dataframe tbody tr th:only-of-type {\n",
              "        vertical-align: middle;\n",
              "    }\n",
              "\n",
              "    .dataframe tbody tr th {\n",
              "        vertical-align: top;\n",
              "    }\n",
              "\n",
              "    .dataframe thead th {\n",
              "        text-align: right;\n",
              "    }\n",
              "</style>\n",
              "<table border=\"1\" class=\"dataframe\">\n",
              "  <thead>\n",
              "    <tr style=\"text-align: right;\">\n",
              "      <th></th>\n",
              "      <th>id</th>\n",
              "      <th>has_cactus</th>\n",
              "    </tr>\n",
              "  </thead>\n",
              "  <tbody>\n",
              "    <tr>\n",
              "      <th>17495</th>\n",
              "      <td>ffede47a74e47a5930f81c0b6896479e.jpg</td>\n",
              "      <td>0</td>\n",
              "    </tr>\n",
              "    <tr>\n",
              "      <th>17496</th>\n",
              "      <td>ffef6382a50d23251d4bc05519c91037.jpg</td>\n",
              "      <td>1</td>\n",
              "    </tr>\n",
              "    <tr>\n",
              "      <th>17497</th>\n",
              "      <td>fff059ecc91b30be5745e8b81111dc7b.jpg</td>\n",
              "      <td>1</td>\n",
              "    </tr>\n",
              "    <tr>\n",
              "      <th>17498</th>\n",
              "      <td>fff43acb3b7a23edcc4ae937be2b7522.jpg</td>\n",
              "      <td>0</td>\n",
              "    </tr>\n",
              "    <tr>\n",
              "      <th>17499</th>\n",
              "      <td>fffd9e9b990eba07c836745d8aef1a3a.jpg</td>\n",
              "      <td>1</td>\n",
              "    </tr>\n",
              "  </tbody>\n",
              "</table>\n",
              "</div>"
            ],
            "text/plain": [
              "                                         id has_cactus\n",
              "17495  ffede47a74e47a5930f81c0b6896479e.jpg          0\n",
              "17496  ffef6382a50d23251d4bc05519c91037.jpg          1\n",
              "17497  fff059ecc91b30be5745e8b81111dc7b.jpg          1\n",
              "17498  fff43acb3b7a23edcc4ae937be2b7522.jpg          0\n",
              "17499  fffd9e9b990eba07c836745d8aef1a3a.jpg          1"
            ]
          },
          "metadata": {
            "tags": []
          },
          "execution_count": 8
        }
      ]
    },
    {
      "cell_type": "code",
      "metadata": {
        "id": "6MN5Rvoti9lw",
        "colab_type": "code",
        "colab": {},
        "outputId": "cd525162-65e5-40fb-c8cb-76146da1b873"
      },
      "source": [
        "plt.figure(figsize = (6,5))\n",
        "sns.set(style=\"darkgrid\")\n",
        "ax = sns.countplot(x = 'has_cactus',hue='has_cactus',data = df_train)\n",
        "plt.xticks(rotation='vertical')\n",
        "plt.xlabel('Count of Each Category', fontsize=12)\n",
        "plt.ylabel('Number of Occurrences', fontsize=12)\n",
        "plt.show()"
      ],
      "execution_count": 0,
      "outputs": [
        {
          "output_type": "display_data",
          "data": {
            "image/png": "[encoded data removed]",
            "text/plain": [
              "<Figure size 432x360 with 1 Axes>"
            ]
          },
          "metadata": {
            "tags": [],
            "needs_background": "light"
          }
        }
      ]
    },
    {
      "cell_type": "code",
      "metadata": {
        "id": "hMoXUaiIi9l6",
        "colab_type": "code",
        "colab": {},
        "outputId": "6841933e-1ccf-4aef-f0f7-c8bbbd9baf54"
      },
      "source": [
        "df_train['has_cactus'].value_counts()"
      ],
      "execution_count": 0,
      "outputs": [
        {
          "output_type": "execute_result",
          "data": {
            "text/plain": [
              "1    13136\n",
              "0     4364\n",
              "Name: has_cactus, dtype: int64"
            ]
          },
          "metadata": {
            "tags": []
          },
          "execution_count": 10
        }
      ]
    },
    {
      "cell_type": "code",
      "metadata": {
        "id": "_cB14ZZdi9mG",
        "colab_type": "code",
        "colab": {},
        "outputId": "961624ee-a852-4576-fe89-6c1e7bb81e11"
      },
      "source": [
        "im = cv2.imread(\"../input/train/train/01e30c0ba6e91343a12d2126fcafc0dd.jpg\")\n",
        "plt.imshow(im)"
      ],
      "execution_count": 0,
      "outputs": [
        {
          "output_type": "execute_result",
          "data": {
            "text/plain": [
              "<matplotlib.image.AxesImage at 0x7f466c40bac8>"
            ]
          },
          "metadata": {
            "tags": []
          },
          "execution_count": 11
        },
        {
          "output_type": "display_data",
          "data": {
            "image/png": "[encoded data removed]",
            "text/plain": [
              "<Figure size 432x288 with 1 Axes>"
            ]
          },
          "metadata": {
            "tags": []
          }
        }
      ]
    },
    {
      "cell_type": "code",
      "metadata": {
        "id": "U0yP97Z_i9mP",
        "colab_type": "code",
        "colab": {}
      },
      "source": [
        "train_datagen = ImageDataGenerator(rotation_range=40,\n",
        "        width_shift_range=0.2,\n",
        "        height_shift_range=0.2,\n",
        "        shear_range=0.2,\n",
        "        zoom_range=0.2,\n",
        "        horizontal_flip=True,\n",
        "        fill_mode='nearest')"
      ],
      "execution_count": 0,
      "outputs": []
    },
    {
      "cell_type": "markdown",
      "metadata": {
        "id": "W8fP0NnTi9mT",
        "colab_type": "text"
      },
      "source": [
        "Data Augmentation: https://medium.com/nanonets/how-to-use-deep-learning-when-you-have-limited-data-part-2-data-augmentation-c26971dc8ced"
      ]
    },
    {
      "cell_type": "code",
      "metadata": {
        "id": "xx1jNB7Bi9mV",
        "colab_type": "code",
        "colab": {}
      },
      "source": [
        "valid_datagen = ImageDataGenerator(rescale=1/.255)"
      ],
      "execution_count": 0,
      "outputs": []
    },
    {
      "cell_type": "code",
      "metadata": {
        "id": "EMXQWeqAi9mZ",
        "colab_type": "code",
        "colab": {}
      },
      "source": [
        "batch_size= 32"
      ],
      "execution_count": 0,
      "outputs": []
    },
    {
      "cell_type": "code",
      "metadata": {
        "id": "YhuF4BWPi9md",
        "colab_type": "code",
        "colab": {},
        "outputId": "d3a38fee-5c70-4b95-8afe-0ff53163d652"
      },
      "source": [
        "train_generator = train_datagen.flow_from_dataframe(df_train[:15000], directory=train_dir, x_col='id', y_col='has_cactus', \n",
        "                    target_size=(150, 150), color_mode='rgb', classes=None, class_mode='binary',\n",
        "                    batch_size=batch_size, \n",
        "                    shuffle=True, seed=None, \n",
        "                    save_to_dir=None, save_prefix='', save_format='png', \n",
        "                    subset=None, interpolation='nearest', drop_duplicates=True)"
      ],
      "execution_count": 0,
      "outputs": [
        {
          "output_type": "stream",
          "text": [
            "Found 15000 validated image filenames belonging to 2 classes.\n"
          ],
          "name": "stdout"
        }
      ]
    },
    {
      "cell_type": "code",
      "metadata": {
        "id": "E9Wa_F8Bi9mj",
        "colab_type": "code",
        "colab": {},
        "outputId": "2be3e19f-21cb-4f44-8b5d-79eadfae9af5"
      },
      "source": [
        "valid_generator = valid_datagen.flow_from_dataframe(df_train[15000:], directory=train_dir, x_col='id', y_col='has_cactus', \n",
        "                    target_size=(150, 150), color_mode='rgb', classes=None, \n",
        "                    class_mode='binary', batch_size=batch_size, \n",
        "                    shuffle=True, seed=None, \n",
        "                    save_to_dir=None, save_prefix='', save_format='png', \n",
        "                    subset=None, interpolation='nearest', drop_duplicates=True)"
      ],
      "execution_count": 0,
      "outputs": [
        {
          "output_type": "stream",
          "text": [
            "Found 2500 validated image filenames belonging to 2 classes.\n"
          ],
          "name": "stdout"
        }
      ]
    },
    {
      "cell_type": "code",
      "metadata": {
        "id": "Pi-hwXiUi9mq",
        "colab_type": "code",
        "colab": {},
        "outputId": "d9af2674-68a7-4652-8479-ec4ddea0c658"
      },
      "source": [
        "vgg16_net = VGG16(weights='imagenet', \n",
        "                  include_top=False, \n",
        "                  input_shape=(150, 150, 3))"
      ],
      "execution_count": 0,
      "outputs": [
        {
          "output_type": "stream",
          "text": [
            "Downloading data from https://github.com/fchollet/deep-learning-models/releases/download/v0.1/vgg16_weights_tf_dim_ordering_tf_kernels_notop.h5\n",
            "58892288/58889256 [==============================] - 2s 0us/step\n"
          ],
          "name": "stdout"
        }
      ]
    },
    {
      "cell_type": "code",
      "metadata": {
        "id": "sIWmFnkGi9mv",
        "colab_type": "code",
        "colab": {},
        "outputId": "dbf6d64e-eb65-4bf2-b2bf-ef4fba791b2b"
      },
      "source": [
        "vgg16_net.trainable = False\n",
        "vgg16_net.summary()"
      ],
      "execution_count": 0,
      "outputs": [
        {
          "output_type": "stream",
          "text": [
            "_________________________________________________________________\n",
            "Layer (type)                 Output Shape              Param #   \n",
            "=================================================================\n",
            "input_1 (InputLayer)         (None, 150, 150, 3)       0         \n",
            "_________________________________________________________________\n",
            "block1_conv1 (Conv2D)        (None, 150, 150, 64)      1792      \n",
            "_________________________________________________________________\n",
            "block1_conv2 (Conv2D)        (None, 150, 150, 64)      36928     \n",
            "_________________________________________________________________\n",
            "block1_pool (MaxPooling2D)   (None, 75, 75, 64)        0         \n",
            "_________________________________________________________________\n",
            "block2_conv1 (Conv2D)        (None, 75, 75, 128)       73856     \n",
            "_________________________________________________________________\n",
            "block2_conv2 (Conv2D)        (None, 75, 75, 128)       147584    \n",
            "_________________________________________________________________\n",
            "block2_pool (MaxPooling2D)   (None, 37, 37, 128)       0         \n",
            "_________________________________________________________________\n",
            "block3_conv1 (Conv2D)        (None, 37, 37, 256)       295168    \n",
            "_________________________________________________________________\n",
            "block3_conv2 (Conv2D)        (None, 37, 37, 256)       590080    \n",
            "_________________________________________________________________\n",
            "block3_conv3 (Conv2D)        (None, 37, 37, 256)       590080    \n",
            "_________________________________________________________________\n",
            "block3_pool (MaxPooling2D)   (None, 18, 18, 256)       0         \n",
            "_________________________________________________________________\n",
            "block4_conv1 (Conv2D)        (None, 18, 18, 512)       1180160   \n",
            "_________________________________________________________________\n",
            "block4_conv2 (Conv2D)        (None, 18, 18, 512)       2359808   \n",
            "_________________________________________________________________\n",
            "block4_conv3 (Conv2D)        (None, 18, 18, 512)       2359808   \n",
            "_________________________________________________________________\n",
            "block4_pool (MaxPooling2D)   (None, 9, 9, 512)         0         \n",
            "_________________________________________________________________\n",
            "block5_conv1 (Conv2D)        (None, 9, 9, 512)         2359808   \n",
            "_________________________________________________________________\n",
            "block5_conv2 (Conv2D)        (None, 9, 9, 512)         2359808   \n",
            "_________________________________________________________________\n",
            "block5_conv3 (Conv2D)        (None, 9, 9, 512)         2359808   \n",
            "_________________________________________________________________\n",
            "block5_pool (MaxPooling2D)   (None, 4, 4, 512)         0         \n",
            "=================================================================\n",
            "Total params: 14,714,688\n",
            "Trainable params: 0\n",
            "Non-trainable params: 14,714,688\n",
            "_________________________________________________________________\n"
          ],
          "name": "stdout"
        }
      ]
    },
    {
      "cell_type": "code",
      "metadata": {
        "id": "QOkqtM88i9m7",
        "colab_type": "code",
        "colab": {}
      },
      "source": [
        "model1 = Sequential()\n",
        "model1.add(vgg16_net)\n",
        "model1.add(Flatten())\n",
        "model1.add(Dense(256))\n",
        "model1.add(Activation('relu'))\n",
        "model1.add(Dropout(0.5))\n",
        "model1.add(Dense(1))\n",
        "model1.add(Activation('sigmoid'))"
      ],
      "execution_count": 0,
      "outputs": []
    },
    {
      "cell_type": "code",
      "metadata": {
        "id": "EGEUTS6si9nA",
        "colab_type": "code",
        "colab": {}
      },
      "source": [
        "filepath = \"best_model.hdf5\"\n",
        "checkpoint = ModelCheckpoint(filepath, monitor='val_acc', verbose=1, save_best_only=True, mode='max')\n",
        "call_backs_list = [checkpoint]"
      ],
      "execution_count": 0,
      "outputs": []
    },
    {
      "cell_type": "code",
      "metadata": {
        "id": "5cl30R98i9nE",
        "colab_type": "code",
        "colab": {}
      },
      "source": [
        "from sklearn import metrics\n",
        "import tensorflow as tf\n",
        "from keras import backend as K\n",
        "\n",
        "def auc(y_true, y_pred):\n",
        "    auc = tf.metrics.auc(y_true, y_pred)[1]\n",
        "    K.get_session().run(tf.local_variables_initializer())\n",
        "    return auc"
      ],
      "execution_count": 0,
      "outputs": []
    },
    {
      "cell_type": "code",
      "metadata": {
        "id": "J89bxTo4i9nH",
        "colab_type": "code",
        "colab": {}
      },
      "source": [
        "model1.compile(loss='binary_crossentropy',\n",
        "              optimizer=Adam(lr=1e-5),\n",
        "              metrics=['accuracy',auc])"
      ],
      "execution_count": 0,
      "outputs": []
    },
    {
      "cell_type": "code",
      "metadata": {
        "id": "MNX1eF3Ii9nM",
        "colab_type": "code",
        "colab": {}
      },
      "source": [
        "batch_size = 32"
      ],
      "execution_count": 0,
      "outputs": []
    },
    {
      "cell_type": "markdown",
      "metadata": {
        "id": "v_lJOK6Ti9nQ",
        "colab_type": "text"
      },
      "source": [
        "Transfer Learning with Vgg_16 and data augmentation is getting bad accuracy. Remove Augmentation.\n",
        "Augmentation edited with keras defaults - https://blog.keras.io/building-powerful-image-classification-models-using-very-little-data.html and fit_generator edited."
      ]
    },
    {
      "cell_type": "code",
      "metadata": {
        "id": "23ZPLKLvi9nR",
        "colab_type": "code",
        "colab": {},
        "outputId": "73cb2b6f-2ad5-4d32-fc73-2847248d23d4"
      },
      "source": [
        "%%time\n",
        "history = model1.fit_generator(train_generator,validation_data = valid_generator,validation_steps=800,\n",
        "                              epochs=100,\n",
        "                              steps_per_epoch=2000 // batch_size,callbacks=call_backs_list,\n",
        "                              verbose=2)"
      ],
      "execution_count": 0,
      "outputs": [
        {
          "output_type": "stream",
          "text": [
            "Epoch 1/100\n",
            " - 49s - loss: 2.0517 - acc: 0.6719 - auc: 0.5640 - val_loss: 2.2928 - val_acc: 0.7079 - val_auc: 0.6597\n",
            "\n",
            "Epoch 00001: val_acc improved from -inf to 0.70794, saving model to best_model.hdf5\n",
            "Epoch 2/100\n",
            " - 43s - loss: 1.3020 - acc: 0.7661 - auc: 0.6676 - val_loss: 1.7162 - val_acc: 0.7835 - val_auc: 0.6913\n",
            "\n",
            "Epoch 00002: val_acc improved from 0.70794 to 0.78345, saving model to best_model.hdf5\n",
            "Epoch 3/100\n",
            " - 43s - loss: 1.2155 - acc: 0.7772 - auc: 0.7070 - val_loss: 1.6224 - val_acc: 0.8123 - val_auc: 0.7158\n",
            "\n",
            "Epoch 00003: val_acc improved from 0.78345 to 0.81232, saving model to best_model.hdf5\n",
            "Epoch 4/100\n",
            " - 43s - loss: 0.9087 - acc: 0.8145 - auc: 0.7232 - val_loss: 1.4958 - val_acc: 0.8251 - val_auc: 0.7305\n",
            "\n",
            "Epoch 00004: val_acc improved from 0.81232 to 0.82512, saving model to best_model.hdf5\n",
            "Epoch 5/100\n",
            " - 43s - loss: 0.9653 - acc: 0.8115 - auc: 0.7362 - val_loss: 1.0435 - val_acc: 0.8575 - val_auc: 0.7497\n",
            "\n",
            "Epoch 00005: val_acc improved from 0.82512 to 0.85746, saving model to best_model.hdf5\n",
            "Epoch 6/100\n",
            " - 43s - loss: 0.7952 - acc: 0.8296 - auc: 0.7611 - val_loss: 0.9962 - val_acc: 0.8700 - val_auc: 0.7697\n",
            "\n",
            "Epoch 00006: val_acc improved from 0.85746 to 0.86998, saving model to best_model.hdf5\n",
            "Epoch 7/100\n",
            " - 43s - loss: 0.6794 - acc: 0.8543 - auc: 0.7772 - val_loss: 1.0718 - val_acc: 0.8679 - val_auc: 0.7820\n",
            "\n",
            "Epoch 00007: val_acc did not improve from 0.86998\n",
            "Epoch 8/100\n",
            " - 43s - loss: 0.7956 - acc: 0.8271 - auc: 0.7861 - val_loss: 0.8000 - val_acc: 0.8898 - val_auc: 0.7934\n",
            "\n",
            "Epoch 00008: val_acc improved from 0.86998 to 0.88985, saving model to best_model.hdf5\n",
            "Epoch 9/100\n",
            " - 42s - loss: 0.6792 - acc: 0.8614 - auc: 0.8000 - val_loss: 0.7046 - val_acc: 0.8989 - val_auc: 0.8066\n",
            "\n",
            "Epoch 00009: val_acc improved from 0.88985 to 0.89885, saving model to best_model.hdf5\n",
            "Epoch 10/100\n",
            " - 42s - loss: 0.5505 - acc: 0.8730 - auc: 0.8128 - val_loss: 0.6598 - val_acc: 0.9110 - val_auc: 0.8186\n",
            "\n",
            "Epoch 00010: val_acc improved from 0.89885 to 0.91102, saving model to best_model.hdf5\n",
            "Epoch 11/100\n",
            " - 42s - loss: 0.5806 - acc: 0.8634 - auc: 0.8239 - val_loss: 0.6810 - val_acc: 0.9088 - val_auc: 0.8281\n",
            "\n",
            "Epoch 00011: val_acc did not improve from 0.91102\n",
            "Epoch 12/100\n",
            " - 42s - loss: 0.5639 - acc: 0.8574 - auc: 0.8320 - val_loss: 0.8536 - val_acc: 0.8920 - val_auc: 0.8342\n",
            "\n",
            "Epoch 00012: val_acc did not improve from 0.91102\n",
            "Epoch 13/100\n",
            " - 42s - loss: 0.6328 - acc: 0.8427 - auc: 0.8362 - val_loss: 0.5845 - val_acc: 0.9207 - val_auc: 0.8397\n",
            "\n",
            "Epoch 00013: val_acc improved from 0.91102 to 0.92070, saving model to best_model.hdf5\n",
            "Epoch 14/100\n",
            " - 42s - loss: 0.5187 - acc: 0.8639 - auc: 0.8430 - val_loss: 0.5573 - val_acc: 0.9228 - val_auc: 0.8461\n",
            "\n",
            "Epoch 00014: val_acc improved from 0.92070 to 0.92279, saving model to best_model.hdf5\n",
            "Epoch 15/100\n",
            " - 42s - loss: 0.5289 - acc: 0.8690 - auc: 0.8491 - val_loss: 0.6128 - val_acc: 0.9187 - val_auc: 0.8515\n",
            "\n",
            "Epoch 00015: val_acc did not improve from 0.92279\n",
            "Epoch 16/100\n",
            " - 42s - loss: 0.4602 - acc: 0.8725 - auc: 0.8537 - val_loss: 0.6793 - val_acc: 0.9127 - val_auc: 0.8555\n",
            "\n",
            "Epoch 00016: val_acc did not improve from 0.92279\n",
            "Epoch 17/100\n",
            " - 42s - loss: 0.4861 - acc: 0.8826 - auc: 0.8572 - val_loss: 0.5780 - val_acc: 0.9237 - val_auc: 0.8592\n",
            "\n",
            "Epoch 00017: val_acc improved from 0.92279 to 0.92370, saving model to best_model.hdf5\n",
            "Epoch 18/100\n",
            " - 42s - loss: 0.4181 - acc: 0.8881 - auc: 0.8612 - val_loss: 0.5970 - val_acc: 0.9218 - val_auc: 0.8628\n",
            "\n",
            "Epoch 00018: val_acc did not improve from 0.92370\n",
            "Epoch 19/100\n",
            " - 41s - loss: 0.3838 - acc: 0.8936 - auc: 0.8644 - val_loss: 0.6230 - val_acc: 0.9180 - val_auc: 0.8658\n",
            "\n",
            "Epoch 00019: val_acc did not improve from 0.92370\n",
            "Epoch 20/100\n",
            " - 42s - loss: 0.4169 - acc: 0.8972 - auc: 0.8670 - val_loss: 0.5281 - val_acc: 0.9317 - val_auc: 0.8687\n",
            "\n",
            "Epoch 00020: val_acc improved from 0.92370 to 0.93171, saving model to best_model.hdf5\n",
            "Epoch 21/100\n",
            " - 42s - loss: 0.3775 - acc: 0.8891 - auc: 0.8703 - val_loss: 0.5773 - val_acc: 0.9225 - val_auc: 0.8716\n",
            "\n",
            "Epoch 00021: val_acc did not improve from 0.93171\n",
            "Epoch 22/100\n",
            " - 42s - loss: 0.4084 - acc: 0.8826 - auc: 0.8728 - val_loss: 0.4672 - val_acc: 0.9366 - val_auc: 0.8744\n",
            "\n",
            "Epoch 00022: val_acc improved from 0.93171 to 0.93657, saving model to best_model.hdf5\n",
            "Epoch 23/100\n",
            " - 42s - loss: 0.3648 - acc: 0.8977 - auc: 0.8759 - val_loss: 0.4676 - val_acc: 0.9368 - val_auc: 0.8774\n",
            "\n",
            "Epoch 00023: val_acc improved from 0.93657 to 0.93677, saving model to best_model.hdf5\n",
            "Epoch 24/100\n",
            " - 42s - loss: 0.3475 - acc: 0.9037 - auc: 0.8788 - val_loss: 0.4173 - val_acc: 0.9445 - val_auc: 0.8803\n",
            "\n",
            "Epoch 00024: val_acc improved from 0.93677 to 0.94453, saving model to best_model.hdf5\n",
            "Epoch 25/100\n",
            " - 41s - loss: 0.3654 - acc: 0.8942 - auc: 0.8818 - val_loss: 0.4003 - val_acc: 0.9470 - val_auc: 0.8832\n",
            "\n",
            "Epoch 00025: val_acc improved from 0.94453 to 0.94704, saving model to best_model.hdf5\n",
            "Epoch 26/100\n",
            " - 42s - loss: 0.3385 - acc: 0.8967 - auc: 0.8846 - val_loss: 0.3572 - val_acc: 0.9518 - val_auc: 0.8861\n",
            "\n",
            "Epoch 00026: val_acc improved from 0.94704 to 0.95178, saving model to best_model.hdf5\n",
            "Epoch 27/100\n",
            " - 42s - loss: 0.2795 - acc: 0.9083 - auc: 0.8875 - val_loss: 0.3544 - val_acc: 0.9521 - val_auc: 0.8888\n",
            "\n",
            "Epoch 00027: val_acc improved from 0.95178 to 0.95213, saving model to best_model.hdf5\n",
            "Epoch 28/100\n",
            " - 42s - loss: 0.3085 - acc: 0.9022 - auc: 0.8901 - val_loss: 0.4570 - val_acc: 0.9387 - val_auc: 0.8911\n",
            "\n",
            "Epoch 00028: val_acc did not improve from 0.95213\n",
            "Epoch 29/100\n",
            " - 41s - loss: 0.3385 - acc: 0.9062 - auc: 0.8920 - val_loss: 0.4296 - val_acc: 0.9414 - val_auc: 0.8930\n",
            "\n",
            "Epoch 00029: val_acc did not improve from 0.95213\n",
            "Epoch 30/100\n",
            " - 42s - loss: 0.3091 - acc: 0.9042 - auc: 0.8939 - val_loss: 0.5415 - val_acc: 0.9266 - val_auc: 0.8945\n",
            "\n",
            "Epoch 00030: val_acc did not improve from 0.95213\n",
            "Epoch 31/100\n",
            " - 41s - loss: 0.3129 - acc: 0.9047 - auc: 0.8950 - val_loss: 0.4024 - val_acc: 0.9454 - val_auc: 0.8959\n",
            "\n",
            "Epoch 00031: val_acc did not improve from 0.95213\n",
            "Epoch 32/100\n",
            " - 41s - loss: 0.3172 - acc: 0.9007 - auc: 0.8968 - val_loss: 0.3848 - val_acc: 0.9489 - val_auc: 0.8977\n",
            "\n",
            "Epoch 00032: val_acc did not improve from 0.95213\n",
            "Epoch 33/100\n",
            " - 41s - loss: 0.3064 - acc: 0.8957 - auc: 0.8985 - val_loss: 0.4130 - val_acc: 0.9432 - val_auc: 0.8993\n",
            "\n",
            "Epoch 00033: val_acc did not improve from 0.95213\n",
            "Epoch 34/100\n",
            " - 41s - loss: 0.3212 - acc: 0.9078 - auc: 0.9000 - val_loss: 0.3769 - val_acc: 0.9493 - val_auc: 0.9008\n",
            "\n",
            "Epoch 00034: val_acc did not improve from 0.95213\n",
            "Epoch 35/100\n",
            " - 41s - loss: 0.2971 - acc: 0.9118 - auc: 0.9015 - val_loss: 0.3727 - val_acc: 0.9490 - val_auc: 0.9022\n",
            "\n",
            "Epoch 00035: val_acc did not improve from 0.95213\n",
            "Epoch 36/100\n",
            " - 41s - loss: 0.2943 - acc: 0.9088 - auc: 0.9029 - val_loss: 0.4145 - val_acc: 0.9428 - val_auc: 0.9035\n",
            "\n",
            "Epoch 00036: val_acc did not improve from 0.95213\n",
            "Epoch 37/100\n",
            " - 41s - loss: 0.2476 - acc: 0.9194 - auc: 0.9041 - val_loss: 0.4105 - val_acc: 0.9443 - val_auc: 0.9047\n",
            "\n",
            "Epoch 00037: val_acc did not improve from 0.95213\n",
            "Epoch 38/100\n",
            " - 41s - loss: 0.2759 - acc: 0.9106 - auc: 0.9052 - val_loss: 0.3953 - val_acc: 0.9462 - val_auc: 0.9058\n",
            "\n",
            "Epoch 00038: val_acc did not improve from 0.95213\n",
            "Epoch 39/100\n",
            " - 41s - loss: 0.2406 - acc: 0.9158 - auc: 0.9063 - val_loss: 0.3579 - val_acc: 0.9516 - val_auc: 0.9070\n",
            "\n",
            "Epoch 00039: val_acc did not improve from 0.95213\n",
            "Epoch 40/100\n",
            " - 41s - loss: 0.2290 - acc: 0.9279 - auc: 0.9076 - val_loss: 0.3371 - val_acc: 0.9540 - val_auc: 0.9082\n",
            "\n",
            "Epoch 00040: val_acc improved from 0.95213 to 0.95402, saving model to best_model.hdf5\n",
            "Epoch 41/100\n",
            " - 41s - loss: 0.2789 - acc: 0.9083 - auc: 0.9088 - val_loss: 0.3108 - val_acc: 0.9566 - val_auc: 0.9095\n",
            "\n",
            "Epoch 00041: val_acc improved from 0.95402 to 0.95664, saving model to best_model.hdf5\n",
            "Epoch 42/100\n",
            " - 41s - loss: 0.2411 - acc: 0.9183 - auc: 0.9102 - val_loss: 0.3240 - val_acc: 0.9562 - val_auc: 0.9108\n",
            "\n",
            "Epoch 00042: val_acc did not improve from 0.95664\n",
            "Epoch 43/100\n",
            " - 41s - loss: 0.2079 - acc: 0.9269 - auc: 0.9114 - val_loss: 0.3207 - val_acc: 0.9558 - val_auc: 0.9120\n",
            "\n",
            "Epoch 00043: val_acc did not improve from 0.95664\n",
            "Epoch 44/100\n",
            " - 41s - loss: 0.2753 - acc: 0.9138 - auc: 0.9126 - val_loss: 0.3432 - val_acc: 0.9532 - val_auc: 0.9131\n",
            "\n",
            "Epoch 00044: val_acc did not improve from 0.95664\n",
            "Epoch 45/100\n",
            " - 41s - loss: 0.2365 - acc: 0.9224 - auc: 0.9136 - val_loss: 0.3880 - val_acc: 0.9468 - val_auc: 0.9140\n",
            "\n",
            "Epoch 00045: val_acc did not improve from 0.95664\n",
            "Epoch 46/100\n",
            " - 41s - loss: 0.2265 - acc: 0.9269 - auc: 0.9144 - val_loss: 0.3073 - val_acc: 0.9573 - val_auc: 0.9150\n",
            "\n",
            "Epoch 00046: val_acc improved from 0.95664 to 0.95735, saving model to best_model.hdf5\n",
            "Epoch 47/100\n",
            " - 41s - loss: 0.2131 - acc: 0.9244 - auc: 0.9155 - val_loss: 0.3237 - val_acc: 0.9550 - val_auc: 0.9160\n",
            "\n",
            "Epoch 00047: val_acc did not improve from 0.95735\n",
            "Epoch 48/100\n",
            " - 41s - loss: 0.2344 - acc: 0.9163 - auc: 0.9165 - val_loss: 0.3092 - val_acc: 0.9563 - val_auc: 0.9170\n",
            "\n",
            "Epoch 00048: val_acc did not improve from 0.95735\n",
            "Epoch 49/100\n",
            " - 41s - loss: 0.2257 - acc: 0.9209 - auc: 0.9175 - val_loss: 0.3339 - val_acc: 0.9537 - val_auc: 0.9180\n",
            "\n",
            "Epoch 00049: val_acc did not improve from 0.95735\n",
            "Epoch 50/100\n",
            " - 41s - loss: 0.2430 - acc: 0.9148 - auc: 0.9184 - val_loss: 0.4017 - val_acc: 0.9448 - val_auc: 0.9186\n",
            "\n",
            "Epoch 00050: val_acc did not improve from 0.95735\n",
            "Epoch 51/100\n",
            " - 41s - loss: 0.2121 - acc: 0.9274 - auc: 0.9189 - val_loss: 0.3913 - val_acc: 0.9454 - val_auc: 0.9192\n",
            "\n",
            "Epoch 00051: val_acc did not improve from 0.95735\n",
            "Epoch 52/100\n",
            " - 41s - loss: 0.2008 - acc: 0.9244 - auc: 0.9195 - val_loss: 0.4249 - val_acc: 0.9432 - val_auc: 0.9197\n",
            "\n",
            "Epoch 00052: val_acc did not improve from 0.95735\n",
            "Epoch 53/100\n",
            " - 41s - loss: 0.2001 - acc: 0.9224 - auc: 0.9199 - val_loss: 0.4363 - val_acc: 0.9406 - val_auc: 0.9200\n",
            "\n",
            "Epoch 00053: val_acc did not improve from 0.95735\n",
            "Epoch 54/100\n",
            " - 41s - loss: 0.2221 - acc: 0.9189 - auc: 0.9202 - val_loss: 0.4305 - val_acc: 0.9407 - val_auc: 0.9204\n",
            "\n",
            "Epoch 00054: val_acc did not improve from 0.95735\n",
            "Epoch 55/100\n",
            " - 41s - loss: 0.2353 - acc: 0.9153 - auc: 0.9206 - val_loss: 0.3829 - val_acc: 0.9472 - val_auc: 0.9209\n",
            "\n",
            "Epoch 00055: val_acc did not improve from 0.95735\n",
            "Epoch 56/100\n",
            " - 41s - loss: 0.2169 - acc: 0.9299 - auc: 0.9211 - val_loss: 0.3511 - val_acc: 0.9504 - val_auc: 0.9214\n",
            "\n",
            "Epoch 00056: val_acc did not improve from 0.95735\n",
            "Epoch 57/100\n",
            " - 41s - loss: 0.1995 - acc: 0.9214 - auc: 0.9217 - val_loss: 0.3398 - val_acc: 0.9509 - val_auc: 0.9220\n",
            "\n",
            "Epoch 00057: val_acc did not improve from 0.95735\n",
            "Epoch 58/100\n",
            " - 41s - loss: 0.2145 - acc: 0.9229 - auc: 0.9223 - val_loss: 0.3479 - val_acc: 0.9512 - val_auc: 0.9226\n",
            "\n",
            "Epoch 00058: val_acc did not improve from 0.95735\n",
            "Epoch 59/100\n",
            " - 41s - loss: 0.1895 - acc: 0.9299 - auc: 0.9229 - val_loss: 0.3243 - val_acc: 0.9536 - val_auc: 0.9232\n",
            "\n",
            "Epoch 00059: val_acc did not improve from 0.95735\n",
            "Epoch 60/100\n",
            " - 41s - loss: 0.2165 - acc: 0.9224 - auc: 0.9234 - val_loss: 0.2784 - val_acc: 0.9605 - val_auc: 0.9238\n",
            "\n",
            "Epoch 00060: val_acc improved from 0.95735 to 0.96051, saving model to best_model.hdf5\n",
            "Epoch 61/100\n",
            " - 41s - loss: 0.1990 - acc: 0.9210 - auc: 0.9242 - val_loss: 0.2961 - val_acc: 0.9555 - val_auc: 0.9245\n",
            "\n",
            "Epoch 00061: val_acc did not improve from 0.96051\n",
            "Epoch 62/100\n",
            " - 41s - loss: 0.1925 - acc: 0.9315 - auc: 0.9248 - val_loss: 0.3361 - val_acc: 0.9529 - val_auc: 0.9251\n",
            "\n",
            "Epoch 00062: val_acc did not improve from 0.96051\n",
            "Epoch 63/100\n",
            " - 41s - loss: 0.1729 - acc: 0.9320 - auc: 0.9253 - val_loss: 0.3302 - val_acc: 0.9533 - val_auc: 0.9256\n",
            "\n",
            "Epoch 00063: val_acc did not improve from 0.96051\n",
            "Epoch 64/100\n",
            " - 41s - loss: 0.1916 - acc: 0.9370 - auc: 0.9258 - val_loss: 0.2774 - val_acc: 0.9592 - val_auc: 0.9262\n",
            "\n",
            "Epoch 00064: val_acc did not improve from 0.96051\n",
            "Epoch 65/100\n",
            " - 41s - loss: 0.1835 - acc: 0.9365 - auc: 0.9265 - val_loss: 0.2883 - val_acc: 0.9573 - val_auc: 0.9267\n",
            "\n",
            "Epoch 00065: val_acc did not improve from 0.96051\n",
            "Epoch 66/100\n",
            " - 41s - loss: 0.1822 - acc: 0.9315 - auc: 0.9270 - val_loss: 0.3094 - val_acc: 0.9557 - val_auc: 0.9273\n",
            "\n",
            "Epoch 00066: val_acc did not improve from 0.96051\n",
            "Epoch 67/100\n",
            " - 41s - loss: 0.1800 - acc: 0.9350 - auc: 0.9275 - val_loss: 0.2747 - val_acc: 0.9584 - val_auc: 0.9278\n",
            "\n",
            "Epoch 00067: val_acc did not improve from 0.96051\n",
            "Epoch 68/100\n",
            " - 41s - loss: 0.1848 - acc: 0.9325 - auc: 0.9281 - val_loss: 0.2853 - val_acc: 0.9568 - val_auc: 0.9283\n",
            "\n",
            "Epoch 00068: val_acc did not improve from 0.96051\n",
            "Epoch 69/100\n",
            " - 41s - loss: 0.1936 - acc: 0.9298 - auc: 0.9286 - val_loss: 0.3212 - val_acc: 0.9551 - val_auc: 0.9288\n",
            "\n",
            "Epoch 00069: val_acc did not improve from 0.96051\n",
            "Epoch 70/100\n",
            " - 41s - loss: 0.1677 - acc: 0.9325 - auc: 0.9290 - val_loss: 0.2833 - val_acc: 0.9576 - val_auc: 0.9292\n",
            "\n",
            "Epoch 00070: val_acc did not improve from 0.96051\n",
            "Epoch 71/100\n",
            " - 41s - loss: 0.1855 - acc: 0.9315 - auc: 0.9295 - val_loss: 0.3025 - val_acc: 0.9556 - val_auc: 0.9297\n",
            "\n",
            "Epoch 00071: val_acc did not improve from 0.96051\n",
            "Epoch 72/100\n",
            " - 41s - loss: 0.1754 - acc: 0.9309 - auc: 0.9299 - val_loss: 0.3088 - val_acc: 0.9555 - val_auc: 0.9301\n",
            "\n",
            "Epoch 00072: val_acc did not improve from 0.96051\n",
            "Epoch 73/100\n",
            " - 41s - loss: 0.2027 - acc: 0.9264 - auc: 0.9303 - val_loss: 0.2704 - val_acc: 0.9589 - val_auc: 0.9305\n",
            "\n",
            "Epoch 00073: val_acc did not improve from 0.96051\n",
            "Epoch 74/100\n",
            " - 41s - loss: 0.1791 - acc: 0.9249 - auc: 0.9308 - val_loss: 0.2753 - val_acc: 0.9581 - val_auc: 0.9310\n",
            "\n",
            "Epoch 00074: val_acc did not improve from 0.96051\n",
            "Epoch 75/100\n",
            " - 41s - loss: 0.1563 - acc: 0.9390 - auc: 0.9312 - val_loss: 0.2770 - val_acc: 0.9585 - val_auc: 0.9314\n",
            "\n",
            "Epoch 00075: val_acc did not improve from 0.96051\n",
            "Epoch 76/100\n",
            " - 41s - loss: 0.1587 - acc: 0.9306 - auc: 0.9317 - val_loss: 0.2885 - val_acc: 0.9565 - val_auc: 0.9318\n",
            "\n",
            "Epoch 00076: val_acc did not improve from 0.96051\n",
            "Epoch 77/100\n",
            " - 41s - loss: 0.1297 - acc: 0.9471 - auc: 0.9321 - val_loss: 0.2856 - val_acc: 0.9568 - val_auc: 0.9322\n",
            "\n",
            "Epoch 00077: val_acc did not improve from 0.96051\n",
            "Epoch 78/100\n",
            " - 41s - loss: 0.1742 - acc: 0.9274 - auc: 0.9324 - val_loss: 0.2761 - val_acc: 0.9567 - val_auc: 0.9326\n",
            "\n",
            "Epoch 00078: val_acc did not improve from 0.96051\n",
            "Epoch 79/100\n",
            " - 41s - loss: 0.2143 - acc: 0.9239 - auc: 0.9328 - val_loss: 0.3315 - val_acc: 0.9500 - val_auc: 0.9330\n",
            "\n",
            "Epoch 00079: val_acc did not improve from 0.96051\n",
            "Epoch 80/100\n",
            " - 41s - loss: 0.1868 - acc: 0.9315 - auc: 0.9331 - val_loss: 0.3037 - val_acc: 0.9527 - val_auc: 0.9333\n",
            "\n",
            "Epoch 00080: val_acc did not improve from 0.96051\n",
            "Epoch 81/100\n",
            " - 41s - loss: 0.1863 - acc: 0.9309 - auc: 0.9335 - val_loss: 0.2842 - val_acc: 0.9556 - val_auc: 0.9336\n",
            "\n",
            "Epoch 00081: val_acc did not improve from 0.96051\n",
            "Epoch 82/100\n",
            " - 41s - loss: 0.1876 - acc: 0.9274 - auc: 0.9338 - val_loss: 0.2605 - val_acc: 0.9615 - val_auc: 0.9340\n",
            "\n",
            "Epoch 00082: val_acc improved from 0.96051 to 0.96153, saving model to best_model.hdf5\n",
            "Epoch 83/100\n",
            " - 41s - loss: 0.1652 - acc: 0.9350 - auc: 0.9343 - val_loss: 0.2577 - val_acc: 0.9617 - val_auc: 0.9345\n",
            "\n",
            "Epoch 00083: val_acc improved from 0.96153 to 0.96165, saving model to best_model.hdf5\n",
            "Epoch 84/100\n",
            " - 41s - loss: 0.1645 - acc: 0.9378 - auc: 0.9347 - val_loss: 0.2372 - val_acc: 0.9626 - val_auc: 0.9349\n",
            "\n",
            "Epoch 00084: val_acc improved from 0.96165 to 0.96256, saving model to best_model.hdf5\n",
            "Epoch 85/100\n",
            " - 41s - loss: 0.1642 - acc: 0.9385 - auc: 0.9351 - val_loss: 0.2425 - val_acc: 0.9616 - val_auc: 0.9353\n",
            "\n",
            "Epoch 00085: val_acc did not improve from 0.96256\n",
            "Epoch 86/100\n",
            " - 41s - loss: 0.1466 - acc: 0.9486 - auc: 0.9355 - val_loss: 0.2346 - val_acc: 0.9621 - val_auc: 0.9358\n",
            "\n",
            "Epoch 00086: val_acc did not improve from 0.96256\n",
            "Epoch 87/100\n",
            " - 41s - loss: 0.1484 - acc: 0.9491 - auc: 0.9360 - val_loss: 0.2600 - val_acc: 0.9619 - val_auc: 0.9362\n",
            "\n",
            "Epoch 00087: val_acc did not improve from 0.96256\n",
            "Epoch 88/100\n",
            " - 41s - loss: 0.1625 - acc: 0.9380 - auc: 0.9364 - val_loss: 0.2582 - val_acc: 0.9625 - val_auc: 0.9365\n",
            "\n",
            "Epoch 00088: val_acc did not improve from 0.96256\n",
            "Epoch 89/100\n",
            " - 41s - loss: 0.1778 - acc: 0.9289 - auc: 0.9367 - val_loss: 0.2908 - val_acc: 0.9557 - val_auc: 0.9369\n",
            "\n",
            "Epoch 00089: val_acc did not improve from 0.96256\n",
            "Epoch 90/100\n",
            " - 41s - loss: 0.1556 - acc: 0.9340 - auc: 0.9370 - val_loss: 0.2571 - val_acc: 0.9623 - val_auc: 0.9372\n",
            "\n",
            "Epoch 00090: val_acc did not improve from 0.96256\n",
            "Epoch 91/100\n",
            " - 41s - loss: 0.1496 - acc: 0.9370 - auc: 0.9374 - val_loss: 0.2720 - val_acc: 0.9594 - val_auc: 0.9375\n",
            "\n",
            "Epoch 00091: val_acc did not improve from 0.96256\n",
            "Epoch 92/100\n",
            " - 41s - loss: 0.1590 - acc: 0.9365 - auc: 0.9377 - val_loss: 0.2965 - val_acc: 0.9551 - val_auc: 0.9378\n",
            "\n",
            "Epoch 00092: val_acc did not improve from 0.96256\n",
            "Epoch 93/100\n",
            " - 41s - loss: 0.1477 - acc: 0.9425 - auc: 0.9379 - val_loss: 0.2575 - val_acc: 0.9618 - val_auc: 0.9381\n",
            "\n",
            "Epoch 00093: val_acc did not improve from 0.96256\n",
            "Epoch 94/100\n",
            " - 41s - loss: 0.1668 - acc: 0.9370 - auc: 0.9383 - val_loss: 0.2328 - val_acc: 0.9643 - val_auc: 0.9385\n",
            "\n",
            "Epoch 00094: val_acc improved from 0.96256 to 0.96430, saving model to best_model.hdf5\n",
            "Epoch 95/100\n",
            " - 41s - loss: 0.1440 - acc: 0.9400 - auc: 0.9386 - val_loss: 0.2485 - val_acc: 0.9617 - val_auc: 0.9388\n",
            "\n",
            "Epoch 00095: val_acc did not improve from 0.96430\n",
            "Epoch 96/100\n",
            " - 41s - loss: 0.1571 - acc: 0.9380 - auc: 0.9390 - val_loss: 0.2448 - val_acc: 0.9625 - val_auc: 0.9391\n",
            "\n",
            "Epoch 00096: val_acc did not improve from 0.96430\n",
            "Epoch 97/100\n",
            " - 41s - loss: 0.1403 - acc: 0.9496 - auc: 0.9393 - val_loss: 0.2819 - val_acc: 0.9579 - val_auc: 0.9394\n",
            "\n",
            "Epoch 00097: val_acc did not improve from 0.96430\n",
            "Epoch 98/100\n",
            " - 41s - loss: 0.1616 - acc: 0.9335 - auc: 0.9396 - val_loss: 0.2874 - val_acc: 0.9579 - val_auc: 0.9397\n",
            "\n",
            "Epoch 00098: val_acc did not improve from 0.96430\n",
            "Epoch 99/100\n",
            " - 41s - loss: 0.1362 - acc: 0.9466 - auc: 0.9398 - val_loss: 0.2328 - val_acc: 0.9639 - val_auc: 0.9400\n",
            "\n",
            "Epoch 00099: val_acc did not improve from 0.96430\n",
            "Epoch 100/100\n",
            " - 41s - loss: 0.1538 - acc: 0.9420 - auc: 0.9402 - val_loss: 0.2554 - val_acc: 0.9607 - val_auc: 0.9403\n",
            "\n",
            "Epoch 00100: val_acc did not improve from 0.96430\n",
            "CPU times: user 59min 11s, sys: 6min 26s, total: 1h 5min 37s\n",
            "Wall time: 1h 8min 58s\n"
          ],
          "name": "stdout"
        }
      ]
    },
    {
      "cell_type": "code",
      "metadata": {
        "id": "8yJXoTQ1i9nV",
        "colab_type": "code",
        "colab": {},
        "outputId": "16aad67f-dcc6-48fe-f5c7-769722c8d45e"
      },
      "source": [
        "acc = history.history['acc']\n",
        "val_acc = history.history['val_acc']\n",
        "loss = history.history['loss']\n",
        "val_loss = history.history['val_loss']\n",
        "AUC = history.history['auc']\n",
        "val_AUC = history.history['val_auc']\n",
        "\n",
        "epochs = range(1, len(acc) + 1)\n",
        "\n",
        "plt.plot(epochs, acc, 'g', label='Training acc')\n",
        "plt.plot(epochs, val_acc, 'b', label='Validation acc')\n",
        "plt.title('Training and validation accuracy')\n",
        "plt.legend()\n",
        "plt.figure()\n",
        "\n",
        "plt.plot(epochs, loss, 'g', label='Training loss')\n",
        "plt.plot(epochs, val_loss, 'b', label='Validation loss')\n",
        "plt.title('Training and validation loss')\n",
        "plt.legend()\n",
        "plt.show()\n",
        "\n",
        "plt.plot(epochs, AUC, 'g', label='AUC')\n",
        "plt.plot(epochs, val_AUC, 'b', label='Val_AUC')\n",
        "plt.xlabel('No.of epochs')\n",
        "plt.ylabel('AUC')\n",
        "plt.title('Training and validation AUC')\n",
        "plt.legend()\n",
        "plt.figure()\n"
      ],
      "execution_count": 0,
      "outputs": [
        {
          "output_type": "display_data",
          "data": {
            "image/png": "[encoded data removed]",
            "text/plain": [
              "<Figure size 432x288 with 1 Axes>"
            ]
          },
          "metadata": {
            "tags": []
          }
        },
        {
          "output_type": "display_data",
          "data": {
            "image/png": "[encoded data removed]",
            "text/plain": [
              "<Figure size 432x288 with 1 Axes>"
            ]
          },
          "metadata": {
            "tags": []
          }
        },
        {
          "output_type": "execute_result",
          "data": {
            "text/plain": [
              "<Figure size 432x288 with 0 Axes>"
            ]
          },
          "metadata": {
            "tags": []
          },
          "execution_count": 25
        },
        {
          "output_type": "display_data",
          "data": {
            "image/png": "[encoded data removed]",
            "text/plain": [
              "<Figure size 432x288 with 1 Axes>"
            ]
          },
          "metadata": {
            "tags": []
          }
        },
        {
          "output_type": "display_data",
          "data": {
            "text/plain": [
              "<Figure size 432x288 with 0 Axes>"
            ]
          },
          "metadata": {
            "tags": []
          }
        }
      ]
    },
    {
      "cell_type": "code",
      "metadata": {
        "id": "koKN8vJPi9nZ",
        "colab_type": "code",
        "colab": {}
      },
      "source": [
        "model1.load_weights(\"best_model.hdf5\")\n",
        "model1.compile(loss='binary_crossentropy',\n",
        "              optimizer=Adam(lr=1e-5),\n",
        "              metrics=['accuracy',auc])"
      ],
      "execution_count": 0,
      "outputs": []
    },
    {
      "cell_type": "code",
      "metadata": {
        "id": "aA3mXhqpi9ne",
        "colab_type": "code",
        "colab": {},
        "outputId": "775de1f2-e40c-4899-e910-c89bd795fd8f"
      },
      "source": [
        "un_test_img=[]\n",
        "count=0\n",
        "for i in os.listdir(\"../input/test/test/\"):\n",
        "    un_test_img.append(i)\n",
        "    count+=1\n",
        "un_test_image=[]\n",
        "for i in tqdm(range(count)):\n",
        "    img = image.load_img('../input/test/test/'+un_test_img[i], target_size=(150,150,3), grayscale=False)\n",
        "    img = image.img_to_array(img)\n",
        "    img = img/255\n",
        "    un_test_image.append(img)\n",
        "un_test_img_array = np.array(un_test_image)"
      ],
      "execution_count": 0,
      "outputs": [
        {
          "output_type": "stream",
          "text": [
            "100%|██████████| 4000/4000 [00:06<00:00, 628.80it/s]\n"
          ],
          "name": "stderr"
        }
      ]
    },
    {
      "cell_type": "code",
      "metadata": {
        "id": "6XZmVHCTi9nq",
        "colab_type": "code",
        "colab": {},
        "outputId": "02ee359c-022f-4d6f-fdb2-d222b5bc1498"
      },
      "source": [
        "len(un_test_img)"
      ],
      "execution_count": 0,
      "outputs": [
        {
          "output_type": "execute_result",
          "data": {
            "text/plain": [
              "4000"
            ]
          },
          "metadata": {
            "tags": []
          },
          "execution_count": 28
        }
      ]
    },
    {
      "cell_type": "code",
      "metadata": {
        "id": "FPUiX9S5i9n4",
        "colab_type": "code",
        "colab": {}
      },
      "source": [
        "output = model1.predict_classes(un_test_img_array)"
      ],
      "execution_count": 0,
      "outputs": []
    },
    {
      "cell_type": "code",
      "metadata": {
        "id": "MljgnuOTi9n9",
        "colab_type": "code",
        "colab": {}
      },
      "source": [
        "submission_save = pd.DataFrame()\n",
        "submission_save['id'] = un_test_img\n",
        "submission_save['has_cactus'] = output\n",
        "submission_save.to_csv('submission.csv', header=True, index=False)"
      ],
      "execution_count": 0,
      "outputs": []
    }
  ]
}