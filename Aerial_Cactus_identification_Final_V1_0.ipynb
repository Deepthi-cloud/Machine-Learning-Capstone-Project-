{
  "nbformat": 4,
  "nbformat_minor": 0,
  "metadata": {
    "kernelspec": {
      "display_name": "Python 3",
      "language": "python",
      "name": "python3"
    },
    "language_info": {
      "codemirror_mode": {
        "name": "ipython",
        "version": 3
      },
      "file_extension": ".py",
      "mimetype": "text/x-python",
      "name": "python",
      "nbconvert_exporter": "python",
      "pygments_lexer": "ipython3",
      "version": "3.6.6"
    },
    "colab": {
      "name": "Aerial Cactus identification Final V1.0.ipynb",
      "version": "0.3.2",
      "provenance": [],
      "collapsed_sections": [],
      "include_colab_link": true
    }
  },
  "cells": [
    {
      "cell_type": "markdown",
      "metadata": {
        "id": "view-in-github",
        "colab_type": "text"
      },
      "source": [
        "<a href=\"https://colab.research.google.com/github/Deepthi-cloud/Machine-Learning-Capstone-Project-/blob/master/Aerial_Cactus_identification_Final_V1_0.ipynb\" target=\"_parent\"><img src=\"https://colab.research.google.com/assets/colab-badge.svg\" alt=\"Open In Colab\"/></a>"
      ]
    },
    {
      "cell_type": "code",
      "metadata": {
        "_cell_guid": "b1076dfc-b9ad-4769-8c92-a6c4dae69d19",
        "_uuid": "8f2839f25d086af736a60e9eeb907d3b93b6e0e5",
        "id": "Qzijqi6NgPFG",
        "colab_type": "code",
        "colab": {},
        "outputId": "fa60d2c6-2c3f-4910-9df7-df821b3ed54e"
      },
      "source": [
        "# This Python 3 environment comes with many helpful analytics libraries installed\n",
        "# It is defined by the kaggle/python docker image: https://github.com/kaggle/docker-python\n",
        "# For example, here's several helpful packages to load in \n",
        "\n",
        "import numpy as np # linear algebra\n",
        "import pandas as pd # data processing, CSV file I/O (e.g. pd.read_csv)\n",
        "\n",
        "# Input data files are available in the \"../input/\" directory.\n",
        "# For example, running this (by clicking run or pressing Shift+Enter) will list the files in the input directory\n",
        "\n",
        "import os\n",
        "print(os.listdir(\"../input\"))\n",
        "\n",
        "# Any results you write to the current directory are saved as output."
      ],
      "execution_count": 0,
      "outputs": [
        {
          "output_type": "stream",
          "text": [
            "['test', 'train', 'train.csv', 'sample_submission.csv']\n"
          ],
          "name": "stdout"
        }
      ]
    },
    {
      "cell_type": "code",
      "metadata": {
        "id": "t3oCjLYDgPFM",
        "colab_type": "code",
        "colab": {},
        "outputId": "dec29b2c-418d-40d5-a2d3-b051013abe27"
      },
      "source": [
        "import os,cv2\n",
        "import json\n",
        "from IPython.display import Image\n",
        "from keras.preprocessing import image\n",
        "from keras import optimizers\n",
        "from keras import layers,models\n",
        "from keras.applications.imagenet_utils import preprocess_input\n",
        "import matplotlib.pyplot as plt\n",
        "import seaborn as sns\n",
        "from keras import regularizers\n",
        "from keras.models import Sequential, Model \n",
        "from keras.preprocessing.image import ImageDataGenerator\n",
        "from keras import applications\n",
        "from tqdm import tqdm, tqdm_notebook\n",
        "from keras.layers import Activation, Dropout, Flatten, Dense\n",
        "from keras.applications import VGG16\n",
        "from keras.optimizers import Adam\n",
        "from keras.callbacks import ModelCheckpoint\n",
        "\n"
      ],
      "execution_count": 0,
      "outputs": [
        {
          "output_type": "stream",
          "text": [
            "Using TensorFlow backend.\n"
          ],
          "name": "stderr"
        }
      ]
    },
    {
      "cell_type": "code",
      "metadata": {
        "_cell_guid": "79c7e3d0-c299-4dcb-8224-4455121ee9b0",
        "_uuid": "d629ff2d2480ee46fbb7e2d37f6b5fab8052498a",
        "id": "I5j4lcmfgPFR",
        "colab_type": "code",
        "colab": {}
      },
      "source": [
        "%load_ext autoreload\n",
        "%autoreload 2\n",
        "\n",
        "%matplotlib inline"
      ],
      "execution_count": 0,
      "outputs": []
    },
    {
      "cell_type": "code",
      "metadata": {
        "id": "YeTqSYLGgPFU",
        "colab_type": "code",
        "colab": {},
        "outputId": "66188033-40f0-468f-b1b0-60218c1492fa"
      },
      "source": [
        "PATH = \"../input\"\n",
        "!ls {PATH}"
      ],
      "execution_count": 0,
      "outputs": [
        {
          "output_type": "stream",
          "text": [
            "sample_submission.csv  test  train  train.csv\r\n"
          ],
          "name": "stdout"
        }
      ]
    },
    {
      "cell_type": "code",
      "metadata": {
        "id": "iKs8pRh2gPFa",
        "colab_type": "code",
        "colab": {}
      },
      "source": [
        "train_dir = \"../input/train/train\"\n",
        "test_dir = \"../input/test/test\""
      ],
      "execution_count": 0,
      "outputs": []
    },
    {
      "cell_type": "code",
      "metadata": {
        "id": "UMVgH-XqgPFd",
        "colab_type": "code",
        "colab": {}
      },
      "source": [
        "df_train = pd.read_csv(f'{PATH}/train.csv',low_memory=False)\n",
        "df_test = pd.read_csv(f'{PATH}/sample_submission.csv',low_memory=False)\n",
        "df_train.has_cactus= df_train.has_cactus.astype(str)"
      ],
      "execution_count": 0,
      "outputs": []
    },
    {
      "cell_type": "code",
      "metadata": {
        "id": "bC2YkEkGgPFh",
        "colab_type": "code",
        "colab": {},
        "outputId": "348d88d8-319c-4ee1-8020-64eea02af3f9"
      },
      "source": [
        "print('Shape of Training data: {}'.format(df_train.shape))\n",
        "print('Features: {}'.format(df_train.columns))"
      ],
      "execution_count": 0,
      "outputs": [
        {
          "output_type": "stream",
          "text": [
            "Shape of Training data: (17500, 2)\n",
            "Features: Index(['id', 'has_cactus'], dtype='object')\n"
          ],
          "name": "stdout"
        }
      ]
    },
    {
      "cell_type": "code",
      "metadata": {
        "id": "TIckmyKagPFn",
        "colab_type": "code",
        "colab": {},
        "outputId": "9b9055a5-6374-45ae-f41d-90613ddb166b"
      },
      "source": [
        "df_train.tail()"
      ],
      "execution_count": 0,
      "outputs": [
        {
          "output_type": "execute_result",
          "data": {
            "text/html": [
              "<div>\n",
              "<style scoped>\n",
              "    .dataframe tbody tr th:only-of-type {\n",
              "        vertical-align: middle;\n",
              "    }\n",
              "\n",
              "    .dataframe tbody tr th {\n",
              "        vertical-align: top;\n",
              "    }\n",
              "\n",
              "    .dataframe thead th {\n",
              "        text-align: right;\n",
              "    }\n",
              "</style>\n",
              "<table border=\"1\" class=\"dataframe\">\n",
              "  <thead>\n",
              "    <tr style=\"text-align: right;\">\n",
              "      <th></th>\n",
              "      <th>id</th>\n",
              "      <th>has_cactus</th>\n",
              "    </tr>\n",
              "  </thead>\n",
              "  <tbody>\n",
              "    <tr>\n",
              "      <th>17495</th>\n",
              "      <td>ffede47a74e47a5930f81c0b6896479e.jpg</td>\n",
              "      <td>0</td>\n",
              "    </tr>\n",
              "    <tr>\n",
              "      <th>17496</th>\n",
              "      <td>ffef6382a50d23251d4bc05519c91037.jpg</td>\n",
              "      <td>1</td>\n",
              "    </tr>\n",
              "    <tr>\n",
              "      <th>17497</th>\n",
              "      <td>fff059ecc91b30be5745e8b81111dc7b.jpg</td>\n",
              "      <td>1</td>\n",
              "    </tr>\n",
              "    <tr>\n",
              "      <th>17498</th>\n",
              "      <td>fff43acb3b7a23edcc4ae937be2b7522.jpg</td>\n",
              "      <td>0</td>\n",
              "    </tr>\n",
              "    <tr>\n",
              "      <th>17499</th>\n",
              "      <td>fffd9e9b990eba07c836745d8aef1a3a.jpg</td>\n",
              "      <td>1</td>\n",
              "    </tr>\n",
              "  </tbody>\n",
              "</table>\n",
              "</div>"
            ],
            "text/plain": [
              "                                         id has_cactus\n",
              "17495  ffede47a74e47a5930f81c0b6896479e.jpg          0\n",
              "17496  ffef6382a50d23251d4bc05519c91037.jpg          1\n",
              "17497  fff059ecc91b30be5745e8b81111dc7b.jpg          1\n",
              "17498  fff43acb3b7a23edcc4ae937be2b7522.jpg          0\n",
              "17499  fffd9e9b990eba07c836745d8aef1a3a.jpg          1"
            ]
          },
          "metadata": {
            "tags": []
          },
          "execution_count": 8
        }
      ]
    },
    {
      "cell_type": "code",
      "metadata": {
        "id": "lKSoISIpgPFr",
        "colab_type": "code",
        "colab": {},
        "outputId": "f4869df3-2f15-42e4-fd38-b2954bcec1f5"
      },
      "source": [
        "plt.figure(figsize = (6,5))\n",
        "sns.set(style=\"darkgrid\")\n",
        "ax = sns.countplot(x = 'has_cactus',hue='has_cactus',data = df_train)\n",
        "plt.xticks(rotation='vertical')\n",
        "plt.xlabel('Count of Each Category', fontsize=12)\n",
        "plt.ylabel('Number of Occurrences', fontsize=12)\n",
        "plt.show()"
      ],
      "execution_count": 0,
      "outputs": [
        {
          "output_type": "display_data",
          "data": {
            "image/png": "[encoded data removed]",
            "text/plain": [
              "<Figure size 432x360 with 1 Axes>"
            ]
          },
          "metadata": {
            "tags": [],
            "needs_background": "light"
          }
        }
      ]
    },
    {
      "cell_type": "code",
      "metadata": {
        "id": "LslknospgPFw",
        "colab_type": "code",
        "colab": {},
        "outputId": "72816fe2-b94a-4fa4-ca62-4d802060b04f"
      },
      "source": [
        "df_train['has_cactus'].value_counts()"
      ],
      "execution_count": 0,
      "outputs": [
        {
          "output_type": "execute_result",
          "data": {
            "text/plain": [
              "1    13136\n",
              "0     4364\n",
              "Name: has_cactus, dtype: int64"
            ]
          },
          "metadata": {
            "tags": []
          },
          "execution_count": 10
        }
      ]
    },
    {
      "cell_type": "code",
      "metadata": {
        "id": "LY2KHf-OgPF0",
        "colab_type": "code",
        "colab": {},
        "outputId": "01540968-2d49-419b-a38e-b962595303cd"
      },
      "source": [
        "im = cv2.imread(\"../input/train/train/01e30c0ba6e91343a12d2126fcafc0dd.jpg\")\n",
        "plt.imshow(im)"
      ],
      "execution_count": 0,
      "outputs": [
        {
          "output_type": "execute_result",
          "data": {
            "text/plain": [
              "<matplotlib.image.AxesImage at 0x7f0037c55668>"
            ]
          },
          "metadata": {
            "tags": []
          },
          "execution_count": 11
        },
        {
          "output_type": "display_data",
          "data": {
            "image/png": "[encoded data removed]",
            "text/plain": [
              "<Figure size 432x288 with 1 Axes>"
            ]
          },
          "metadata": {
            "tags": []
          }
        }
      ]
    },
    {
      "cell_type": "code",
      "metadata": {
        "id": "Ab37OHtPgPF5",
        "colab_type": "code",
        "colab": {}
      },
      "source": [
        "train_datagen = ImageDataGenerator(rotation_range=40,\n",
        "        width_shift_range=0.2,\n",
        "        height_shift_range=0.2,\n",
        "        shear_range=0.2,\n",
        "        zoom_range=0.2,\n",
        "        horizontal_flip=True,\n",
        "        fill_mode='nearest')"
      ],
      "execution_count": 0,
      "outputs": []
    },
    {
      "cell_type": "markdown",
      "metadata": {
        "id": "hRafTVe_gPF8",
        "colab_type": "text"
      },
      "source": [
        "Data Augmentation: https://medium.com/nanonets/how-to-use-deep-learning-when-you-have-limited-data-part-2-data-augmentation-c26971dc8ced"
      ]
    },
    {
      "cell_type": "code",
      "metadata": {
        "id": "JKfKEMBugPF9",
        "colab_type": "code",
        "colab": {}
      },
      "source": [
        "valid_datagen = ImageDataGenerator(rescale=1/.255)"
      ],
      "execution_count": 0,
      "outputs": []
    },
    {
      "cell_type": "code",
      "metadata": {
        "id": "ewmGVV8SgPGN",
        "colab_type": "code",
        "colab": {}
      },
      "source": [
        "batch_size= 32"
      ],
      "execution_count": 0,
      "outputs": []
    },
    {
      "cell_type": "code",
      "metadata": {
        "id": "LnEoXGCagPGS",
        "colab_type": "code",
        "colab": {},
        "outputId": "09a5f193-82b4-4518-bd30-81c877790a45"
      },
      "source": [
        "train_generator = train_datagen.flow_from_dataframe(df_train[:15000], directory=train_dir, x_col='id', y_col='has_cactus', \n",
        "                    target_size=(150, 150), color_mode='rgb', classes=None, class_mode='binary',\n",
        "                    batch_size=batch_size, \n",
        "                    shuffle=True, seed=None, \n",
        "                    save_to_dir=None, save_prefix='', save_format='png', \n",
        "                    subset=None, interpolation='nearest', drop_duplicates=True)"
      ],
      "execution_count": 0,
      "outputs": [
        {
          "output_type": "stream",
          "text": [
            "Found 15000 validated image filenames belonging to 2 classes.\n"
          ],
          "name": "stdout"
        }
      ]
    },
    {
      "cell_type": "code",
      "metadata": {
        "id": "EfTdES1RgPGX",
        "colab_type": "code",
        "colab": {},
        "outputId": "3a9b0e33-cea0-4b1c-a936-1eaa7f3a91ef"
      },
      "source": [
        "valid_generator = valid_datagen.flow_from_dataframe(df_train[15000:], directory=train_dir, x_col='id', y_col='has_cactus', \n",
        "                    target_size=(150, 150), color_mode='rgb', classes=None, \n",
        "                    class_mode='binary', batch_size=batch_size, \n",
        "                    shuffle=True, seed=None, \n",
        "                    save_to_dir=None, save_prefix='', save_format='png', \n",
        "                    subset=None, interpolation='nearest', drop_duplicates=True)"
      ],
      "execution_count": 0,
      "outputs": [
        {
          "output_type": "stream",
          "text": [
            "Found 2500 validated image filenames belonging to 2 classes.\n"
          ],
          "name": "stdout"
        }
      ]
    },
    {
      "cell_type": "code",
      "metadata": {
        "id": "PtCgK_lrgPGk",
        "colab_type": "code",
        "colab": {},
        "outputId": "4a5ef495-2503-4e68-93ef-51ad51198cd6"
      },
      "source": [
        "vgg16_net = VGG16(weights='imagenet', \n",
        "                  include_top=False, \n",
        "                  input_shape=(150, 150, 3))"
      ],
      "execution_count": 0,
      "outputs": [
        {
          "output_type": "stream",
          "text": [
            "Downloading data from https://github.com/fchollet/deep-learning-models/releases/download/v0.1/vgg16_weights_tf_dim_ordering_tf_kernels_notop.h5\n",
            "58892288/58889256 [==============================] - 2s 0us/step\n"
          ],
          "name": "stdout"
        }
      ]
    },
    {
      "cell_type": "code",
      "metadata": {
        "id": "FjE1YEfggPGu",
        "colab_type": "code",
        "colab": {},
        "outputId": "4d3a7ad7-77e0-4c75-b741-cd83e77ae701"
      },
      "source": [
        "vgg16_net.trainable = False\n",
        "vgg16_net.summary()"
      ],
      "execution_count": 0,
      "outputs": [
        {
          "output_type": "stream",
          "text": [
            "_________________________________________________________________\n",
            "Layer (type)                 Output Shape              Param #   \n",
            "=================================================================\n",
            "input_1 (InputLayer)         (None, 150, 150, 3)       0         \n",
            "_________________________________________________________________\n",
            "block1_conv1 (Conv2D)        (None, 150, 150, 64)      1792      \n",
            "_________________________________________________________________\n",
            "block1_conv2 (Conv2D)        (None, 150, 150, 64)      36928     \n",
            "_________________________________________________________________\n",
            "block1_pool (MaxPooling2D)   (None, 75, 75, 64)        0         \n",
            "_________________________________________________________________\n",
            "block2_conv1 (Conv2D)        (None, 75, 75, 128)       73856     \n",
            "_________________________________________________________________\n",
            "block2_conv2 (Conv2D)        (None, 75, 75, 128)       147584    \n",
            "_________________________________________________________________\n",
            "block2_pool (MaxPooling2D)   (None, 37, 37, 128)       0         \n",
            "_________________________________________________________________\n",
            "block3_conv1 (Conv2D)        (None, 37, 37, 256)       295168    \n",
            "_________________________________________________________________\n",
            "block3_conv2 (Conv2D)        (None, 37, 37, 256)       590080    \n",
            "_________________________________________________________________\n",
            "block3_conv3 (Conv2D)        (None, 37, 37, 256)       590080    \n",
            "_________________________________________________________________\n",
            "block3_pool (MaxPooling2D)   (None, 18, 18, 256)       0         \n",
            "_________________________________________________________________\n",
            "block4_conv1 (Conv2D)        (None, 18, 18, 512)       1180160   \n",
            "_________________________________________________________________\n",
            "block4_conv2 (Conv2D)        (None, 18, 18, 512)       2359808   \n",
            "_________________________________________________________________\n",
            "block4_conv3 (Conv2D)        (None, 18, 18, 512)       2359808   \n",
            "_________________________________________________________________\n",
            "block4_pool (MaxPooling2D)   (None, 9, 9, 512)         0         \n",
            "_________________________________________________________________\n",
            "block5_conv1 (Conv2D)        (None, 9, 9, 512)         2359808   \n",
            "_________________________________________________________________\n",
            "block5_conv2 (Conv2D)        (None, 9, 9, 512)         2359808   \n",
            "_________________________________________________________________\n",
            "block5_conv3 (Conv2D)        (None, 9, 9, 512)         2359808   \n",
            "_________________________________________________________________\n",
            "block5_pool (MaxPooling2D)   (None, 4, 4, 512)         0         \n",
            "=================================================================\n",
            "Total params: 14,714,688\n",
            "Trainable params: 0\n",
            "Non-trainable params: 14,714,688\n",
            "_________________________________________________________________\n"
          ],
          "name": "stdout"
        }
      ]
    },
    {
      "cell_type": "code",
      "metadata": {
        "id": "wPcmiCC5gPG9",
        "colab_type": "code",
        "colab": {}
      },
      "source": [
        "model1 = Sequential()\n",
        "model1.add(vgg16_net)\n",
        "model1.add(Flatten())\n",
        "model1.add(Dense(256))\n",
        "model1.add(Activation('relu'))\n",
        "model1.add(Dropout(0.5))\n",
        "model1.add(Dense(1))\n",
        "model1.add(Activation('sigmoid'))"
      ],
      "execution_count": 0,
      "outputs": []
    },
    {
      "cell_type": "code",
      "metadata": {
        "id": "B1syBqq2gPHE",
        "colab_type": "code",
        "colab": {}
      },
      "source": [
        "filepath = \"best_model.hdf5\"\n",
        "checkpoint = ModelCheckpoint(filepath, monitor='val_acc', verbose=1, save_best_only=True, mode='max')\n",
        "call_backs_list = [checkpoint]"
      ],
      "execution_count": 0,
      "outputs": []
    },
    {
      "cell_type": "code",
      "metadata": {
        "id": "dXEIMLcVgPHK",
        "colab_type": "code",
        "colab": {}
      },
      "source": [
        "model1.compile(loss='binary_crossentropy',\n",
        "              optimizer=Adam(lr=1e-5),\n",
        "              metrics=['accuracy'])"
      ],
      "execution_count": 0,
      "outputs": []
    },
    {
      "cell_type": "code",
      "metadata": {
        "id": "TcFI9oOLgPHT",
        "colab_type": "code",
        "colab": {}
      },
      "source": [
        "batch_size = 32"
      ],
      "execution_count": 0,
      "outputs": []
    },
    {
      "cell_type": "code",
      "metadata": {
        "id": "WHnM9KTRgPHa",
        "colab_type": "code",
        "colab": {},
        "outputId": "7eb096a6-f738-40d5-fd8e-5ef99d68ad1f"
      },
      "source": [
        "%%time\n",
        "history = model1.fit_generator(train_generator,validation_data = valid_generator,validation_steps=800,\n",
        "                              epochs=100,\n",
        "                              steps_per_epoch=2000 // batch_size,callbacks=call_backs_list,\n",
        "                              verbose=2)"
      ],
      "execution_count": 0,
      "outputs": [
        {
          "output_type": "stream",
          "text": [
            "Epoch 1/100\n",
            " - 48s - loss: 2.0470 - acc: 0.6840 - val_loss: 2.0321 - val_acc: 0.7951\n",
            "\n",
            "Epoch 00001: val_acc improved from -inf to 0.79514, saving model to best_model.hdf5\n",
            "Epoch 2/100\n",
            " - 43s - loss: 1.3556 - acc: 0.7596 - val_loss: 1.2211 - val_acc: 0.8550\n",
            "\n",
            "Epoch 00002: val_acc improved from 0.79514 to 0.85498, saving model to best_model.hdf5\n",
            "Epoch 3/100\n",
            " - 43s - loss: 1.1960 - acc: 0.7767 - val_loss: 1.2599 - val_acc: 0.8508\n",
            "\n",
            "Epoch 00003: val_acc did not improve from 0.85498\n",
            "Epoch 4/100\n",
            " - 43s - loss: 0.9846 - acc: 0.7933 - val_loss: 0.9918 - val_acc: 0.8754\n",
            "\n",
            "Epoch 00004: val_acc improved from 0.85498 to 0.87536, saving model to best_model.hdf5\n",
            "Epoch 5/100\n",
            " - 43s - loss: 0.7968 - acc: 0.8211 - val_loss: 0.8686 - val_acc: 0.8914\n",
            "\n",
            "Epoch 00005: val_acc improved from 0.87536 to 0.89139, saving model to best_model.hdf5\n",
            "Epoch 6/100\n",
            " - 43s - loss: 0.8188 - acc: 0.8281 - val_loss: 0.8177 - val_acc: 0.8977\n",
            "\n",
            "Epoch 00006: val_acc improved from 0.89139 to 0.89771, saving model to best_model.hdf5\n",
            "Epoch 7/100\n",
            " - 43s - loss: 0.7150 - acc: 0.8387 - val_loss: 0.7358 - val_acc: 0.9123\n",
            "\n",
            "Epoch 00007: val_acc improved from 0.89771 to 0.91228, saving model to best_model.hdf5\n",
            "Epoch 8/100\n",
            " - 42s - loss: 0.7358 - acc: 0.8399 - val_loss: 0.6891 - val_acc: 0.9189\n",
            "\n",
            "Epoch 00008: val_acc improved from 0.91228 to 0.91887, saving model to best_model.hdf5\n",
            "Epoch 9/100\n",
            " - 42s - loss: 0.6878 - acc: 0.8443 - val_loss: 0.6610 - val_acc: 0.9266\n",
            "\n",
            "Epoch 00009: val_acc improved from 0.91887 to 0.92658, saving model to best_model.hdf5\n",
            "Epoch 10/100\n",
            " - 42s - loss: 0.6208 - acc: 0.8528 - val_loss: 0.5868 - val_acc: 0.9276\n",
            "\n",
            "Epoch 00010: val_acc improved from 0.92658 to 0.92761, saving model to best_model.hdf5\n",
            "Epoch 11/100\n",
            " - 42s - loss: 0.5978 - acc: 0.8624 - val_loss: 0.5571 - val_acc: 0.9269\n",
            "\n",
            "Epoch 00011: val_acc did not improve from 0.92761\n",
            "Epoch 12/100\n",
            " - 42s - loss: 0.5291 - acc: 0.8745 - val_loss: 0.6148 - val_acc: 0.9246\n",
            "\n",
            "Epoch 00012: val_acc did not improve from 0.92761\n",
            "Epoch 13/100\n",
            " - 43s - loss: 0.5702 - acc: 0.8674 - val_loss: 0.4910 - val_acc: 0.9367\n",
            "\n",
            "Epoch 00013: val_acc improved from 0.92761 to 0.93673, saving model to best_model.hdf5\n",
            "Epoch 14/100\n",
            " - 42s - loss: 0.4742 - acc: 0.8836 - val_loss: 0.4648 - val_acc: 0.9423\n",
            "\n",
            "Epoch 00014: val_acc improved from 0.93673 to 0.94230, saving model to best_model.hdf5\n",
            "Epoch 15/100\n",
            " - 42s - loss: 0.5646 - acc: 0.8659 - val_loss: 0.4431 - val_acc: 0.9452\n",
            "\n",
            "Epoch 00015: val_acc improved from 0.94230 to 0.94522, saving model to best_model.hdf5\n",
            "Epoch 16/100\n",
            " - 42s - loss: 0.4789 - acc: 0.8819 - val_loss: 0.4849 - val_acc: 0.9369\n",
            "\n",
            "Epoch 00016: val_acc did not improve from 0.94522\n",
            "Epoch 17/100\n",
            " - 42s - loss: 0.4058 - acc: 0.8926 - val_loss: 0.4485 - val_acc: 0.9419\n",
            "\n",
            "Epoch 00017: val_acc did not improve from 0.94522\n",
            "Epoch 18/100\n",
            " - 42s - loss: 0.4429 - acc: 0.8881 - val_loss: 0.4363 - val_acc: 0.9450\n",
            "\n",
            "Epoch 00018: val_acc did not improve from 0.94522\n",
            "Epoch 19/100\n",
            " - 42s - loss: 0.4571 - acc: 0.8841 - val_loss: 0.3982 - val_acc: 0.9473\n",
            "\n",
            "Epoch 00019: val_acc improved from 0.94522 to 0.94731, saving model to best_model.hdf5\n",
            "Epoch 20/100\n",
            " - 42s - loss: 0.3960 - acc: 0.8831 - val_loss: 0.4066 - val_acc: 0.9444\n",
            "\n",
            "Epoch 00020: val_acc did not improve from 0.94731\n",
            "Epoch 21/100\n",
            " - 42s - loss: 0.3893 - acc: 0.8861 - val_loss: 0.3938 - val_acc: 0.9488\n",
            "\n",
            "Epoch 00021: val_acc improved from 0.94731 to 0.94878, saving model to best_model.hdf5\n",
            "Epoch 22/100\n",
            " - 42s - loss: 0.3833 - acc: 0.8936 - val_loss: 0.4230 - val_acc: 0.9441\n",
            "\n",
            "Epoch 00022: val_acc did not improve from 0.94878\n",
            "Epoch 23/100\n",
            " - 42s - loss: 0.3785 - acc: 0.8947 - val_loss: 0.4079 - val_acc: 0.9479\n",
            "\n",
            "Epoch 00023: val_acc did not improve from 0.94878\n",
            "Epoch 24/100\n",
            " - 42s - loss: 0.3763 - acc: 0.8962 - val_loss: 0.3861 - val_acc: 0.9499\n",
            "\n",
            "Epoch 00024: val_acc improved from 0.94878 to 0.94994, saving model to best_model.hdf5\n",
            "Epoch 25/100\n",
            " - 42s - loss: 0.3638 - acc: 0.9007 - val_loss: 0.4047 - val_acc: 0.9486\n",
            "\n",
            "Epoch 00025: val_acc did not improve from 0.94994\n",
            "Epoch 26/100\n",
            " - 42s - loss: 0.3329 - acc: 0.8977 - val_loss: 0.4020 - val_acc: 0.9479\n",
            "\n",
            "Epoch 00026: val_acc did not improve from 0.94994\n",
            "Epoch 27/100\n",
            " - 42s - loss: 0.3262 - acc: 0.9062 - val_loss: 0.3666 - val_acc: 0.9510\n",
            "\n",
            "Epoch 00027: val_acc improved from 0.94994 to 0.95103, saving model to best_model.hdf5\n",
            "Epoch 28/100\n",
            " - 42s - loss: 0.3275 - acc: 0.9042 - val_loss: 0.3992 - val_acc: 0.9489\n",
            "\n",
            "Epoch 00028: val_acc did not improve from 0.95103\n",
            "Epoch 29/100\n",
            " - 42s - loss: 0.3269 - acc: 0.9093 - val_loss: 0.4071 - val_acc: 0.9486\n",
            "\n",
            "Epoch 00029: val_acc did not improve from 0.95103\n",
            "Epoch 30/100\n",
            " - 42s - loss: 0.2739 - acc: 0.9027 - val_loss: 0.3302 - val_acc: 0.9548\n",
            "\n",
            "Epoch 00030: val_acc improved from 0.95103 to 0.95478, saving model to best_model.hdf5\n",
            "Epoch 31/100\n",
            " - 42s - loss: 0.2927 - acc: 0.9125 - val_loss: 0.3147 - val_acc: 0.9580\n",
            "\n",
            "Epoch 00031: val_acc improved from 0.95478 to 0.95798, saving model to best_model.hdf5\n",
            "Epoch 32/100\n",
            " - 42s - loss: 0.2830 - acc: 0.9123 - val_loss: 0.3194 - val_acc: 0.9579\n",
            "\n",
            "Epoch 00032: val_acc did not improve from 0.95798\n",
            "Epoch 33/100\n",
            " - 42s - loss: 0.3024 - acc: 0.9138 - val_loss: 0.3401 - val_acc: 0.9552\n",
            "\n",
            "Epoch 00033: val_acc did not improve from 0.95798\n",
            "Epoch 34/100\n",
            " - 42s - loss: 0.2678 - acc: 0.9123 - val_loss: 0.3145 - val_acc: 0.9581\n",
            "\n",
            "Epoch 00034: val_acc improved from 0.95798 to 0.95814, saving model to best_model.hdf5\n",
            "Epoch 35/100\n",
            " - 42s - loss: 0.3016 - acc: 0.9113 - val_loss: 0.2989 - val_acc: 0.9593\n",
            "\n",
            "Epoch 00035: val_acc improved from 0.95814 to 0.95928, saving model to best_model.hdf5\n",
            "Epoch 36/100\n",
            " - 42s - loss: 0.2656 - acc: 0.9168 - val_loss: 0.3049 - val_acc: 0.9576\n",
            "\n",
            "Epoch 00036: val_acc did not improve from 0.95928\n",
            "Epoch 37/100\n",
            " - 42s - loss: 0.2896 - acc: 0.9118 - val_loss: 0.2876 - val_acc: 0.9611\n",
            "\n",
            "Epoch 00037: val_acc improved from 0.95928 to 0.96114, saving model to best_model.hdf5\n",
            "Epoch 38/100\n",
            " - 42s - loss: 0.3010 - acc: 0.9128 - val_loss: 0.2936 - val_acc: 0.9606\n",
            "\n",
            "Epoch 00038: val_acc did not improve from 0.96114\n",
            "Epoch 39/100\n",
            " - 42s - loss: 0.2620 - acc: 0.9098 - val_loss: 0.2920 - val_acc: 0.9600\n",
            "\n",
            "Epoch 00039: val_acc did not improve from 0.96114\n",
            "Epoch 40/100\n",
            " - 42s - loss: 0.2322 - acc: 0.9340 - val_loss: 0.2969 - val_acc: 0.9606\n",
            "\n",
            "Epoch 00040: val_acc did not improve from 0.96114\n",
            "Epoch 41/100\n",
            " - 42s - loss: 0.2414 - acc: 0.9153 - val_loss: 0.3475 - val_acc: 0.9530\n",
            "\n",
            "Epoch 00041: val_acc did not improve from 0.96114\n",
            "Epoch 42/100\n",
            " - 42s - loss: 0.2747 - acc: 0.9012 - val_loss: 0.2921 - val_acc: 0.9614\n",
            "\n",
            "Epoch 00042: val_acc improved from 0.96114 to 0.96137, saving model to best_model.hdf5\n",
            "Epoch 43/100\n",
            " - 42s - loss: 0.2683 - acc: 0.9073 - val_loss: 0.2716 - val_acc: 0.9613\n",
            "\n",
            "Epoch 00043: val_acc did not improve from 0.96137\n",
            "Epoch 44/100\n",
            " - 42s - loss: 0.2590 - acc: 0.9194 - val_loss: 0.2708 - val_acc: 0.9635\n",
            "\n",
            "Epoch 00044: val_acc improved from 0.96137 to 0.96355, saving model to best_model.hdf5\n",
            "Epoch 45/100\n",
            " - 42s - loss: 0.2271 - acc: 0.9239 - val_loss: 0.3073 - val_acc: 0.9588\n",
            "\n",
            "Epoch 00045: val_acc did not improve from 0.96355\n",
            "Epoch 46/100\n",
            " - 42s - loss: 0.2450 - acc: 0.9157 - val_loss: 0.3624 - val_acc: 0.9530\n",
            "\n",
            "Epoch 00046: val_acc did not improve from 0.96355\n",
            "Epoch 47/100\n",
            " - 42s - loss: 0.2343 - acc: 0.9244 - val_loss: 0.3344 - val_acc: 0.9556\n",
            "\n",
            "Epoch 00047: val_acc did not improve from 0.96355\n",
            "Epoch 48/100\n",
            " - 42s - loss: 0.2207 - acc: 0.9239 - val_loss: 0.4038 - val_acc: 0.9495\n",
            "\n",
            "Epoch 00048: val_acc did not improve from 0.96355\n",
            "Epoch 49/100\n",
            " - 42s - loss: 0.2214 - acc: 0.9204 - val_loss: 0.3371 - val_acc: 0.9555\n",
            "\n",
            "Epoch 00049: val_acc did not improve from 0.96355\n",
            "Epoch 50/100\n",
            " - 42s - loss: 0.2575 - acc: 0.9173 - val_loss: 0.3082 - val_acc: 0.9600\n",
            "\n",
            "Epoch 00050: val_acc did not improve from 0.96355\n",
            "Epoch 51/100\n",
            " - 42s - loss: 0.2312 - acc: 0.9244 - val_loss: 0.3020 - val_acc: 0.9611\n",
            "\n",
            "Epoch 00051: val_acc did not improve from 0.96355\n",
            "Epoch 52/100\n",
            " - 42s - loss: 0.2088 - acc: 0.9168 - val_loss: 0.3236 - val_acc: 0.9581\n",
            "\n",
            "Epoch 00052: val_acc did not improve from 0.96355\n",
            "Epoch 53/100\n",
            " - 42s - loss: 0.2162 - acc: 0.9249 - val_loss: 0.3616 - val_acc: 0.9525\n",
            "\n",
            "Epoch 00053: val_acc did not improve from 0.96355\n",
            "Epoch 54/100\n",
            " - 42s - loss: 0.2324 - acc: 0.9189 - val_loss: 0.3398 - val_acc: 0.9545\n",
            "\n",
            "Epoch 00054: val_acc did not improve from 0.96355\n",
            "Epoch 55/100\n",
            " - 42s - loss: 0.2323 - acc: 0.9264 - val_loss: 0.3106 - val_acc: 0.9600\n",
            "\n",
            "Epoch 00055: val_acc did not improve from 0.96355\n",
            "Epoch 56/100\n",
            " - 42s - loss: 0.2263 - acc: 0.9168 - val_loss: 0.3844 - val_acc: 0.9515\n",
            "\n",
            "Epoch 00056: val_acc did not improve from 0.96355\n",
            "Epoch 57/100\n",
            " - 42s - loss: 0.2248 - acc: 0.9239 - val_loss: 0.3279 - val_acc: 0.9580\n",
            "\n",
            "Epoch 00057: val_acc did not improve from 0.96355\n",
            "Epoch 58/100\n",
            " - 42s - loss: 0.2024 - acc: 0.9214 - val_loss: 0.3146 - val_acc: 0.9600\n",
            "\n",
            "Epoch 00058: val_acc did not improve from 0.96355\n",
            "Epoch 59/100\n",
            " - 42s - loss: 0.2079 - acc: 0.9259 - val_loss: 0.3165 - val_acc: 0.9596\n",
            "\n",
            "Epoch 00059: val_acc did not improve from 0.96355\n",
            "Epoch 60/100\n",
            " - 42s - loss: 0.1877 - acc: 0.9279 - val_loss: 0.3387 - val_acc: 0.9562\n",
            "\n",
            "Epoch 00060: val_acc did not improve from 0.96355\n",
            "Epoch 61/100\n",
            " - 42s - loss: 0.1934 - acc: 0.9375 - val_loss: 0.2784 - val_acc: 0.9647\n",
            "\n",
            "Epoch 00061: val_acc improved from 0.96355 to 0.96465, saving model to best_model.hdf5\n",
            "Epoch 62/100\n",
            " - 42s - loss: 0.1898 - acc: 0.9254 - val_loss: 0.2724 - val_acc: 0.9645\n",
            "\n",
            "Epoch 00062: val_acc did not improve from 0.96465\n",
            "Epoch 63/100\n",
            " - 42s - loss: 0.1668 - acc: 0.9390 - val_loss: 0.2813 - val_acc: 0.9636\n",
            "\n",
            "Epoch 00063: val_acc did not improve from 0.96465\n",
            "Epoch 64/100\n",
            " - 42s - loss: 0.2153 - acc: 0.9178 - val_loss: 0.2780 - val_acc: 0.9632\n",
            "\n",
            "Epoch 00064: val_acc did not improve from 0.96465\n",
            "Epoch 65/100\n",
            " - 42s - loss: 0.1834 - acc: 0.9350 - val_loss: 0.2582 - val_acc: 0.9669\n",
            "\n",
            "Epoch 00065: val_acc improved from 0.96465 to 0.96690, saving model to best_model.hdf5\n",
            "Epoch 66/100\n",
            " - 42s - loss: 0.1584 - acc: 0.9390 - val_loss: 0.2885 - val_acc: 0.9630\n",
            "\n",
            "Epoch 00066: val_acc did not improve from 0.96690\n",
            "Epoch 67/100\n",
            " - 42s - loss: 0.2060 - acc: 0.9294 - val_loss: 0.2887 - val_acc: 0.9631\n",
            "\n",
            "Epoch 00067: val_acc did not improve from 0.96690\n",
            "Epoch 68/100\n",
            " - 42s - loss: 0.1663 - acc: 0.9350 - val_loss: 0.3115 - val_acc: 0.9584\n",
            "\n",
            "Epoch 00068: val_acc did not improve from 0.96690\n",
            "Epoch 69/100\n",
            " - 42s - loss: 0.1778 - acc: 0.9315 - val_loss: 0.3418 - val_acc: 0.9551\n",
            "\n",
            "Epoch 00069: val_acc did not improve from 0.96690\n",
            "Epoch 70/100\n",
            " - 42s - loss: 0.1960 - acc: 0.9229 - val_loss: 0.2933 - val_acc: 0.9618\n",
            "\n",
            "Epoch 00070: val_acc did not improve from 0.96690\n",
            "Epoch 71/100\n",
            " - 42s - loss: 0.1903 - acc: 0.9269 - val_loss: 0.2722 - val_acc: 0.9667\n",
            "\n",
            "Epoch 00071: val_acc did not improve from 0.96690\n",
            "Epoch 72/100\n",
            " - 42s - loss: 0.1850 - acc: 0.9244 - val_loss: 0.2720 - val_acc: 0.9678\n",
            "\n",
            "Epoch 00072: val_acc improved from 0.96690 to 0.96778, saving model to best_model.hdf5\n",
            "Epoch 73/100\n",
            " - 42s - loss: 0.1926 - acc: 0.9259 - val_loss: 0.2821 - val_acc: 0.9653\n",
            "\n",
            "Epoch 00073: val_acc did not improve from 0.96778\n",
            "Epoch 74/100\n",
            " - 42s - loss: 0.1713 - acc: 0.9365 - val_loss: 0.2618 - val_acc: 0.9675\n",
            "\n",
            "Epoch 00074: val_acc did not improve from 0.96778\n",
            "Epoch 75/100\n",
            " - 42s - loss: 0.1650 - acc: 0.9375 - val_loss: 0.2487 - val_acc: 0.9687\n",
            "\n",
            "Epoch 00075: val_acc improved from 0.96778 to 0.96872, saving model to best_model.hdf5\n",
            "Epoch 76/100\n",
            " - 42s - loss: 0.1562 - acc: 0.9397 - val_loss: 0.2518 - val_acc: 0.9688\n",
            "\n",
            "Epoch 00076: val_acc improved from 0.96872 to 0.96880, saving model to best_model.hdf5\n",
            "Epoch 77/100\n",
            " - 42s - loss: 0.1794 - acc: 0.9304 - val_loss: 0.2203 - val_acc: 0.9675\n",
            "\n",
            "Epoch 00077: val_acc did not improve from 0.96880\n",
            "Epoch 78/100\n",
            " - 42s - loss: 0.1669 - acc: 0.9330 - val_loss: 0.2211 - val_acc: 0.9692\n",
            "\n",
            "Epoch 00078: val_acc improved from 0.96880 to 0.96919, saving model to best_model.hdf5\n",
            "Epoch 79/100\n",
            " - 42s - loss: 0.1670 - acc: 0.9350 - val_loss: 0.2202 - val_acc: 0.9708\n",
            "\n",
            "Epoch 00079: val_acc improved from 0.96919 to 0.97078, saving model to best_model.hdf5\n",
            "Epoch 80/100\n",
            " - 42s - loss: 0.1495 - acc: 0.9425 - val_loss: 0.2252 - val_acc: 0.9704\n",
            "\n",
            "Epoch 00080: val_acc did not improve from 0.97078\n",
            "Epoch 81/100\n",
            " - 42s - loss: 0.1683 - acc: 0.9320 - val_loss: 0.2283 - val_acc: 0.9705\n",
            "\n",
            "Epoch 00081: val_acc did not improve from 0.97078\n",
            "Epoch 82/100\n",
            " - 42s - loss: 0.1529 - acc: 0.9435 - val_loss: 0.2667 - val_acc: 0.9657\n",
            "\n",
            "Epoch 00082: val_acc did not improve from 0.97078\n",
            "Epoch 83/100\n",
            " - 42s - loss: 0.1574 - acc: 0.9390 - val_loss: 0.2397 - val_acc: 0.9696\n",
            "\n",
            "Epoch 00083: val_acc did not improve from 0.97078\n",
            "Epoch 84/100\n",
            " - 42s - loss: 0.1612 - acc: 0.9432 - val_loss: 0.2477 - val_acc: 0.9694\n",
            "\n",
            "Epoch 00084: val_acc did not improve from 0.97078\n",
            "Epoch 85/100\n",
            " - 42s - loss: 0.1600 - acc: 0.9395 - val_loss: 0.2353 - val_acc: 0.9700\n",
            "\n",
            "Epoch 00085: val_acc did not improve from 0.97078\n",
            "Epoch 86/100\n",
            " - 42s - loss: 0.1545 - acc: 0.9385 - val_loss: 0.2286 - val_acc: 0.9697\n",
            "\n",
            "Epoch 00086: val_acc did not improve from 0.97078\n",
            "Epoch 87/100\n",
            " - 42s - loss: 0.1976 - acc: 0.9294 - val_loss: 0.2294 - val_acc: 0.9695\n",
            "\n",
            "Epoch 00087: val_acc did not improve from 0.97078\n",
            "Epoch 88/100\n",
            " - 42s - loss: 0.1781 - acc: 0.9380 - val_loss: 0.2159 - val_acc: 0.9709\n",
            "\n",
            "Epoch 00088: val_acc improved from 0.97078 to 0.97085, saving model to best_model.hdf5\n",
            "Epoch 89/100\n",
            " - 42s - loss: 0.1436 - acc: 0.9481 - val_loss: 0.2278 - val_acc: 0.9708\n",
            "\n",
            "Epoch 00089: val_acc did not improve from 0.97085\n",
            "Epoch 90/100\n",
            " - 42s - loss: 0.1602 - acc: 0.9420 - val_loss: 0.2463 - val_acc: 0.9683\n",
            "\n",
            "Epoch 00090: val_acc did not improve from 0.97085\n",
            "Epoch 91/100\n",
            " - 42s - loss: 0.1712 - acc: 0.9293 - val_loss: 0.2597 - val_acc: 0.9654\n",
            "\n",
            "Epoch 00091: val_acc did not improve from 0.97085\n",
            "Epoch 92/100\n",
            " - 42s - loss: 0.1696 - acc: 0.9385 - val_loss: 0.2691 - val_acc: 0.9653\n",
            "\n",
            "Epoch 00092: val_acc did not improve from 0.97085\n",
            "Epoch 93/100\n",
            " - 42s - loss: 0.1500 - acc: 0.9441 - val_loss: 0.2524 - val_acc: 0.9673\n",
            "\n",
            "Epoch 00093: val_acc did not improve from 0.97085\n",
            "Epoch 94/100\n",
            " - 42s - loss: 0.1369 - acc: 0.9461 - val_loss: 0.2514 - val_acc: 0.9681\n",
            "\n",
            "Epoch 00094: val_acc did not improve from 0.97085\n",
            "Epoch 95/100\n",
            " - 42s - loss: 0.1800 - acc: 0.9395 - val_loss: 0.2417 - val_acc: 0.9676\n",
            "\n",
            "Epoch 00095: val_acc did not improve from 0.97085\n",
            "Epoch 96/100\n",
            " - 42s - loss: 0.1467 - acc: 0.9441 - val_loss: 0.2226 - val_acc: 0.9692\n",
            "\n",
            "Epoch 00096: val_acc did not improve from 0.97085\n",
            "Epoch 97/100\n",
            " - 42s - loss: 0.1336 - acc: 0.9461 - val_loss: 0.2276 - val_acc: 0.9698\n",
            "\n",
            "Epoch 00097: val_acc did not improve from 0.97085\n",
            "Epoch 98/100\n",
            " - 42s - loss: 0.1345 - acc: 0.9501 - val_loss: 0.2608 - val_acc: 0.9666\n",
            "\n",
            "Epoch 00098: val_acc did not improve from 0.97085\n",
            "Epoch 99/100\n",
            " - 42s - loss: 0.1635 - acc: 0.9355 - val_loss: 0.2568 - val_acc: 0.9671\n",
            "\n",
            "Epoch 00099: val_acc did not improve from 0.97085\n",
            "Epoch 100/100\n",
            " - 42s - loss: 0.1597 - acc: 0.9350 - val_loss: 0.2427 - val_acc: 0.9692\n",
            "\n",
            "Epoch 00100: val_acc did not improve from 0.97085\n",
            "CPU times: user 1h 1min 21s, sys: 6min 29s, total: 1h 7min 50s\n",
            "Wall time: 1h 10min 23s\n"
          ],
          "name": "stdout"
        }
      ]
    },
    {
      "cell_type": "code",
      "metadata": {
        "id": "lqyTWiGYgPHh",
        "colab_type": "code",
        "colab": {},
        "outputId": "9754e0ba-eb18-45ff-fb87-7b2df5fc14aa"
      },
      "source": [
        "acc = history.history['acc']\n",
        "val_acc = history.history['val_acc']\n",
        "loss = history.history['loss']\n",
        "val_loss = history.history['val_loss']\n",
        "\n",
        "epochs = range(1, len(acc) + 1)\n",
        "\n",
        "plt.plot(epochs, acc, 'g', label='Training acc')\n",
        "plt.plot(epochs, val_acc, 'b', label='Validation acc')\n",
        "plt.title('Training and validation accuracy')\n",
        "plt.legend()\n",
        "plt.figure()\n",
        "\n",
        "plt.plot(epochs, loss, 'g', label='Training loss')\n",
        "plt.plot(epochs, val_loss, 'b', label='Validation loss')\n",
        "plt.title('Training and validation loss')\n",
        "plt.legend()\n",
        "plt.show()"
      ],
      "execution_count": 0,
      "outputs": [
        {
          "output_type": "display_data",
          "data": {
            "image/png": "[encoded data removed]",
            "text/plain": [
              "<Figure size 432x288 with 1 Axes>"
            ]
          },
          "metadata": {
            "tags": []
          }
        },
        {
          "output_type": "display_data",
          "data": {
            "image/png": "[encoded data removed]",
            "text/plain": [
              "<Figure size 432x288 with 1 Axes>"
            ]
          },
          "metadata": {
            "tags": []
          }
        }
      ]
    },
    {
      "cell_type": "code",
      "metadata": {
        "id": "u9KCAlI7gPHn",
        "colab_type": "code",
        "colab": {}
      },
      "source": [
        "model1.load_weights(\"best_model.hdf5\")\n",
        "model1.compile(loss='binary_crossentropy',\n",
        "              optimizer=Adam(lr=1e-5),\n",
        "              metrics=['accuracy'])"
      ],
      "execution_count": 0,
      "outputs": []
    },
    {
      "cell_type": "code",
      "metadata": {
        "id": "8icXcFJfgPHx",
        "colab_type": "code",
        "colab": {},
        "outputId": "b1f8c721-7569-4f39-8275-b2883311ab88"
      },
      "source": [
        "un_test_img=[]\n",
        "count=0\n",
        "for i in os.listdir(\"../input/test/test/\"):\n",
        "    un_test_img.append(i)\n",
        "    count+=1\n",
        "un_test_image=[]\n",
        "for i in tqdm(range(count)):\n",
        "    img = image.load_img('../input/test/test/'+un_test_img[i], target_size=(150,150,3), grayscale=False)\n",
        "    img = image.img_to_array(img)\n",
        "    img = img/255\n",
        "    un_test_image.append(img)\n",
        "un_test_img_array = np.array(un_test_image)"
      ],
      "execution_count": 0,
      "outputs": [
        {
          "output_type": "stream",
          "text": [
            "100%|██████████| 4000/4000 [00:06<00:00, 584.12it/s]\n"
          ],
          "name": "stderr"
        }
      ]
    },
    {
      "cell_type": "code",
      "metadata": {
        "id": "9Ra2kJQvgPH1",
        "colab_type": "code",
        "colab": {},
        "outputId": "3a6f22f7-fbd7-4a1d-d8dc-41a6b084d578"
      },
      "source": [
        "len(un_test_img)"
      ],
      "execution_count": 0,
      "outputs": [
        {
          "output_type": "execute_result",
          "data": {
            "text/plain": [
              "4000"
            ]
          },
          "metadata": {
            "tags": []
          },
          "execution_count": 28
        }
      ]
    },
    {
      "cell_type": "code",
      "metadata": {
        "id": "VRdAvtaPgPIB",
        "colab_type": "code",
        "colab": {}
      },
      "source": [
        "output = model1.predict_classes(un_test_img_array)"
      ],
      "execution_count": 0,
      "outputs": []
    },
    {
      "cell_type": "code",
      "metadata": {
        "id": "ImEONOK3gPIG",
        "colab_type": "code",
        "colab": {}
      },
      "source": [
        "submission_save = pd.DataFrame()\n",
        "submission_save['id'] = un_test_img\n",
        "submission_save['has_cactus'] = output\n",
        "submission_save.to_csv('submission.csv', header=True, index=False)"
      ],
      "execution_count": 0,
      "outputs": []
    },
    {
      "cell_type": "code",
      "metadata": {
        "id": "aG8LFdA7gPIM",
        "colab_type": "code",
        "colab": {}
      },
      "source": [
        "results = pd.read_csv('submission.csv')"
      ],
      "execution_count": 0,
      "outputs": []
    },
    {
      "cell_type": "code",
      "metadata": {
        "id": "lP9xlVfugPIT",
        "colab_type": "code",
        "colab": {},
        "outputId": "aa547fb1-7dfa-49f8-d26b-e9c6e1881c8c"
      },
      "source": [
        "plt.figure(figsize = (6,5))\n",
        "sns.set(style=\"darkgrid\")\n",
        "ax = sns.countplot(x = 'has_cactus',hue='has_cactus',data = results)\n",
        "plt.xticks(rotation='vertical')\n",
        "plt.xlabel('Count of Each Category', fontsize=12)\n",
        "plt.ylabel('Number of Occurrences', fontsize=12)\n",
        "plt.show()"
      ],
      "execution_count": 0,
      "outputs": [
        {
          "output_type": "display_data",
          "data": {
            "image/png": "[encoded data removed]",
            "text/plain": [
              "<Figure size 432x360 with 1 Axes>"
            ]
          },
          "metadata": {
            "tags": []
          }
        }
      ]
    }
  ]
}