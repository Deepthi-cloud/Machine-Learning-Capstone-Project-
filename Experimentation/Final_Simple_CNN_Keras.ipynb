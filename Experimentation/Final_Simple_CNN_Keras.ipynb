{
  "nbformat": 4,
  "nbformat_minor": 0,
  "metadata": {
    "kernelspec": {
      "display_name": "Python 3",
      "language": "python",
      "name": "python3"
    },
    "language_info": {
      "name": "python",
      "version": "3.6.4",
      "mimetype": "text/x-python",
      "codemirror_mode": {
        "name": "ipython",
        "version": 3
      },
      "pygments_lexer": "ipython3",
      "nbconvert_exporter": "python",
      "file_extension": ".py"
    },
    "colab": {
      "name": "Final Simple CNN Keras.ipynb",
      "version": "0.3.2",
      "provenance": [],
      "include_colab_link": true
    }
  },
  "cells": [
    {
      "cell_type": "markdown",
      "metadata": {
        "id": "view-in-github",
        "colab_type": "text"
      },
      "source": [
        "<a href=\"https://colab.research.google.com/github/Deepthi-cloud/Machine-Learning-Capstone-Project-/blob/master/Final_Simple_CNN_Keras.ipynb\" target=\"_parent\"><img src=\"https://colab.research.google.com/assets/colab-badge.svg\" alt=\"Open In Colab\"/></a>"
      ]
    },
    {
      "cell_type": "code",
      "metadata": {
        "_uuid": "8f2839f25d086af736a60e9eeb907d3b93b6e0e5",
        "_cell_guid": "b1076dfc-b9ad-4769-8c92-a6c4dae69d19",
        "trusted": true,
        "id": "DxvQQf6hj-Ou",
        "colab_type": "code",
        "colab": {},
        "outputId": "ddb0ab9d-6a5b-4053-b859-b683ce8d09eb"
      },
      "source": [
        "# This Python 3 environment comes with many helpful analytics libraries installed\n",
        "# It is defined by the kaggle/python docker image: https://github.com/kaggle/docker-python\n",
        "# For example, here's several helpful packages to load in \n",
        "\n",
        "import numpy as np # linear algebra\n",
        "import pandas as pd # data processing, CSV file I/O (e.g. pd.read_csv)\n",
        "\n",
        "# Input data files are available in the \"../input/\" directory.\n",
        "# For example, running this (by clicking run or pressing Shift+Enter) will list the files in the input directory\n",
        "\n",
        "import os\n",
        "print(os.listdir(\"../input\"))\n",
        "\n",
        "# Any results you write to the current directory are saved as output."
      ],
      "execution_count": 0,
      "outputs": [
        {
          "output_type": "stream",
          "text": [
            "['train', 'test', 'train.csv', 'sample_submission.csv']\n"
          ],
          "name": "stdout"
        }
      ]
    },
    {
      "cell_type": "code",
      "metadata": {
        "_cell_guid": "79c7e3d0-c299-4dcb-8224-4455121ee9b0",
        "_uuid": "d629ff2d2480ee46fbb7e2d37f6b5fab8052498a",
        "trusted": true,
        "id": "DpQhEAUij-O8",
        "colab_type": "code",
        "colab": {}
      },
      "source": [
        "import os,cv2\n",
        "import json\n",
        "from IPython.display import Image\n",
        "from keras.preprocessing import image\n",
        "from keras import optimizers\n",
        "from keras import layers,models\n",
        "from keras.applications.imagenet_utils import preprocess_input\n",
        "import matplotlib.pyplot as plt\n",
        "import seaborn as sns\n",
        "from keras import regularizers\n",
        "from keras.models import Sequential, Model \n",
        "from keras.preprocessing.image import ImageDataGenerator\n",
        "from keras import applications\n",
        "from tqdm import tqdm, tqdm_notebook\n",
        "from keras.layers import Activation, Dropout, Flatten, Dense\n",
        "from keras.applications import VGG16\n",
        "from keras.optimizers import Adam,SGD\n",
        "from keras.callbacks import ModelCheckpoint,EarlyStopping\n",
        "from keras.layers import Conv2D\n",
        "from keras.layers import MaxPooling2D"
      ],
      "execution_count": 0,
      "outputs": []
    },
    {
      "cell_type": "code",
      "metadata": {
        "trusted": true,
        "id": "7PGlQm9Mj-PJ",
        "colab_type": "code",
        "colab": {},
        "outputId": "16afd996-ae3f-4514-aebd-d0fbfe4f71f9"
      },
      "source": [
        "%load_ext autoreload\n",
        "%autoreload 2\n",
        "\n",
        "%matplotlib inline"
      ],
      "execution_count": 0,
      "outputs": [
        {
          "output_type": "stream",
          "text": [
            "The autoreload extension is already loaded. To reload it, use:\n",
            "  %reload_ext autoreload\n"
          ],
          "name": "stdout"
        }
      ]
    },
    {
      "cell_type": "code",
      "metadata": {
        "trusted": true,
        "id": "0TaGfdPBj-Pe",
        "colab_type": "code",
        "colab": {},
        "outputId": "3a735c80-87e4-4dfc-d722-b04ebab9a8cb"
      },
      "source": [
        "PATH = \"../input\"\n",
        "!ls {PATH}"
      ],
      "execution_count": 0,
      "outputs": [
        {
          "output_type": "stream",
          "text": [
            "sample_submission.csv  test  train  train.csv\r\n"
          ],
          "name": "stdout"
        }
      ]
    },
    {
      "cell_type": "code",
      "metadata": {
        "trusted": true,
        "id": "25cL9-SNj-Pr",
        "colab_type": "code",
        "colab": {}
      },
      "source": [
        "train_dir = \"../input/train/train\"\n",
        "test_dir = \"../input/test/test\""
      ],
      "execution_count": 0,
      "outputs": []
    },
    {
      "cell_type": "code",
      "metadata": {
        "trusted": true,
        "id": "hAafH4gbj-Py",
        "colab_type": "code",
        "colab": {}
      },
      "source": [
        "df_train = pd.read_csv(f'{PATH}/train.csv',low_memory=False)\n",
        "df_test = pd.read_csv(f'{PATH}/sample_submission.csv',low_memory=False)\n",
        "df_train.has_cactus= df_train.has_cactus.astype(str)"
      ],
      "execution_count": 0,
      "outputs": []
    },
    {
      "cell_type": "code",
      "metadata": {
        "trusted": true,
        "id": "YV3xE_73j-P5",
        "colab_type": "code",
        "colab": {},
        "outputId": "989a26e6-0642-4ca3-cb35-9f5e4d85550c"
      },
      "source": [
        "print('Shape of Training data: {}'.format(df_train.shape))\n",
        "print('Features: {}'.format(df_train.columns))"
      ],
      "execution_count": 0,
      "outputs": [
        {
          "output_type": "stream",
          "text": [
            "Shape of Training data: (17500, 2)\n",
            "Features: Index(['id', 'has_cactus'], dtype='object')\n"
          ],
          "name": "stdout"
        }
      ]
    },
    {
      "cell_type": "code",
      "metadata": {
        "trusted": true,
        "id": "U6oVAJoHj-QG",
        "colab_type": "code",
        "colab": {},
        "outputId": "0b97518a-8ef9-44aa-e6a0-6c81627fcef3"
      },
      "source": [
        "df_train.tail()"
      ],
      "execution_count": 0,
      "outputs": [
        {
          "output_type": "execute_result",
          "data": {
            "text/plain": [
              "                                         id has_cactus\n",
              "17495  ffede47a74e47a5930f81c0b6896479e.jpg          0\n",
              "17496  ffef6382a50d23251d4bc05519c91037.jpg          1\n",
              "17497  fff059ecc91b30be5745e8b81111dc7b.jpg          1\n",
              "17498  fff43acb3b7a23edcc4ae937be2b7522.jpg          0\n",
              "17499  fffd9e9b990eba07c836745d8aef1a3a.jpg          1"
            ],
            "text/html": [
              "<div>\n",
              "<style scoped>\n",
              "    .dataframe tbody tr th:only-of-type {\n",
              "        vertical-align: middle;\n",
              "    }\n",
              "\n",
              "    .dataframe tbody tr th {\n",
              "        vertical-align: top;\n",
              "    }\n",
              "\n",
              "    .dataframe thead th {\n",
              "        text-align: right;\n",
              "    }\n",
              "</style>\n",
              "<table border=\"1\" class=\"dataframe\">\n",
              "  <thead>\n",
              "    <tr style=\"text-align: right;\">\n",
              "      <th></th>\n",
              "      <th>id</th>\n",
              "      <th>has_cactus</th>\n",
              "    </tr>\n",
              "  </thead>\n",
              "  <tbody>\n",
              "    <tr>\n",
              "      <th>17495</th>\n",
              "      <td>ffede47a74e47a5930f81c0b6896479e.jpg</td>\n",
              "      <td>0</td>\n",
              "    </tr>\n",
              "    <tr>\n",
              "      <th>17496</th>\n",
              "      <td>ffef6382a50d23251d4bc05519c91037.jpg</td>\n",
              "      <td>1</td>\n",
              "    </tr>\n",
              "    <tr>\n",
              "      <th>17497</th>\n",
              "      <td>fff059ecc91b30be5745e8b81111dc7b.jpg</td>\n",
              "      <td>1</td>\n",
              "    </tr>\n",
              "    <tr>\n",
              "      <th>17498</th>\n",
              "      <td>fff43acb3b7a23edcc4ae937be2b7522.jpg</td>\n",
              "      <td>0</td>\n",
              "    </tr>\n",
              "    <tr>\n",
              "      <th>17499</th>\n",
              "      <td>fffd9e9b990eba07c836745d8aef1a3a.jpg</td>\n",
              "      <td>1</td>\n",
              "    </tr>\n",
              "  </tbody>\n",
              "</table>\n",
              "</div>"
            ]
          },
          "metadata": {
            "tags": []
          },
          "execution_count": 161
        }
      ]
    },
    {
      "cell_type": "code",
      "metadata": {
        "trusted": true,
        "id": "1BLFGGkaj-QS",
        "colab_type": "code",
        "colab": {},
        "outputId": "bb09b364-5e3c-4b65-c5f0-725fe7e64347"
      },
      "source": [
        "plt.figure(figsize = (6,5))\n",
        "sns.set(style=\"darkgrid\")\n",
        "ax = sns.countplot(x = 'has_cactus',hue='has_cactus',data = df_train)\n",
        "plt.xticks(rotation='vertical')\n",
        "plt.xlabel('Count of Each Category', fontsize=12)\n",
        "plt.ylabel('Number of Occurrences', fontsize=12)\n",
        "plt.show()"
      ],
      "execution_count": 0,
      "outputs": [
        {
          "output_type": "display_data",
          "data": {
            "text/plain": [
              "<Figure size 432x360 with 1 Axes>"
            ],
            "image/png": "[encoded data removed]"
          },
          "metadata": {
            "tags": [],
            "needs_background": "light"
          }
        }
      ]
    },
    {
      "cell_type": "code",
      "metadata": {
        "trusted": true,
        "id": "bwnFaz1hj-Qb",
        "colab_type": "code",
        "colab": {},
        "outputId": "46e8fa33-e99e-4a81-9a86-3ab3b3b418cf"
      },
      "source": [
        "im = cv2.imread(\"../input/train/train/01e30c0ba6e91343a12d2126fcafc0dd.jpg\")\n",
        "plt.imshow(im)"
      ],
      "execution_count": 0,
      "outputs": [
        {
          "output_type": "execute_result",
          "data": {
            "text/plain": [
              "<matplotlib.image.AxesImage at 0x7f71097d7e48>"
            ]
          },
          "metadata": {
            "tags": []
          },
          "execution_count": 163
        },
        {
          "output_type": "display_data",
          "data": {
            "text/plain": [
              "<Figure size 432x288 with 1 Axes>"
            ],
            "image/png": "[encoded data removed]"
          },
          "metadata": {
            "tags": []
          }
        }
      ]
    },
    {
      "cell_type": "code",
      "metadata": {
        "trusted": true,
        "id": "Ylnf47PCj-Qj",
        "colab_type": "code",
        "colab": {}
      },
      "source": [
        "train_datagen = ImageDataGenerator(rotation_range=40,\n",
        "        width_shift_range=0.2,\n",
        "        height_shift_range=0.2,\n",
        "        shear_range=0.2,\n",
        "        zoom_range=0.2,\n",
        "        horizontal_flip=True,\n",
        "        fill_mode='nearest')\n",
        "\n",
        "valid_datagen = ImageDataGenerator(rescale=1/.255)"
      ],
      "execution_count": 0,
      "outputs": []
    },
    {
      "cell_type": "code",
      "metadata": {
        "trusted": true,
        "id": "juyZtURpj-Qq",
        "colab_type": "code",
        "colab": {},
        "outputId": "3437283f-8626-4d24-fa8e-5d9dfd496e1f"
      },
      "source": [
        "batch_size= 128\n",
        "\n",
        "train_generator = train_datagen.flow_from_dataframe(df_train[:15000], directory=train_dir, x_col='id', y_col='has_cactus', \n",
        "                    target_size=(150, 150), color_mode='rgb', classes=None, class_mode='binary',\n",
        "                    batch_size=batch_size, \n",
        "                    shuffle=True, seed=None, \n",
        "                    save_to_dir=None, save_prefix='', save_format='png', \n",
        "                    subset=None, interpolation='nearest', drop_duplicates=True)\n",
        "\n",
        "valid_generator = valid_datagen.flow_from_dataframe(df_train[15000:], directory=train_dir, x_col='id', y_col='has_cactus', \n",
        "                    target_size=(150, 150), color_mode='rgb', classes=None, \n",
        "                    class_mode='binary', batch_size=batch_size, \n",
        "                    shuffle=True, seed=None, \n",
        "                    save_to_dir=None, save_prefix='', save_format='png', \n",
        "                    subset=None, interpolation='nearest', drop_duplicates=True)"
      ],
      "execution_count": 0,
      "outputs": [
        {
          "output_type": "stream",
          "text": [
            "Found 15000 validated image filenames belonging to 2 classes.\n",
            "Found 2500 validated image filenames belonging to 2 classes.\n"
          ],
          "name": "stdout"
        }
      ]
    },
    {
      "cell_type": "code",
      "metadata": {
        "trusted": true,
        "id": "rO-ES6ATj-Q0",
        "colab_type": "code",
        "colab": {},
        "outputId": "195c3073-7cc1-47fb-a3c8-25851e4f4ba0"
      },
      "source": [
        "model=models.Sequential()\n",
        "\n",
        "model.add(layers.Conv2D(32,(5,5),activation='relu',input_shape=(150,150,3)))\n",
        "model.add(layers.MaxPooling2D(pool_size = (2,2), padding = 'same'))\n",
        "model.add(Dropout(0.2))\n",
        "\n",
        "model.add(layers.Conv2D(64,(5,5),activation='relu'))\n",
        "model.add(layers.MaxPooling2D(pool_size = (2,2), padding = 'same'))\n",
        "model.add(Dropout(0.2))\n",
        "\n",
        "model.add(layers.Conv2D(64,(3,3),activation='relu'))\n",
        "model.add(layers.MaxPooling2D(pool_size = (2,2), padding = 'same'))\n",
        "model.add(Dropout(0.4))\n",
        "\n",
        "model.add(layers.Conv2D(128,(3,3),activation='relu'))\n",
        "model.add(layers.MaxPooling2D(pool_size = (2,2), padding = 'same'))\n",
        "model.add(Dropout(0.4))\n",
        "model.add(layers.Conv2D(128,(3,3),activation='relu'))\n",
        "model.add(layers.MaxPooling2D(pool_size = (2,2), padding = 'same'))\n",
        "model.add(Dropout(0.4))\n",
        "\n",
        "model.add(layers.Conv2D(256,(3,3),activation='relu'))\n",
        "model.add(layers.MaxPooling2D(pool_size = (2,2), padding = 'same'))\n",
        "model.add(Dropout(0.4))\n",
        "\n",
        "model.add(layers.Flatten())\n",
        "model.add(layers.Dense(512,activation='relu'))\n",
        "model.add(layers.Dense(1,activation='sigmoid'))\n",
        "model.summary()"
      ],
      "execution_count": 0,
      "outputs": [
        {
          "output_type": "stream",
          "text": [
            "_________________________________________________________________\n",
            "Layer (type)                 Output Shape              Param #   \n",
            "=================================================================\n",
            "conv2d_60 (Conv2D)           (None, 146, 146, 32)      2432      \n",
            "_________________________________________________________________\n",
            "max_pooling2d_59 (MaxPooling (None, 73, 73, 32)        0         \n",
            "_________________________________________________________________\n",
            "dropout_59 (Dropout)         (None, 73, 73, 32)        0         \n",
            "_________________________________________________________________\n",
            "conv2d_61 (Conv2D)           (None, 69, 69, 64)        51264     \n",
            "_________________________________________________________________\n",
            "max_pooling2d_60 (MaxPooling (None, 35, 35, 64)        0         \n",
            "_________________________________________________________________\n",
            "dropout_60 (Dropout)         (None, 35, 35, 64)        0         \n",
            "_________________________________________________________________\n",
            "conv2d_62 (Conv2D)           (None, 33, 33, 64)        36928     \n",
            "_________________________________________________________________\n",
            "max_pooling2d_61 (MaxPooling (None, 17, 17, 64)        0         \n",
            "_________________________________________________________________\n",
            "dropout_61 (Dropout)         (None, 17, 17, 64)        0         \n",
            "_________________________________________________________________\n",
            "conv2d_63 (Conv2D)           (None, 15, 15, 128)       73856     \n",
            "_________________________________________________________________\n",
            "max_pooling2d_62 (MaxPooling (None, 8, 8, 128)         0         \n",
            "_________________________________________________________________\n",
            "dropout_62 (Dropout)         (None, 8, 8, 128)         0         \n",
            "_________________________________________________________________\n",
            "conv2d_64 (Conv2D)           (None, 6, 6, 128)         147584    \n",
            "_________________________________________________________________\n",
            "max_pooling2d_63 (MaxPooling (None, 3, 3, 128)         0         \n",
            "_________________________________________________________________\n",
            "dropout_63 (Dropout)         (None, 3, 3, 128)         0         \n",
            "_________________________________________________________________\n",
            "conv2d_65 (Conv2D)           (None, 1, 1, 256)         295168    \n",
            "_________________________________________________________________\n",
            "max_pooling2d_64 (MaxPooling (None, 1, 1, 256)         0         \n",
            "_________________________________________________________________\n",
            "dropout_64 (Dropout)         (None, 1, 1, 256)         0         \n",
            "_________________________________________________________________\n",
            "flatten_10 (Flatten)         (None, 256)               0         \n",
            "_________________________________________________________________\n",
            "dense_19 (Dense)             (None, 512)               131584    \n",
            "_________________________________________________________________\n",
            "dense_20 (Dense)             (None, 1)                 513       \n",
            "=================================================================\n",
            "Total params: 739,329\n",
            "Trainable params: 739,329\n",
            "Non-trainable params: 0\n",
            "_________________________________________________________________\n"
          ],
          "name": "stdout"
        }
      ]
    },
    {
      "cell_type": "code",
      "metadata": {
        "trusted": true,
        "id": "BSYHUsS8j-Q9",
        "colab_type": "code",
        "colab": {}
      },
      "source": [
        "#optim = SGD(lr=0.02, momentum=0.5, decay=0.0, nesterov=True)\n",
        "model.compile(loss='binary_crossentropy',\n",
        "              optimizer=Adam(lr=1e-5),\n",
        "              metrics=['accuracy'])"
      ],
      "execution_count": 0,
      "outputs": []
    },
    {
      "cell_type": "code",
      "metadata": {
        "trusted": true,
        "id": "IHVBh6J5j-RG",
        "colab_type": "code",
        "colab": {}
      },
      "source": [
        "filepath = \"my_model_new.hdf5\"\n",
        "checkpoint = ModelCheckpoint(filepath, monitor='val_acc', verbose=1, save_best_only=True, mode='max')\n",
        "early = EarlyStopping(monitor=\"val_acc\", mode=\"max\", patience=15)\n",
        "call_backs_list = [checkpoint,early]"
      ],
      "execution_count": 0,
      "outputs": []
    },
    {
      "cell_type": "code",
      "metadata": {
        "trusted": true,
        "id": "7Ui3XPZAj-RN",
        "colab_type": "code",
        "colab": {},
        "outputId": "cf6e038c-67c1-4164-eef1-5b4ed65b491e"
      },
      "source": [
        "%%time\n",
        "\n",
        "history = model.fit_generator(train_generator,validation_data = valid_generator,\n",
        "                              validation_steps=valid_generator.n//batch_size,\n",
        "                              epochs=100,\n",
        "                              steps_per_epoch=train_generator.n//batch_size,callbacks=call_backs_list,\n",
        "                              verbose=2)"
      ],
      "execution_count": 0,
      "outputs": [
        {
          "output_type": "stream",
          "text": [
            "Epoch 1/100\n",
            " - 83s - loss: 4.4694 - acc: 0.6488 - val_loss: 2.8381 - val_acc: 0.7504\n",
            "\n",
            "Epoch 00001: val_acc improved from -inf to 0.75041, saving model to my_model_new.hdf5\n",
            "Epoch 2/100\n",
            " - 77s - loss: 3.1038 - acc: 0.6684 - val_loss: 0.6912 - val_acc: 0.7449\n",
            "\n",
            "Epoch 00002: val_acc did not improve from 0.75041\n",
            "Epoch 3/100\n",
            " - 79s - loss: 1.5830 - acc: 0.6445 - val_loss: 0.4358 - val_acc: 0.7567\n",
            "\n",
            "Epoch 00003: val_acc improved from 0.75041 to 0.75675, saving model to my_model_new.hdf5\n",
            "Epoch 4/100\n",
            " - 80s - loss: 0.9753 - acc: 0.6611 - val_loss: 0.4861 - val_acc: 0.7525\n",
            "\n",
            "Epoch 00004: val_acc did not improve from 0.75675\n",
            "Epoch 5/100\n",
            " - 79s - loss: 0.7717 - acc: 0.6718 - val_loss: 0.4985 - val_acc: 0.7508\n",
            "\n",
            "Epoch 00005: val_acc did not improve from 0.75675\n",
            "Epoch 6/100\n",
            " - 80s - loss: 0.6686 - acc: 0.6945 - val_loss: 0.4788 - val_acc: 0.7407\n",
            "\n",
            "Epoch 00006: val_acc did not improve from 0.75675\n",
            "Epoch 7/100\n",
            " - 80s - loss: 0.6051 - acc: 0.7155 - val_loss: 0.4554 - val_acc: 0.7563\n",
            "\n",
            "Epoch 00007: val_acc did not improve from 0.75675\n",
            "Epoch 8/100\n",
            " - 82s - loss: 0.5721 - acc: 0.7265 - val_loss: 0.4277 - val_acc: 0.7799\n",
            "\n",
            "Epoch 00008: val_acc improved from 0.75675 to 0.77993, saving model to my_model_new.hdf5\n",
            "Epoch 9/100\n",
            " - 82s - loss: 0.5006 - acc: 0.7561 - val_loss: 0.3431 - val_acc: 0.8689\n",
            "\n",
            "Epoch 00009: val_acc improved from 0.77993 to 0.86889, saving model to my_model_new.hdf5\n",
            "Epoch 10/100\n",
            " - 82s - loss: 0.4429 - acc: 0.7816 - val_loss: 0.2605 - val_acc: 0.9271\n",
            "\n",
            "Epoch 00010: val_acc improved from 0.86889 to 0.92707, saving model to my_model_new.hdf5\n",
            "Epoch 11/100\n",
            " - 80s - loss: 0.3720 - acc: 0.8298 - val_loss: 0.2208 - val_acc: 0.9372\n",
            "\n",
            "Epoch 00011: val_acc improved from 0.92707 to 0.93718, saving model to my_model_new.hdf5\n",
            "Epoch 12/100\n",
            " - 81s - loss: 0.3030 - acc: 0.8757 - val_loss: 0.2050 - val_acc: 0.9334\n",
            "\n",
            "Epoch 00012: val_acc did not improve from 0.93718\n",
            "Epoch 13/100\n",
            " - 81s - loss: 0.2620 - acc: 0.8960 - val_loss: 0.2122 - val_acc: 0.9300\n",
            "\n",
            "Epoch 00013: val_acc did not improve from 0.93718\n",
            "Epoch 14/100\n",
            " - 82s - loss: 0.2459 - acc: 0.9083 - val_loss: 0.1946 - val_acc: 0.9363\n",
            "\n",
            "Epoch 00014: val_acc did not improve from 0.93718\n",
            "Epoch 15/100\n",
            " - 81s - loss: 0.2271 - acc: 0.9145 - val_loss: 0.1962 - val_acc: 0.9372\n",
            "\n",
            "Epoch 00015: val_acc did not improve from 0.93718\n",
            "Epoch 16/100\n",
            " - 82s - loss: 0.2193 - acc: 0.9164 - val_loss: 0.2403 - val_acc: 0.9321\n",
            "\n",
            "Epoch 00016: val_acc did not improve from 0.93718\n",
            "Epoch 17/100\n",
            " - 83s - loss: 0.2131 - acc: 0.9210 - val_loss: 0.2079 - val_acc: 0.9397\n",
            "\n",
            "Epoch 00017: val_acc improved from 0.93718 to 0.93971, saving model to my_model_new.hdf5\n",
            "Epoch 18/100\n",
            " - 81s - loss: 0.2160 - acc: 0.9204 - val_loss: 0.2118 - val_acc: 0.9342\n",
            "\n",
            "Epoch 00018: val_acc did not improve from 0.93971\n",
            "Epoch 19/100\n",
            " - 81s - loss: 0.1986 - acc: 0.9248 - val_loss: 0.2066 - val_acc: 0.9380\n",
            "\n",
            "Epoch 00019: val_acc did not improve from 0.93971\n",
            "Epoch 20/100\n",
            " - 81s - loss: 0.2028 - acc: 0.9233 - val_loss: 0.1946 - val_acc: 0.9393\n",
            "\n",
            "Epoch 00020: val_acc did not improve from 0.93971\n",
            "Epoch 21/100\n",
            " - 80s - loss: 0.1958 - acc: 0.9263 - val_loss: 0.1984 - val_acc: 0.9363\n",
            "\n",
            "Epoch 00021: val_acc did not improve from 0.93971\n",
            "Epoch 22/100\n",
            " - 81s - loss: 0.1937 - acc: 0.9263 - val_loss: 0.2252 - val_acc: 0.9342\n",
            "\n",
            "Epoch 00022: val_acc did not improve from 0.93971\n",
            "Epoch 23/100\n",
            " - 81s - loss: 0.1940 - acc: 0.9261 - val_loss: 0.1919 - val_acc: 0.9418\n",
            "\n",
            "Epoch 00023: val_acc improved from 0.93971 to 0.94182, saving model to my_model_new.hdf5\n",
            "Epoch 24/100\n",
            " - 81s - loss: 0.1963 - acc: 0.9267 - val_loss: 0.1994 - val_acc: 0.9389\n",
            "\n",
            "Epoch 00024: val_acc did not improve from 0.94182\n",
            "Epoch 25/100\n",
            " - 81s - loss: 0.1916 - acc: 0.9309 - val_loss: 0.1814 - val_acc: 0.9401\n",
            "\n",
            "Epoch 00025: val_acc did not improve from 0.94182\n",
            "Epoch 26/100\n",
            " - 81s - loss: 0.1899 - acc: 0.9272 - val_loss: 0.1843 - val_acc: 0.9410\n",
            "\n",
            "Epoch 00026: val_acc did not improve from 0.94182\n",
            "Epoch 27/100\n",
            " - 82s - loss: 0.1851 - acc: 0.9306 - val_loss: 0.2180 - val_acc: 0.9376\n",
            "\n",
            "Epoch 00027: val_acc did not improve from 0.94182\n",
            "Epoch 28/100\n",
            " - 82s - loss: 0.1838 - acc: 0.9296 - val_loss: 0.1855 - val_acc: 0.9418\n",
            "\n",
            "Epoch 00028: val_acc improved from 0.94182 to 0.94182, saving model to my_model_new.hdf5\n",
            "Epoch 29/100\n",
            " - 81s - loss: 0.1800 - acc: 0.9319 - val_loss: 0.1835 - val_acc: 0.9418\n",
            "\n",
            "Epoch 00029: val_acc did not improve from 0.94182\n",
            "Epoch 30/100\n",
            " - 82s - loss: 0.1825 - acc: 0.9322 - val_loss: 0.1915 - val_acc: 0.9397\n",
            "\n",
            "Epoch 00030: val_acc did not improve from 0.94182\n",
            "Epoch 31/100\n",
            " - 82s - loss: 0.1765 - acc: 0.9335 - val_loss: 0.1792 - val_acc: 0.9401\n",
            "\n",
            "Epoch 00031: val_acc did not improve from 0.94182\n",
            "Epoch 32/100\n",
            " - 81s - loss: 0.1809 - acc: 0.9321 - val_loss: 0.1935 - val_acc: 0.9418\n",
            "\n",
            "Epoch 00032: val_acc did not improve from 0.94182\n",
            "Epoch 33/100\n",
            " - 82s - loss: 0.1730 - acc: 0.9332 - val_loss: 0.1940 - val_acc: 0.9355\n",
            "\n",
            "Epoch 00033: val_acc did not improve from 0.94182\n",
            "Epoch 34/100\n",
            " - 82s - loss: 0.1763 - acc: 0.9335 - val_loss: 0.1835 - val_acc: 0.9422\n",
            "\n",
            "Epoch 00034: val_acc improved from 0.94182 to 0.94224, saving model to my_model_new.hdf5\n",
            "Epoch 35/100\n",
            " - 81s - loss: 0.1769 - acc: 0.9340 - val_loss: 0.1704 - val_acc: 0.9422\n",
            "\n",
            "Epoch 00035: val_acc did not improve from 0.94224\n",
            "Epoch 36/100\n",
            " - 81s - loss: 0.1700 - acc: 0.9349 - val_loss: 0.1715 - val_acc: 0.9410\n",
            "\n",
            "Epoch 00036: val_acc did not improve from 0.94224\n",
            "Epoch 37/100\n",
            " - 81s - loss: 0.1670 - acc: 0.9359 - val_loss: 0.1778 - val_acc: 0.9427\n",
            "\n",
            "Epoch 00037: val_acc improved from 0.94224 to 0.94266, saving model to my_model_new.hdf5\n",
            "Epoch 38/100\n",
            " - 81s - loss: 0.1733 - acc: 0.9349 - val_loss: 0.1717 - val_acc: 0.9410\n",
            "\n",
            "Epoch 00038: val_acc did not improve from 0.94266\n",
            "Epoch 39/100\n",
            " - 81s - loss: 0.1680 - acc: 0.9354 - val_loss: 0.1608 - val_acc: 0.9477\n",
            "\n",
            "Epoch 00039: val_acc improved from 0.94266 to 0.94772, saving model to my_model_new.hdf5\n",
            "Epoch 40/100\n",
            " - 81s - loss: 0.1631 - acc: 0.9386 - val_loss: 0.1716 - val_acc: 0.9389\n",
            "\n",
            "Epoch 00040: val_acc did not improve from 0.94772\n",
            "Epoch 41/100\n",
            " - 81s - loss: 0.1668 - acc: 0.9363 - val_loss: 0.1680 - val_acc: 0.9420\n",
            "\n",
            "Epoch 00041: val_acc did not improve from 0.94772\n",
            "Epoch 42/100\n",
            " - 82s - loss: 0.1590 - acc: 0.9385 - val_loss: 0.1547 - val_acc: 0.9448\n",
            "\n",
            "Epoch 00042: val_acc did not improve from 0.94772\n",
            "Epoch 43/100\n",
            " - 81s - loss: 0.1652 - acc: 0.9361 - val_loss: 0.1500 - val_acc: 0.9465\n",
            "\n",
            "Epoch 00043: val_acc did not improve from 0.94772\n",
            "Epoch 44/100\n",
            " - 81s - loss: 0.1661 - acc: 0.9359 - val_loss: 0.1753 - val_acc: 0.9401\n",
            "\n",
            "Epoch 00044: val_acc did not improve from 0.94772\n",
            "Epoch 45/100\n",
            " - 81s - loss: 0.1528 - acc: 0.9408 - val_loss: 0.1541 - val_acc: 0.9490\n",
            "\n",
            "Epoch 00045: val_acc improved from 0.94772 to 0.94899, saving model to my_model_new.hdf5\n",
            "Epoch 46/100\n",
            " - 82s - loss: 0.1613 - acc: 0.9403 - val_loss: 0.1456 - val_acc: 0.9490\n",
            "\n",
            "Epoch 00046: val_acc improved from 0.94899 to 0.94899, saving model to my_model_new.hdf5\n",
            "Epoch 47/100\n",
            " - 81s - loss: 0.1524 - acc: 0.9431 - val_loss: 0.1604 - val_acc: 0.9469\n",
            "\n",
            "Epoch 00047: val_acc did not improve from 0.94899\n",
            "Epoch 48/100\n",
            " - 82s - loss: 0.1562 - acc: 0.9407 - val_loss: 0.1423 - val_acc: 0.9511\n",
            "\n",
            "Epoch 00048: val_acc improved from 0.94899 to 0.95110, saving model to my_model_new.hdf5\n",
            "Epoch 49/100\n",
            " - 83s - loss: 0.1492 - acc: 0.9427 - val_loss: 0.1423 - val_acc: 0.9439\n",
            "\n",
            "Epoch 00049: val_acc did not improve from 0.95110\n",
            "Epoch 50/100\n",
            " - 83s - loss: 0.1494 - acc: 0.9409 - val_loss: 0.1366 - val_acc: 0.9503\n",
            "\n",
            "Epoch 00050: val_acc did not improve from 0.95110\n",
            "Epoch 51/100\n",
            " - 81s - loss: 0.1432 - acc: 0.9450 - val_loss: 0.1524 - val_acc: 0.9481\n",
            "\n",
            "Epoch 00051: val_acc did not improve from 0.95110\n",
            "Epoch 52/100\n",
            " - 81s - loss: 0.1439 - acc: 0.9442 - val_loss: 0.1483 - val_acc: 0.9444\n",
            "\n",
            "Epoch 00052: val_acc did not improve from 0.95110\n",
            "Epoch 53/100\n",
            " - 81s - loss: 0.1389 - acc: 0.9458 - val_loss: 0.1580 - val_acc: 0.9481\n",
            "\n",
            "Epoch 00053: val_acc did not improve from 0.95110\n",
            "Epoch 54/100\n",
            " - 83s - loss: 0.1415 - acc: 0.9462 - val_loss: 0.1187 - val_acc: 0.9587\n",
            "\n",
            "Epoch 00054: val_acc improved from 0.95110 to 0.95868, saving model to my_model_new.hdf5\n",
            "Epoch 55/100\n",
            " - 82s - loss: 0.1372 - acc: 0.9486 - val_loss: 0.1313 - val_acc: 0.9532\n",
            "\n",
            "Epoch 00055: val_acc did not improve from 0.95868\n",
            "Epoch 56/100\n",
            " - 83s - loss: 0.1290 - acc: 0.9491 - val_loss: 0.1438 - val_acc: 0.9519\n"
          ],
          "name": "stdout"
        },
        {
          "output_type": "stream",
          "text": [
            "\n",
            "Epoch 00056: val_acc did not improve from 0.95868\n",
            "Epoch 57/100\n",
            " - 83s - loss: 0.1320 - acc: 0.9481 - val_loss: 0.1398 - val_acc: 0.9507\n",
            "\n",
            "Epoch 00057: val_acc did not improve from 0.95868\n",
            "Epoch 58/100\n",
            " - 82s - loss: 0.1245 - acc: 0.9511 - val_loss: 0.1584 - val_acc: 0.9486\n",
            "\n",
            "Epoch 00058: val_acc did not improve from 0.95868\n",
            "Epoch 59/100\n",
            " - 81s - loss: 0.1274 - acc: 0.9494 - val_loss: 0.1253 - val_acc: 0.9549\n",
            "\n",
            "Epoch 00059: val_acc did not improve from 0.95868\n",
            "Epoch 60/100\n",
            " - 82s - loss: 0.1218 - acc: 0.9535 - val_loss: 0.1410 - val_acc: 0.9511\n",
            "\n",
            "Epoch 00060: val_acc did not improve from 0.95868\n",
            "Epoch 61/100\n",
            " - 81s - loss: 0.1222 - acc: 0.9517 - val_loss: 0.1313 - val_acc: 0.9552\n",
            "\n",
            "Epoch 00061: val_acc did not improve from 0.95868\n",
            "Epoch 62/100\n",
            " - 81s - loss: 0.1190 - acc: 0.9546 - val_loss: 0.1350 - val_acc: 0.9553\n",
            "\n",
            "Epoch 00062: val_acc did not improve from 0.95868\n",
            "Epoch 63/100\n",
            " - 81s - loss: 0.1173 - acc: 0.9527 - val_loss: 0.1606 - val_acc: 0.9511\n",
            "\n",
            "Epoch 00063: val_acc did not improve from 0.95868\n",
            "Epoch 64/100\n",
            " - 82s - loss: 0.1162 - acc: 0.9538 - val_loss: 0.1227 - val_acc: 0.9574\n",
            "\n",
            "Epoch 00064: val_acc did not improve from 0.95868\n",
            "Epoch 65/100\n",
            " - 82s - loss: 0.1164 - acc: 0.9547 - val_loss: 0.1607 - val_acc: 0.9519\n",
            "\n",
            "Epoch 00065: val_acc did not improve from 0.95868\n",
            "Epoch 66/100\n",
            " - 80s - loss: 0.1112 - acc: 0.9567 - val_loss: 0.1280 - val_acc: 0.9595\n",
            "\n",
            "Epoch 00066: val_acc improved from 0.95868 to 0.95953, saving model to my_model_new.hdf5\n",
            "Epoch 67/100\n",
            " - 81s - loss: 0.1153 - acc: 0.9570 - val_loss: 0.1331 - val_acc: 0.9549\n",
            "\n",
            "Epoch 00067: val_acc did not improve from 0.95953\n",
            "Epoch 68/100\n",
            " - 83s - loss: 0.1086 - acc: 0.9558 - val_loss: 0.1249 - val_acc: 0.9595\n",
            "\n",
            "Epoch 00068: val_acc did not improve from 0.95953\n",
            "Epoch 69/100\n",
            " - 82s - loss: 0.1089 - acc: 0.9560 - val_loss: 0.1701 - val_acc: 0.9583\n",
            "\n",
            "Epoch 00069: val_acc did not improve from 0.95953\n",
            "Epoch 70/100\n",
            " - 82s - loss: 0.1059 - acc: 0.9590 - val_loss: 0.1379 - val_acc: 0.9671\n",
            "\n",
            "Epoch 00070: val_acc improved from 0.95953 to 0.96712, saving model to my_model_new.hdf5\n",
            "Epoch 71/100\n",
            " - 81s - loss: 0.1021 - acc: 0.9594 - val_loss: 0.1318 - val_acc: 0.9642\n",
            "\n",
            "Epoch 00071: val_acc did not improve from 0.96712\n",
            "Epoch 72/100\n",
            " - 82s - loss: 0.1035 - acc: 0.9591 - val_loss: 0.1550 - val_acc: 0.9608\n",
            "\n",
            "Epoch 00072: val_acc did not improve from 0.96712\n",
            "Epoch 73/100\n",
            " - 81s - loss: 0.1050 - acc: 0.9590 - val_loss: 0.1423 - val_acc: 0.9637\n",
            "\n",
            "Epoch 00073: val_acc did not improve from 0.96712\n",
            "Epoch 74/100\n",
            " - 81s - loss: 0.0976 - acc: 0.9611 - val_loss: 0.1332 - val_acc: 0.9583\n",
            "\n",
            "Epoch 00074: val_acc did not improve from 0.96712\n",
            "Epoch 75/100\n",
            " - 79s - loss: 0.1065 - acc: 0.9597 - val_loss: 0.1257 - val_acc: 0.9680\n",
            "\n",
            "Epoch 00075: val_acc improved from 0.96712 to 0.96796, saving model to my_model_new.hdf5\n",
            "Epoch 76/100\n",
            " - 80s - loss: 0.1007 - acc: 0.9616 - val_loss: 0.2092 - val_acc: 0.9511\n",
            "\n",
            "Epoch 00076: val_acc did not improve from 0.96796\n",
            "Epoch 77/100\n",
            " - 79s - loss: 0.0955 - acc: 0.9620 - val_loss: 0.1272 - val_acc: 0.9680\n",
            "\n",
            "Epoch 00077: val_acc did not improve from 0.96796\n",
            "Epoch 78/100\n",
            " - 80s - loss: 0.1026 - acc: 0.9606 - val_loss: 0.1105 - val_acc: 0.9667\n",
            "\n",
            "Epoch 00078: val_acc did not improve from 0.96796\n",
            "Epoch 79/100\n",
            " - 80s - loss: 0.0972 - acc: 0.9615 - val_loss: 0.1024 - val_acc: 0.9696\n",
            "\n",
            "Epoch 00079: val_acc improved from 0.96796 to 0.96965, saving model to my_model_new.hdf5\n",
            "Epoch 80/100\n",
            " - 81s - loss: 0.0964 - acc: 0.9617 - val_loss: 0.1499 - val_acc: 0.9637\n",
            "\n",
            "Epoch 00080: val_acc did not improve from 0.96965\n",
            "Epoch 81/100\n",
            " - 81s - loss: 0.0937 - acc: 0.9636 - val_loss: 0.1460 - val_acc: 0.9634\n",
            "\n",
            "Epoch 00081: val_acc did not improve from 0.96965\n",
            "Epoch 82/100\n",
            " - 80s - loss: 0.0955 - acc: 0.9634 - val_loss: 0.2174 - val_acc: 0.9557\n",
            "\n",
            "Epoch 00082: val_acc did not improve from 0.96965\n",
            "Epoch 83/100\n",
            " - 80s - loss: 0.0963 - acc: 0.9641 - val_loss: 0.1493 - val_acc: 0.9642\n",
            "\n",
            "Epoch 00083: val_acc did not improve from 0.96965\n",
            "Epoch 84/100\n",
            " - 80s - loss: 0.0956 - acc: 0.9621 - val_loss: 0.1400 - val_acc: 0.9671\n",
            "\n",
            "Epoch 00084: val_acc did not improve from 0.96965\n",
            "Epoch 85/100\n",
            " - 80s - loss: 0.0932 - acc: 0.9641 - val_loss: 0.1558 - val_acc: 0.9642\n",
            "\n",
            "Epoch 00085: val_acc did not improve from 0.96965\n",
            "Epoch 86/100\n",
            " - 80s - loss: 0.0951 - acc: 0.9647 - val_loss: 0.1720 - val_acc: 0.9629\n",
            "\n",
            "Epoch 00086: val_acc did not improve from 0.96965\n",
            "Epoch 87/100\n",
            " - 81s - loss: 0.0870 - acc: 0.9660 - val_loss: 0.1261 - val_acc: 0.9696\n",
            "\n",
            "Epoch 00087: val_acc did not improve from 0.96965\n",
            "Epoch 88/100\n",
            " - 81s - loss: 0.0961 - acc: 0.9625 - val_loss: 0.0975 - val_acc: 0.9734\n",
            "\n",
            "Epoch 00088: val_acc improved from 0.96965 to 0.97344, saving model to my_model_new.hdf5\n",
            "Epoch 89/100\n",
            " - 79s - loss: 0.0902 - acc: 0.9653 - val_loss: 0.1559 - val_acc: 0.9663\n",
            "\n",
            "Epoch 00089: val_acc did not improve from 0.97344\n",
            "Epoch 90/100\n",
            " - 80s - loss: 0.0888 - acc: 0.9651 - val_loss: 0.1759 - val_acc: 0.9629\n",
            "\n",
            "Epoch 00090: val_acc did not improve from 0.97344\n",
            "Epoch 91/100\n",
            " - 81s - loss: 0.0861 - acc: 0.9679 - val_loss: 0.1881 - val_acc: 0.9587\n",
            "\n",
            "Epoch 00091: val_acc did not improve from 0.97344\n",
            "Epoch 92/100\n",
            " - 81s - loss: 0.0889 - acc: 0.9646 - val_loss: 0.2983 - val_acc: 0.9435\n",
            "\n",
            "Epoch 00092: val_acc did not improve from 0.97344\n",
            "Epoch 93/100\n",
            " - 81s - loss: 0.0865 - acc: 0.9665 - val_loss: 0.1022 - val_acc: 0.9760\n",
            "\n",
            "Epoch 00093: val_acc improved from 0.97344 to 0.97597, saving model to my_model_new.hdf5\n",
            "Epoch 94/100\n",
            " - 80s - loss: 0.0948 - acc: 0.9617 - val_loss: 0.2766 - val_acc: 0.9439\n",
            "\n",
            "Epoch 00094: val_acc did not improve from 0.97597\n",
            "Epoch 95/100\n",
            " - 80s - loss: 0.0799 - acc: 0.9701 - val_loss: 0.2069 - val_acc: 0.9549\n",
            "\n",
            "Epoch 00095: val_acc did not improve from 0.97597\n",
            "Epoch 96/100\n",
            " - 80s - loss: 0.0844 - acc: 0.9689 - val_loss: 0.2281 - val_acc: 0.9515\n",
            "\n",
            "Epoch 00096: val_acc did not improve from 0.97597\n",
            "Epoch 97/100\n",
            " - 81s - loss: 0.0869 - acc: 0.9681 - val_loss: 0.1708 - val_acc: 0.9621\n",
            "\n",
            "Epoch 00097: val_acc did not improve from 0.97597\n",
            "Epoch 98/100\n",
            " - 81s - loss: 0.0798 - acc: 0.9699 - val_loss: 0.2011 - val_acc: 0.9574\n",
            "\n",
            "Epoch 00098: val_acc did not improve from 0.97597\n",
            "Epoch 99/100\n",
            " - 80s - loss: 0.0839 - acc: 0.9674 - val_loss: 0.2630 - val_acc: 0.9486\n",
            "\n",
            "Epoch 00099: val_acc did not improve from 0.97597\n",
            "Epoch 100/100\n",
            " - 81s - loss: 0.0826 - acc: 0.9685 - val_loss: 0.2929 - val_acc: 0.9439\n",
            "\n",
            "Epoch 00100: val_acc did not improve from 0.97597\n",
            "CPU times: user 2h 4min 59s, sys: 16min, total: 2h 21min\n",
            "Wall time: 2h 15min 16s\n"
          ],
          "name": "stdout"
        }
      ]
    },
    {
      "cell_type": "code",
      "metadata": {
        "trusted": true,
        "id": "PatU_6kZj-Rc",
        "colab_type": "code",
        "colab": {},
        "outputId": "fff873ec-4ff3-4522-fa2a-229f96fc2fd7"
      },
      "source": [
        "acc = history.history['acc']\n",
        "val_acc = history.history['val_acc']\n",
        "loss = history.history['loss']\n",
        "val_loss = history.history['val_loss']\n",
        "\n",
        "epochs = range(1, len(acc) + 1)\n",
        "\n",
        "plt.plot(epochs, acc, 'g', label='Training acc')\n",
        "plt.plot(epochs, val_acc, 'b', label='Validation acc')\n",
        "plt.title('Training and validation accuracy')\n",
        "plt.legend()\n",
        "plt.figure()\n",
        "\n",
        "plt.plot(epochs, loss, 'g', label='Training loss')\n",
        "plt.plot(epochs, val_loss, 'b', label='Validation loss')\n",
        "plt.title('Training and validation loss')\n",
        "plt.legend()\n",
        "plt.show()"
      ],
      "execution_count": 0,
      "outputs": [
        {
          "output_type": "display_data",
          "data": {
            "text/plain": [
              "<Figure size 432x288 with 1 Axes>"
            ],
            "image/png": "[encoded data removed]"
          },
          "metadata": {
            "tags": []
          }
        },
        {
          "output_type": "display_data",
          "data": {
            "text/plain": [
              "<Figure size 432x288 with 1 Axes>"
            ],
            "image/png": "[encoded data removed]"
          },
          "metadata": {
            "tags": []
          }
        }
      ]
    },
    {
      "cell_type": "code",
      "metadata": {
        "trusted": true,
        "id": "KhhQ07lhj-Rm",
        "colab_type": "code",
        "colab": {}
      },
      "source": [
        "model.load_weights(\"my_model_new.hdf5\")"
      ],
      "execution_count": 0,
      "outputs": []
    },
    {
      "cell_type": "code",
      "metadata": {
        "trusted": true,
        "id": "8sFaan_nj-Rv",
        "colab_type": "code",
        "colab": {}
      },
      "source": [
        "model.compile(loss='binary_crossentropy',\n",
        "              optimizer=Adam(lr=1e-5),\n",
        "              metrics=['accuracy'])"
      ],
      "execution_count": 0,
      "outputs": []
    },
    {
      "cell_type": "code",
      "metadata": {
        "trusted": true,
        "id": "zYwkOj2Aj-R9",
        "colab_type": "code",
        "colab": {},
        "outputId": "e9cdb811-e8d6-452f-9f2e-276206f024ea"
      },
      "source": [
        "test_imgs = []\n",
        "count = 0\n",
        "for img in os.listdir(\"../input/test/test/\"):\n",
        "    test_imgs.append(img)\n",
        "    count+=1\n",
        "test_set = []\n",
        "for i in tqdm(range(count)):\n",
        "    img = image.load_img('../input/test/test/'+ test_imgs[i],target_size=(150,150,3),grayscale=False)\n",
        "    img = image.img_to_array(img)\n",
        "    img = img/255\n",
        "    test_set.append(img)\n",
        "test_set_images = np.array(test_set)\n"
      ],
      "execution_count": 0,
      "outputs": [
        {
          "output_type": "stream",
          "text": [
            "100%|██████████| 4000/4000 [00:03<00:00, 1262.44it/s]\n"
          ],
          "name": "stderr"
        }
      ]
    },
    {
      "cell_type": "code",
      "metadata": {
        "trusted": true,
        "id": "IMGOZtxgj-SF",
        "colab_type": "code",
        "colab": {},
        "outputId": "540b6a2b-754a-43e5-d39d-96c67d1f0819"
      },
      "source": [
        "test_set_images.shape"
      ],
      "execution_count": 0,
      "outputs": [
        {
          "output_type": "execute_result",
          "data": {
            "text/plain": [
              "(4000, 150, 150, 3)"
            ]
          },
          "metadata": {
            "tags": []
          },
          "execution_count": 174
        }
      ]
    },
    {
      "cell_type": "code",
      "metadata": {
        "trusted": true,
        "id": "wo8buv6Rj-SN",
        "colab_type": "code",
        "colab": {}
      },
      "source": [
        "output = model.predict_classes(test_set_images)"
      ],
      "execution_count": 0,
      "outputs": []
    },
    {
      "cell_type": "code",
      "metadata": {
        "trusted": true,
        "id": "_yPIrWfQj-SX",
        "colab_type": "code",
        "colab": {}
      },
      "source": [
        "submission_save = pd.DataFrame()\n",
        "submission_save['id'] = test_imgs\n",
        "submission_save['has_cactus'] = output\n",
        "submission_save.to_csv('submissionV1.0.csv', header=True, index=False)"
      ],
      "execution_count": 0,
      "outputs": []
    }
  ]
}